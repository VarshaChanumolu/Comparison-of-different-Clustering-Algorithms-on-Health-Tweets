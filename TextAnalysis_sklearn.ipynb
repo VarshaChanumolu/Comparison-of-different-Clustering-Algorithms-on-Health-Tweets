{
  "nbformat": 4,
  "nbformat_minor": 0,
  "metadata": {
    "colab": {
      "name": "TextAnalysis sklearn.ipynb",
      "provenance": [],
      "collapsed_sections": [],
      "include_colab_link": true
    },
    "kernelspec": {
      "name": "python3",
      "display_name": "Python 3"
    },
    "language_info": {
      "name": "python"
    }
  },
  "cells": [
    {
      "cell_type": "markdown",
      "metadata": {
        "id": "view-in-github",
        "colab_type": "text"
      },
      "source": [
        "<a href=\"https://colab.research.google.com/github/VarshaChanumolu/Comparison-of-different-Clustering-Algorithms-on-Health-Tweets/blob/main/TextAnalysis_sklearn.ipynb\" target=\"_parent\"><img src=\"https://colab.research.google.com/assets/colab-badge.svg\" alt=\"Open In Colab\"/></a>"
      ]
    },
    {
      "cell_type": "markdown",
      "source": [
        "https://www.kaggle.com/code/viznrvn/text-analysis-on-health-tweets/notebook"
      ],
      "metadata": {
        "id": "9GG9oGcyWiPI"
      }
    },
    {
      "cell_type": "code",
      "execution_count": null,
      "metadata": {
        "colab": {
          "base_uri": "https://localhost:8080/"
        },
        "id": "D-LSCgpqRUPE",
        "outputId": "5898c941-87d7-4b94-c5e8-cace5e8958d5"
      },
      "outputs": [
        {
          "output_type": "stream",
          "name": "stdout",
          "text": [
            "Drive already mounted at /content/drive; to attempt to forcibly remount, call drive.mount(\"/content/drive\", force_remount=True).\n"
          ]
        }
      ],
      "source": [
        "from google.colab import drive\n",
        "drive.mount(\"/content/drive\")"
      ]
    },
    {
      "cell_type": "code",
      "source": [
        "%cd /content/drive/MyDrive/SEM 6/MLCR/Project_MLCR"
      ],
      "metadata": {
        "colab": {
          "base_uri": "https://localhost:8080/"
        },
        "id": "dJ1tWFd6RaMT",
        "outputId": "54056025-081e-4455-bbb5-7275ddf9b543"
      },
      "execution_count": null,
      "outputs": [
        {
          "output_type": "stream",
          "name": "stdout",
          "text": [
            "/content/drive/MyDrive/SEM 6/MLCR/Project_MLCR\n"
          ]
        }
      ]
    },
    {
      "cell_type": "code",
      "source": [
        "import numpy as np\n",
        "import pandas as pd\n",
        "import matplotlib.pyplot as plt\n",
        "from sklearn.feature_extraction.text import TfidfVectorizer\n",
        "import regex as re\n",
        "from sklearn.cluster import KMeans\n",
        "import seaborn as sns"
      ],
      "metadata": {
        "id": "4m1z1v_iRpZ2"
      },
      "execution_count": null,
      "outputs": []
    },
    {
      "cell_type": "code",
      "source": [
        "with open(\"./TextAnalysisOnHealthTweets.txt\") as f:\n",
        "  lines = f.readlines()"
      ],
      "metadata": {
        "id": "iuh-BzqTR6ey"
      },
      "execution_count": null,
      "outputs": []
    },
    {
      "cell_type": "code",
      "source": [
        "lines"
      ],
      "metadata": {
        "colab": {
          "base_uri": "https://localhost:8080/"
        },
        "id": "akHJq5C8STCM",
        "outputId": "8a1b6daf-5983-4ccd-dea1-7efe9a7c9d41"
      },
      "execution_count": null,
      "outputs": [
        {
          "output_type": "execute_result",
          "data": {
            "text/plain": [
              "['585978391360221184|Thu Apr 09 01:31:50 +0000 2015|Breast cancer risk test devised http://bbc.in/1CimpJF\\n',\n",
              " '585947808772960257|Wed Apr 08 23:30:18 +0000 2015|GP workload harming care - BMA poll http://bbc.in/1ChTBRv\\n',\n",
              " \"585947807816650752|Wed Apr 08 23:30:18 +0000 2015|Short people's 'heart risk greater' http://bbc.in/1ChTANp\\n\",\n",
              " \"585866060991078401|Wed Apr 08 18:05:28 +0000 2015|New approach against HIV 'promising' http://bbc.in/1E6jAjt\\n\",\n",
              " \"585794106170839041|Wed Apr 08 13:19:33 +0000 2015|Coalition 'undermined NHS' - doctors http://bbc.in/1CnLwK7\\n\",\n",
              " '585733482413891584|Wed Apr 08 09:18:39 +0000 2015|Review of case against NHS manager http://bbc.in/1Ffj6ci\\n',\n",
              " \"585733481608646657|Wed Apr 08 09:18:39 +0000 2015|VIDEO: 'All day is empty, what am I going to do?' http://bbc.in/1N7wSSz\\n\",\n",
              " \"585701601131765761|Wed Apr 08 07:11:58 +0000 2015|VIDEO: 'Overhaul needed' for end-of-life care http://bbc.in/1CmrRu3\\n\",\n",
              " \"585620828110397440|Wed Apr 08 01:51:00 +0000 2015|Care for dying 'needs overhaul' http://bbc.in/1FdSGrl\\n\",\n",
              " '585437294120677376|Tue Apr 07 13:41:42 +0000 2015|VIDEO: NHS: Labour and Tory key policies http://bbc.in/1Ci5eqD\\n',\n",
              " '585437293399252992|Tue Apr 07 13:41:42 +0000 2015|Have GP services got worse? http://bbc.in/1Ci5c22\\n',\n",
              " '585376127931129857|Tue Apr 07 09:38:39 +0000 2015|A&amp;E waiting hits new worst level http://bbc.in/1Fa4Xgz\\n',\n",
              " '585283574888206336|Tue Apr 07 03:30:52 +0000 2015|Parties row over GP opening hours http://bbc.in/1CfcVOb\\n',\n",
              " '585231549819330560|Tue Apr 07 00:04:09 +0000 2015|Why strenuous runs may not be so bad after all http://bbc.in/1Ceq0Y7\\n',\n",
              " '584985578074050560|Mon Apr 06 07:46:44 +0000 2015|VIDEO: Health surcharge for non-EU patients http://bbc.in/1C5Mlbk\\n',\n",
              " \"584985576962592768|Mon Apr 06 07:46:44 +0000 2015|VIDEO: Skin cancer spike 'from 60s holidays' http://bbc.in/1C9Gy3o\\n\",\n",
              " \"584901557218480129|Mon Apr 06 02:12:52 +0000 2015|80,000 'might die' in future outbreak http://bbc.in/1F3nif2\\n\",\n",
              " \"584893680747585537|Mon Apr 06 01:41:34 +0000 2015|Skin cancer 'linked to holiday boom' http://bbc.in/1Pb4Xjb\\n\",\n",
              " \"584140478720811008|Fri Apr 03 23:48:37 +0000 2015|Public 'back tax rises to fund NHS' http://bbc.in/1ETauYE\\n\",\n",
              " '584140477718339584|Fri Apr 03 23:48:37 +0000 2015|VIDEO: Welcome to the designer asylum http://bbc.in/1CD3Dip\\n',\n",
              " '583959459589824513|Fri Apr 03 11:49:19 +0000 2015|VIDEO: Why are we having less sex? http://bbc.in/19RKqiY\\n',\n",
              " '583837541373059073|Fri Apr 03 03:44:51 +0000 2015|Five ideas to transform the NHS http://bbc.in/1BTQU7k\\n',\n",
              " \"583784740064337920|Fri Apr 03 00:15:02 +0000 2015|Personal cancer vaccines 'exciting' http://bbc.in/1ENwsMD\\n\",\n",
              " \"583770728090112000|Thu Apr 02 23:19:22 +0000 2015|Child heart surgery deaths 'halved' http://bbc.in/1BT4s2U\\n\",\n",
              " \"583745704021008384|Thu Apr 02 21:39:55 +0000 2015|VIDEO: Miliband: Cameron 'failed' the NHS http://bbc.in/1BSKo0T\\n\",\n",
              " \"583659491310219264|Thu Apr 02 15:57:21 +0000 2015|Unsafe food 'growing global threat' http://bbc.in/1BREQDJ\\n\",\n",
              " '583616089340280832|Thu Apr 02 13:04:53 +0000 2015|Health highlights http://bbc.in/1EKlFCK\\n',\n",
              " \"583550348352212992|Thu Apr 02 08:43:39 +0000 2015|Ambulance progress 'not fast enough' http://bbc.in/1P1AJyX\\n\",\n",
              " '583406140337164288|Wed Apr 01 23:10:37 +0000 2015|Childrenâ€™s hospital builds sleep app http://bbc.in/1BO9jlZ\\n',\n",
              " \"583406139561250816|Wed Apr 01 23:10:37 +0000 2015|Drug giant 'blocks' eye treatment http://bbc.in/1P0rpv2\\n\",\n",
              " \"583398284166733824|Wed Apr 01 22:39:24 +0000 2015|Blood test for Down's syndrome hailed http://bbc.in/1BO3eWQ\\n\",\n",
              " \"583398283441119232|Wed Apr 01 22:39:24 +0000 2015|VIDEO: 'We must plan for future of NHS' http://bbc.in/1BRNoeJ\\n\",\n",
              " \"583054276848582656|Tue Mar 31 23:52:26 +0000 2015|Paracetamol â€˜no good for back pain' http://bbc.in/1MvP0oO\\n\",\n",
              " \"583054275237978113|Tue Mar 31 23:52:26 +0000 2015|Care system 'gets biggest shake-up' http://bbc.in/19Ad4Vy\\n\",\n",
              " '583054274554245120|Tue Mar 31 23:52:26 +0000 2015|VIDEO: Could existing drugs offer MS hope? http://bbc.in/1OWzSPT\\n',\n",
              " \"582968831796207616|Tue Mar 31 18:12:55 +0000 2015|MS drug 'may already be out there' http://bbc.in/1BIUAZx\\n\",\n",
              " '582824135799140352|Tue Mar 31 08:37:56 +0000 2015|VIDEO: Nursing code of conduct launched http://bbc.in/1BLrny7\\n',\n",
              " \"582807922549256193|Tue Mar 31 07:33:31 +0000 2015|VIDEO: Disability village 'under threat' http://bbc.in/1BLlj8L\\n\",\n",
              " '582729504533049344|Tue Mar 31 02:21:55 +0000 2015|Uganda circumcision truck fights HIV http://bbc.in/1BKT2iJ\\n',\n",
              " '582687699485622272|Mon Mar 30 23:35:48 +0000 2015|More veterans seek mental health aid http://bbc.in/1DhbCnf\\n',\n",
              " \"582687698772623361|Mon Mar 30 23:35:47 +0000 2015|E-cigarette use 'high among teens' http://bbc.in/1DhbCn6\\n\",\n",
              " \"582554028736843777|Mon Mar 30 14:44:38 +0000 2015|Medieval eye remedy 'kills MRSA' http://bbc.in/1ysI93N\\n\",\n",
              " '582323221908709378|Sun Mar 29 23:27:29 +0000 2015|Parents rarely spot child obesity http://bbc.in/1G0J4Ag\\n',\n",
              " '582167316806287360|Sun Mar 29 13:07:59 +0000 2015|VIDEO: Vaccine to protect from meningitis B http://bbc.in/1MjhH8r\\n',\n",
              " '581988293006344194|Sun Mar 29 01:16:36 +0000 2015|Chikungunya revives herbal remedies in Antigua http://bbc.in/1BGLzBf\\n',\n",
              " '581988292343635968|Sun Mar 29 01:16:36 +0000 2015|The Bolivian women who knit parts for hearts http://bbc.in/1BGLzBc\\n',\n",
              " '581988291639021568|Sun Mar 29 01:16:36 +0000 2015|Meningitis B vaccine deal agreed http://bbc.in/1BGLzB7\\n',\n",
              " '581977670692388864|Sun Mar 29 00:34:23 +0000 2015|VIDEO: Life-saving knitters http://bbc.in/1EimW3I\\n',\n",
              " \"581971363017007104|Sun Mar 29 00:09:20 +0000 2015|Guinea declares Ebola 'emergency' http://bbc.in/1BGsCyB\\n\",\n",
              " \"581866645477412864|Sat Mar 28 17:13:13 +0000 2015|VIDEO: BMA warning on 'seven-day NHS' plan http://bbc.in/1D0zkUv\\n\",\n",
              " \"581641608959037440|Sat Mar 28 02:19:00 +0000 2015|'Rise in child mental health issues' http://bbc.in/1MebDOt\\n\",\n",
              " \"581641608023560192|Sat Mar 28 02:19:00 +0000 2015|Tories to pledge 'seven-day NHS' http://bbc.in/1CVTVtd\\n\",\n",
              " '581634265885999104|Sat Mar 28 01:49:49 +0000 2015|VIDEO: Military healthcare worker free of Ebola http://bbc.in/1I1miW9\\n',\n",
              " \"581516484465152000|Fri Mar 27 18:01:48 +0000 2015|NHS: Labour's private profits cap http://bbc.in/1yjLmm0\\n\",\n",
              " '581491891964755968|Fri Mar 27 16:24:05 +0000 2015|British medic declared free of Ebola http://bbc.in/1HXxtiN\\n',\n",
              " '581430125406769152|Fri Mar 27 12:18:39 +0000 2015|Labour to cap private profits in NHS http://bbc.in/1H4Yalx\\n',\n",
              " '581412942505115650|Fri Mar 27 11:10:22 +0000 2015|Sierra Leone in Ebola lockdown http://bbc.in/1yhUzvi\\n',\n",
              " '581362817833398272|Fri Mar 27 07:51:11 +0000 2015|VIDEO: Sitting down poses health risk http://bbc.in/1HPBSaV\\n',\n",
              " '581317068831637504|Fri Mar 27 04:49:24 +0000 2015|VIDEO: Diarrhoea killing poorest children http://bbc.in/1BwOLzp\\n',\n",
              " \"581278941442240513|Fri Mar 27 02:17:53 +0000 2015|Office workers 'too sedentary' http://bbc.in/1H2rWaw\\n\",\n",
              " \"581278940599173120|Fri Mar 27 02:17:53 +0000 2015|NHS medical accidents unit 'needed' http://bbc.in/1H2rWar\\n\",\n",
              " '581278939869421569|Fri Mar 27 02:17:53 +0000 2015|Fitness linked to lower cancer risk http://bbc.in/1M849wo\\n',\n",
              " \"581126531411398656|Thu Mar 26 16:12:16 +0000 2015|Indiana emergency for HIV 'epidemic' http://bbc.in/1BtjNbi\\n\",\n",
              " '581085280116953088|Thu Mar 26 13:28:21 +0000 2015|First Europe non-beating heart swap http://bbc.in/1GswybC\\n',\n",
              " '581023418461462529|Thu Mar 26 09:22:32 +0000 2015|VIDEO: What makes a healthy high street? http://bbc.in/1yb9uar\\n',\n",
              " \"581011618693132288|Thu Mar 26 08:35:39 +0000 2015|VIDEO: NHS England 'deteriorating' http://bbc.in/1GqG2nW\\n\",\n",
              " \"580990290644729858|Thu Mar 26 07:10:54 +0000 2015|VIDEO: 'Sport must act on mental health' http://bbc.in/1GqwCsz\\n\",\n",
              " \"580934925391523841|Thu Mar 26 03:30:54 +0000 2015|'Unhealthiest High Streets' revealed http://bbc.in/1M1BBEK\\n\",\n",
              " \"580917156436533248|Thu Mar 26 02:20:17 +0000 2015|NHS problems worst 'since 1990s' http://bbc.in/1BpQPch\\n\",\n",
              " \"580917155459252224|Thu Mar 26 02:20:17 +0000 2015|DNA of 'an entire nation' assessed http://bbc.in/1BpQMx6\\n\",\n",
              " \"580844938654437376|Wed Mar 25 21:33:19 +0000 2015|Ebola 'more deadly' in young children http://bbc.in/1GW0Gu0\\n\",\n",
              " '580644387417264128|Wed Mar 25 08:16:24 +0000 2015|Contaminated blood probe report due http://bbc.in/1Gj7ZOj\\n',\n",
              " '580563917786750976|Wed Mar 25 02:56:39 +0000 2015|Antibiotic use linked to diabetes http://bbc.in/1Gh6mAF\\n',\n",
              " \"580550996977405953|Wed Mar 25 02:05:18 +0000 2015|Approach to obesity 'inexplicable' http://bbc.in/1HC2g85\\n\",\n",
              " \"580550994687336448|Wed Mar 25 02:05:17 +0000 2015|Air pollution 'link to stroke risk' http://bbc.in/1HC2g7X\\n\",\n",
              " \"580430006679134209|Tue Mar 24 18:04:32 +0000 2015|Ex-carers 'too little travel time' http://bbc.in/1LTsKF8\\n\",\n",
              " \"580430003944460288|Tue Mar 24 18:04:31 +0000 2015|Three IVF cycles a 'no-brainer' http://bbc.in/1GQpGD4\\n\",\n",
              " '580348121164611584|Tue Mar 24 12:39:09 +0000 2015|Has Ebola focus led to other killer diseases being ignored? http://bbc.in/1y0v1CA\\n',\n",
              " '580330999541682176|Tue Mar 24 11:31:06 +0000 2015|Preventive surgery for cancer genes http://bbc.in/1Gcd0IA\\n',\n",
              " '580297380173459456|Tue Mar 24 09:17:31 +0000 2015|VIDEO: How one US school is battling obesity http://bbc.in/1DS7Gua\\n',\n",
              " '580280816879546368|Tue Mar 24 08:11:42 +0000 2015|Angelina Jolie has ovaries removed http://bbc.in/1Gb99vn\\n',\n",
              " \"580265686762557440|Tue Mar 24 07:11:35 +0000 2015|VIDEO: Dr Radha's guide to a healthy diet http://bbc.in/1HuFsn2\\n\",\n",
              " \"580209041055440898|Tue Mar 24 03:26:29 +0000 2015|Methadone programme 'a black hole' http://bbc.in/1HtW1zE\\n\",\n",
              " '580209040313057280|Tue Mar 24 03:26:29 +0000 2015|Hospital mental health absences rise http://bbc.in/1HtVZb1\\n',\n",
              " '580045723342761984|Mon Mar 23 16:37:31 +0000 2015|VIDEO: Could cannabis oil cure cancer? http://bbc.in/1DPcgcE\\n',\n",
              " \"580045722554273792|Mon Mar 23 16:37:31 +0000 2015|'Eat rice cold for fewer calories' http://bbc.in/1GLFMOk\\n\",\n",
              " \"579993544187723776|Mon Mar 23 13:10:11 +0000 2015|UK medics 'had humanitarian motives' http://bbc.in/1G4Oxoy\\n\",\n",
              " \"579976887465742336|Mon Mar 23 12:04:00 +0000 2015|VIDEO: Half of children 'not eating healthily' http://bbc.in/1DO1u6w\\n\",\n",
              " \"579953349790842880|Mon Mar 23 10:30:28 +0000 2015|Ashya King 'free of brain cancer' http://bbc.in/1G3XMW6\\n\",\n",
              " '579914329471905792|Mon Mar 23 07:55:25 +0000 2015|VIDEO: Charity slams global Ebola response http://bbc.in/1LMYlYT\\n',\n",
              " \"579874731895046144|Mon Mar 23 05:18:04 +0000 2015|Hospital staff 'act above pay grade' http://bbc.in/1GJlBAo\\n\",\n",
              " '579846572655054848|Mon Mar 23 03:26:10 +0000 2015|Disease-carrying mosquitoes warning http://bbc.in/1xSknOi\\n',\n",
              " '579846571518398464|Mon Mar 23 03:26:10 +0000 2015|How Ebola changed the world http://bbc.in/1G1ZozC\\n',\n",
              " \"579846570834673667|Mon Mar 23 03:26:10 +0000 2015|Early call for Ebola help 'ignored' http://bbc.in/1xSknxY\\n\",\n",
              " \"579476223958487040|Sun Mar 22 02:54:32 +0000 2015|Asia's deadly secret: The scourge of the betel nut http://bbc.in/1HjNAtS\\n\",\n",
              " \"579262778772307969|Sat Mar 21 12:46:23 +0000 2015|VIDEO: Hunt 'hopeful' of Men B jab deal http://bbc.in/1Hfvw4e\\n\",\n",
              " '579216074110976000|Sat Mar 21 09:40:48 +0000 2015|VIDEO: Criticism of Men B vaccine delay http://bbc.in/1AUA20T\\n',\n",
              " '579122818937278464|Sat Mar 21 03:30:14 +0000 2015|Campaigners make Men B vaccine plea http://bbc.in/1CELp1n\\n',\n",
              " '578929663235358720|Fri Mar 20 14:42:42 +0000 2015|VIDEO: Conned IVF husband wins damages http://bbc.in/1CBMqHx\\n',\n",
              " '578863091569422336|Fri Mar 20 10:18:10 +0000 2015|VIDEO: What can make you happy? http://bbc.in/1FIUHum\\n',\n",
              " \"578799146284367872|Fri Mar 20 06:04:04 +0000 2015|Mental health budgets 'cut by 8%' http://bbc.in/1B8UOJb\\n\",\n",
              " \"578763362697236480|Fri Mar 20 03:41:53 +0000 2015|'Ebola-proof' tablet device developed http://bbc.in/1B8y2B6\\n\",\n",
              " '578614634426470400|Thu Mar 19 17:50:53 +0000 2015|VIDEO: Young carer Elle describes challenges http://bbc.in/1AKGes9\\n',\n",
              " '578538639270944768|Thu Mar 19 12:48:54 +0000 2015|VIDEO: Toxic smog prompts health warning http://bbc.in/1B4woke\\n',\n",
              " \"578521837535031296|Thu Mar 19 11:42:09 +0000 2015|'Half of children have tooth decay' http://bbc.in/1B4mNcY\\n\",\n",
              " \"578392182001836032|Thu Mar 19 03:06:56 +0000 2015|Blood test 'could cut antibiotics' http://bbc.in/1FGfqi8\\n\",\n",
              " '578245454342680576|Wed Mar 18 17:23:54 +0000 2015|New global fund for tobacco control http://bbc.in/1GXRp4y\\n',\n",
              " \"578227755038351360|Wed Mar 18 16:13:34 +0000 2015|Doctors in 'no confidence' vote http://bbc.in/1AFsChV\\n\",\n",
              " '578030445591302144|Wed Mar 18 03:09:32 +0000 2015|Morbidly obese could get free flu jab http://bbc.in/1AD6cxG\\n',\n",
              " \"578030445050269696|Wed Mar 18 03:09:32 +0000 2015|Breastfeeding 'linked to higher IQ' http://bbc.in/1AWx2Qz\\n\",\n",
              " \"578030444769251329|Wed Mar 18 03:09:31 +0000 2015|Privately-run hospital scheme 'poor' http://bbc.in/1AD6cxD\\n\",\n",
              " '578030444332986368|Wed Mar 18 03:09:31 +0000 2015|Morbidly obese could get free flu jab http://bbc.in/1AWx2Qu\\n',\n",
              " '578030444026826752|Wed Mar 18 03:09:31 +0000 2015|Has the war on drugs been lost? http://bbc.in/1AD6a95\\n',\n",
              " '578030443624165376|Wed Mar 18 03:09:31 +0000 2015|Has the war on drugs been lost? http://bbc.in/1DzQoBT\\n',\n",
              " \"577860749214666752|Tue Mar 17 15:55:13 +0000 2015|'Selfie danger' during solar eclipse http://bbc.in/1BMPxL0\\n\",\n",
              " \"577825347107860480|Tue Mar 17 13:34:32 +0000 2015|VIDEO: Child mental health services 'broken' http://bbc.in/1Dwt6gm\\n\",\n",
              " '577825346331889664|Tue Mar 17 13:34:32 +0000 2015|Dentist probe patients contract virus http://bbc.in/1AT9ZGh\\n',\n",
              " '577800846164914177|Tue Mar 17 11:57:11 +0000 2015|VIDEO: Why did my partner take his own life? http://bbc.in/1Fv0zHh\\n',\n",
              " '577800658352365569|Tue Mar 17 11:56:26 +0000 2015|NHS trust put into special measures http://bbc.in/1BMevKo\\n',\n",
              " \"577800657605828609|Tue Mar 17 11:56:26 +0000 2015|VIDEO: Burnham on mental health 'scandal' http://bbc.in/1Dw0BiS\\n\",\n",
              " \"577800656863371265|Tue Mar 17 11:56:26 +0000 2015|VIDEO: 'Pharmacists are extremely skilled' http://bbc.in/1Ln6GSY\\n\",\n",
              " \"577744543681933313|Tue Mar 17 08:13:27 +0000 2015|VIDEO: Child mental health 'needs overhaul' http://bbc.in/1DvuBv8\\n\",\n",
              " \"577744543006662656|Tue Mar 17 08:13:27 +0000 2015|VIDEO: Pharmacists 'should support GPs' http://bbc.in/1ARTfiP\\n\",\n",
              " \"577630861090131968|Tue Mar 17 00:41:43 +0000 2015|'Army of pharmacists' to help GPs http://bbc.in/1LkWXg1\\n\",\n",
              " \"577630860096118784|Tue Mar 17 00:41:43 +0000 2015|Child mental health 'faces overhaul' http://bbc.in/1BL5yRr\\n\",\n",
              " '577449953452126208|Mon Mar 16 12:42:52 +0000 2015|Ebola: Seventh Brit sent home http://bbc.in/1FrJDBL\\n',\n",
              " '577419471905681409|Mon Mar 16 10:41:44 +0000 2015|VIDEO: Mother warns over Meningitis W http://bbc.in/1GKZQ39\\n',\n",
              " \"577382554774310912|Mon Mar 16 08:15:02 +0000 2015|'Flying doctors' fleet unveiled http://bbc.in/1Fr8VzO\\n\",\n",
              " \"577382554103222272|Mon Mar 16 08:15:02 +0000 2015|Inactive child 'will be couch potato' http://bbc.in/1DpZ123\\n\",\n",
              " \"577291280369090560|Mon Mar 16 02:12:21 +0000 2015|Pioneering surgery 'saves bowels' http://bbc.in/1FqoFmC\\n\",\n",
              " \"576976341200842752|Sun Mar 15 05:20:54 +0000 2015|Parents face special needs 'lottery' http://bbc.in/18qPDNR\\n\",\n",
              " \"576940420350885888|Sun Mar 15 02:58:09 +0000 2015|Lack of sleep 'link to diabetes' http://bbc.in/1Dm3iUf\\n\",\n",
              " \"576919367981535232|Sun Mar 15 01:34:30 +0000 2015|'Improve end-of-life care for all' http://bbc.in/1Fn4gip\\n\",\n",
              " '576839617577529344|Sat Mar 14 20:17:36 +0000 2015|VIDEO: Mental health spending boost http://bbc.in/1ADfQ2o\\n',\n",
              " \"576626826828648449|Sat Mar 14 06:12:03 +0000 2015|Mental health 'to get funding boost' http://bbc.in/18mgESM\\n\",\n",
              " \"576581969103847424|Sat Mar 14 03:13:48 +0000 2015|Testosterone boost 'could cut deaths' http://bbc.in/1FbZbsP\\n\",\n",
              " '576538410971631616|Sat Mar 14 00:20:43 +0000 2015|VIDEO: The art of microbes http://bbc.in/1BD9KTr\\n',\n",
              " \"576442244531519488|Fri Mar 13 17:58:35 +0000 2015|VIDEO: Hospitals 'struggling' with A&amp;E targets http://bbc.in/1Fj8l7e\\n\",\n",
              " \"576442243797491712|Fri Mar 13 17:58:35 +0000 2015|First 'successful' penis transplant http://bbc.in/1GApgjK\\n\",\n",
              " '576391333520142336|Fri Mar 13 14:36:17 +0000 2015|VIDEO: British Ebola workers under observation http://bbc.in/1FiDveU\\n',\n",
              " '576391332471537664|Fri Mar 13 14:36:17 +0000 2015|Scarlet fever cases reach new high http://bbc.in/1FiDveS\\n',\n",
              " '576374038592815106|Fri Mar 13 13:27:33 +0000 2015|Vaccine plan for meningitis rise http://bbc.in/1DeQ63t\\n',\n",
              " '576374037770719232|Fri Mar 13 13:27:33 +0000 2015|How bad has winter been for the NHS? http://bbc.in/1HRHOgL\\n',\n",
              " '576349890013372416|Fri Mar 13 11:51:36 +0000 2015|A&amp;E target missed whole of winter http://bbc.in/1HRbf2h\\n',\n",
              " \"576326503958384640|Fri Mar 13 10:18:40 +0000 2015|Union calls 'incident' move a stunt http://bbc.in/1L5YZk3\\n\",\n",
              " \"576318700468355072|Fri Mar 13 09:47:40 +0000 2015|VIDEO: 'My daughter might not have died' http://bbc.in/1De4bhk\\n\",\n",
              " '576318698903855104|Fri Mar 13 09:47:39 +0000 2015|Measles fear for Ebola-hit countries http://bbc.in/1FhTZ7d\\n',\n",
              " \"576237200905392128|Fri Mar 13 04:23:49 +0000 2015|Best hospitals 'now struggling' http://bbc.in/1HPfI5R\\n\",\n",
              " \"576082434338332672|Thu Mar 12 18:08:50 +0000 2015|VIDEO: Sir Terry Pratchett's legacy to research http://bbc.in/1HLyBGF\\n\",\n",
              " '575911197217677314|Thu Mar 12 06:48:23 +0000 2015|RAF flight to help UK Ebola patient http://bbc.in/1D8Gkjg\\n',\n",
              " '575811943363018752|Thu Mar 12 00:14:00 +0000 2015|MPs criticise England cancer services http://bbc.in/1HFzjoP\\n',\n",
              " '575811942725484544|Thu Mar 12 00:13:59 +0000 2015|Why not introduce more NHS charges? http://bbc.in/1HFzm44\\n',\n",
              " '575733376331599873|Wed Mar 11 19:01:48 +0000 2015|The NHS - a powerhouse for new medicines? http://bbc.in/1KXHq5J\\n',\n",
              " '575717029673443329|Wed Mar 11 17:56:50 +0000 2015|UK military health worker has Ebola http://bbc.in/1BxfjTg\\n',\n",
              " '575700738459881472|Wed Mar 11 16:52:06 +0000 2015|MPs back standardised cigarette packs http://bbc.in/1HCTgwo\\n',\n",
              " '575700737323216896|Wed Mar 11 16:52:06 +0000 2015|Brain injury birth mum awarded Â£5m http://bbc.in/1HCTgg2\\n',\n",
              " '575683226250833920|Wed Mar 11 15:42:31 +0000 2015|Are anti-smoking measures working? http://bbc.in/1Fb1Enz\\n',\n",
              " '575683225567125504|Wed Mar 11 15:42:31 +0000 2015|VIDEO: Lucas questions NHS spending priorities http://bbc.in/1Fb1BIA\\n',\n",
              " \"575639794790756352|Wed Mar 11 12:49:56 +0000 2015|Using legal highs 'got worse and worse' http://bbc.in/1D4YTEO\\n\",\n",
              " '575467669828169728|Wed Mar 11 01:25:58 +0000 2015|Cigarette plain packaging vote due http://bbc.in/1Hy9aZ1\\n',\n",
              " \"575456489155915776|Wed Mar 11 00:41:33 +0000 2015|VIDEO: Living with early-onset Alzheimer's http://bbc.in/1Gpm5LQ\\n\",\n",
              " \"575285787593338881|Tue Mar 10 13:23:14 +0000 2015|Starting gun 'fired' on new NHS http://bbc.in/1Huc6WD\\n\",\n",
              " \"575268182417522688|Tue Mar 10 12:13:17 +0000 2015|VIDEO: Menopause 'not supported in workplaces' http://bbc.in/1F6yxC3\\n\",\n",
              " \"575102247924711424|Tue Mar 10 01:13:55 +0000 2015|HRT-users 'may risk clots and stroke' http://bbc.in/1CXFzcw\\n\",\n",
              " '574968589570043905|Mon Mar 09 16:22:48 +0000 2015|Hunt for new obesity pills http://bbc.in/1HnG66y\\n',\n",
              " '574882975118028800|Mon Mar 09 10:42:36 +0000 2015|Are Rwandans healthier than the English? http://bbc.in/1EJEbt9\\n',\n",
              " \"574767232238014465|Mon Mar 09 03:02:41 +0000 2015|Warning over young diabetics' health http://bbc.in/1HjY0qC\\n\",\n",
              " \"574767231462080512|Mon Mar 09 03:02:41 +0000 2015|C-section rates 'vary widely' in EU http://bbc.in/1HjY0al\\n\",\n",
              " '574407194961039360|Sun Mar 08 03:12:01 +0000 2015|Frankie the dog â€˜sniffs out cancerâ€™ http://bbc.in/1COjVHM\\n',\n",
              " \"574058889936658432|Sat Mar 07 04:07:59 +0000 2015|NHS 'whistleblower' demands new job http://bbc.in/1CK3yMm\\n\",\n",
              " \"573988972927451136|Fri Mar 06 23:30:10 +0000 2015|'No restrictions' on Ebola nurse http://bbc.in/1CJeVnV\\n\",\n",
              " '573949643375054848|Fri Mar 06 20:53:53 +0000 2015|VIDEO: New mental health rights proposed http://bbc.in/1H8kD1m\\n',\n",
              " \"573856022428696577|Fri Mar 06 14:41:52 +0000 2015|Low-fat diet 'burns more fat' http://bbc.in/1CH7H3L\\n\",\n",
              " '573691146146160640|Fri Mar 06 03:46:42 +0000 2015|Disrupting chemicals â€˜cost billionsâ€™ http://bbc.in/1H3a7Z4\\n',\n",
              " '573682736147251202|Fri Mar 06 03:13:17 +0000 2015|New mental health rights proposed http://bbc.in/1CECwpM\\n',\n",
              " \"573655295827693568|Fri Mar 06 01:24:15 +0000 2015|VIDEO: Child star with Down's syndrome back on TV http://bbc.in/1G3WJTi\\n\",\n",
              " \"573647723712262144|Fri Mar 06 00:54:09 +0000 2015|End 'fixation' with A&amp;E wait target http://bbc.in/1ErRmyP\\n\",\n",
              " '573579795683913728|Thu Mar 05 20:24:14 +0000 2015|VIDEO: App guides blind people on the Tube http://bbc.in/1zQA5t0\\n',\n",
              " '573563306377506817|Thu Mar 05 19:18:43 +0000 2015|Technology helps visually impaired navigate the Tube http://bbc.in/1EqND4v\\n',\n",
              " '573529327712608256|Thu Mar 05 17:03:42 +0000 2015|Prisons face smoking ban prosecution http://bbc.in/1EQF8Ai\\n',\n",
              " \"573434974583431168|Thu Mar 05 10:48:46 +0000 2015|VIDEO: Meningitis: 'No one should go through this pain' http://bbc.in/1zNNpOY\\n\",\n",
              " \"573429330765684736|Thu Mar 05 10:26:20 +0000 2015|Liberia 'Ebola-free' for one week http://bbc.in/1DYqS6Z\\n\",\n",
              " '573359326955364352|Thu Mar 05 05:48:10 +0000 2015|Hospital crisis hit 900 operations http://bbc.in/1CzqSwg\\n',\n",
              " \"573288164665659392|Thu Mar 05 01:05:24 +0000 2015|Billions 'have untreated tooth decay' http://bbc.in/1GUUQcG\\n\",\n",
              " \"573288163797413888|Thu Mar 05 01:05:24 +0000 2015|Plumbers 'should report cold homes' http://bbc.in/1GUUPWn\\n\",\n",
              " \"573176016853602304|Wed Mar 04 17:39:46 +0000 2015|Autism appears 'largely genetic' http://bbc.in/1DVgxbP\\n\",\n",
              " \"573143143169716224|Wed Mar 04 15:29:08 +0000 2015|VIDEO: 'Cancer target missed for 20,000 people' http://bbc.in/1KiQ26q\\n\",\n",
              " '573118626405879810|Wed Mar 04 13:51:43 +0000 2015|VIDEO: Fears for future of Ebola orphanage http://bbc.in/1GRVSX0\\n',\n",
              " '573102324085760000|Wed Mar 04 12:46:56 +0000 2015|Is another NHS scandal brewing? http://bbc.in/1CvlV7I\\n',\n",
              " '572969138622107648|Wed Mar 04 03:57:42 +0000 2015|Clegg in drug law election pledge http://bbc.in/1Ctz01m\\n',\n",
              " \"572923555563757568|Wed Mar 04 00:56:34 +0000 2015|Adults get flu 'every five years' http://bbc.in/1CsNTRw\\n\",\n",
              " \"572923554661990400|Wed Mar 04 00:56:34 +0000 2015|Care workers 'being short changed' http://bbc.in/1CsNTRs\\n\",\n",
              " '572923552262967296|Wed Mar 04 00:56:33 +0000 2015|VIDEO: The man who changed parenting http://bbc.in/1ELkMsg\\n',\n",
              " '572868515734036483|Tue Mar 03 21:17:52 +0000 2015|Tablet video game combats lazy eye http://bbc.in/1DHlsKO\\n',\n",
              " '572830826687283201|Tue Mar 03 18:48:06 +0000 2015|VIDEO: How much coffee is good for you? http://bbc.in/1DQf46H\\n',\n",
              " '572814585809399808|Tue Mar 03 17:43:34 +0000 2015|Unison votes to accept NHS pay deal http://bbc.in/1wRwgUc\\n',\n",
              " '572798386262429696|Tue Mar 03 16:39:12 +0000 2015|Formal end to NI child heart surgery http://bbc.in/1EJS6Qp\\n',\n",
              " '572798385398235136|Tue Mar 03 16:39:11 +0000 2015|Hospital investigation cost Â£19.5m http://bbc.in/1EJS4Yz\\n',\n",
              " \"572719337179516929|Tue Mar 03 11:25:05 +0000 2015|Cancer drug patient's England move http://bbc.in/1EIZifB\\n\",\n",
              " '572704773729734656|Tue Mar 03 10:27:13 +0000 2015|A&amp;E waiting time targets missed http://bbc.in/1DCSvQg\\n',\n",
              " '572704773071192064|Tue Mar 03 10:27:12 +0000 2015|$80m for Sierra Leone to fight Ebola http://bbc.in/1Edn4Ql\\n',\n",
              " '572570056443346945|Tue Mar 03 01:31:53 +0000 2015|Baby deaths inquiry report due http://bbc.in/1DMp3tz\\n',\n",
              " \"572563022742364160|Tue Mar 03 01:03:56 +0000 2015|Coffee linked to 'cleaner' arteries http://bbc.in/1GJMcxQ\\n\",\n",
              " '572483768163819520|Mon Mar 02 19:49:01 +0000 2015|VIDEO: Hidden victims of the Ebola crisis http://bbc.in/1B2YZcI\\n',\n",
              " '572316199926702081|Mon Mar 02 08:43:09 +0000 2015|GP shortages put pressure on doctors http://bbc.in/1GFQCWu\\n',\n",
              " '572308698271367168|Mon Mar 02 08:13:21 +0000 2015|New GP deal allows more caring time http://bbc.in/1EEKzST\\n',\n",
              " '572257187227029504|Mon Mar 02 04:48:40 +0000 2015|Drug drivers targeted by new rules http://bbc.in/1wHxVvA\\n',\n",
              " \"572257186564329472|Mon Mar 02 04:48:39 +0000 2015|Child health 'an election issue' http://bbc.in/1EEgJOb\\n\",\n",
              " '572257185834520576|Mon Mar 02 04:48:39 +0000 2015|Are humans getting cleverer? http://bbc.in/1Cgl0I7\\n',\n",
              " '571872397336322049|Sun Mar 01 03:19:39 +0000 2015|Concern over online gonorrhoea care http://bbc.in/1LYEEdn\\n',\n",
              " '571502119234084864|Sat Feb 28 02:48:17 +0000 2015|Distinct ME stages found, says study http://bbc.in/1BKmHxX\\n',\n",
              " \"571502118445576194|Sat Feb 28 02:48:17 +0000 2015|Why Sam's 'wobbly brain' is important http://bbc.in/1BKmFGe\\n\",\n",
              " '571474358025117696|Sat Feb 28 00:57:59 +0000 2015|VIDEO: Improving palliative care in Mexico http://bbc.in/1FHxYMP\\n',\n",
              " \"571321695933325312|Fri Feb 27 14:51:21 +0000 2015|Cut music to 'an hour a day' - WHO http://bbc.in/1C48DyB\\n\",\n",
              " \"571305585758449664|Fri Feb 27 13:47:20 +0000 2015|'Devo Manc' and the NHS http://bbc.in/1LR9wMP\\n\",\n",
              " \"571290290234875904|Fri Feb 27 12:46:33 +0000 2015|Start date for 'Devo Manc' NHS plan http://bbc.in/1FDMK74\\n\",\n",
              " \"571149022162866176|Fri Feb 27 03:25:12 +0000 2015|Leukaemia changes 'almost inevitable' http://bbc.in/1wnqwBw\\n\",\n",
              " '570983281673416705|Thu Feb 26 16:26:37 +0000 2015|Man sentenced for doctor CV changes http://bbc.in/1LMv2Cj\\n',\n",
              " \"570969540642779136|Thu Feb 26 15:32:01 +0000 2015|Savile: Why the risks are real in today's NHS http://bbc.in/1BZteV0\\n\",\n",
              " \"570881970634256384|Thu Feb 26 09:44:02 +0000 2015|Savile 'abused 63 people at hospital' http://bbc.in/1BYjuKy\\n\",\n",
              " \"570871180527161344|Thu Feb 26 09:01:10 +0000 2015|VIDEO: Dementia 'like having a small child' http://bbc.in/1ByxWJM\\n\",\n",
              " '570771030869876737|Thu Feb 26 02:23:12 +0000 2015|Call to ban energy drinks for kids http://bbc.in/1BwVLkU\\n',\n",
              " '570771030190399488|Thu Feb 26 02:23:12 +0000 2015|Dispute over outdoor smoking ban call http://bbc.in/1BwVL4F\\n',\n",
              " \"570719925427445760|Wed Feb 25 23:00:08 +0000 2015|Hospital staff 'told of Savile abuse' http://bbc.in/1wfftKp\\n\",\n",
              " \"570610024386404352|Wed Feb 25 15:43:25 +0000 2015|Analysis: An HIV 'game changer'? http://bbc.in/1BttLi8\\n\",\n",
              " \"570552516464611328|Wed Feb 25 11:54:54 +0000 2015|WHO 'taken aback' by measles outbreaks http://bbc.in/1Bs8tl8\\n\",\n",
              " \"570530151504613378|Wed Feb 25 10:26:02 +0000 2015|'Don't cut other areas to fund NHS' http://bbc.in/1wc9PZF\\n\",\n",
              " '570530150602780672|Wed Feb 25 10:26:02 +0000 2015|VIDEO: Flu scientists defend vaccine choice http://bbc.in/1wc9PZx\\n',\n",
              " '570484648360484864|Wed Feb 25 07:25:13 +0000 2015|VIDEO: Health devolution for Greater Manchester http://bbc.in/1wbpiJe\\n',\n",
              " \"570396705297793024|Wed Feb 25 01:35:46 +0000 2015|Depression 'link' to violent crime http://bbc.in/1LBe9sz\\n\",\n",
              " \"570396704584806400|Wed Feb 25 01:35:46 +0000 2015|Skin test spots Alzheimer's disease http://bbc.in/1BQ8NJY\\n\",\n",
              " \"570344598008016896|Tue Feb 24 22:08:43 +0000 2015|'Give HIV drugs to healthy gay men' http://bbc.in/1LAI8AF\\n\",\n",
              " \"570330168536879104|Tue Feb 24 21:11:23 +0000 2015|Councils 'to control Â£6bn NHS budget' http://bbc.in/1BOOIDV\\n\",\n",
              " \"570269156068577280|Tue Feb 24 17:08:56 +0000 2015|Tobacco 'kills two in three smokers' http://bbc.in/1adMr9K\\n\",\n",
              " '570245830860414976|Tue Feb 24 15:36:15 +0000 2015|Patient waiting time targets missed http://bbc.in/1LCbZdT\\n',\n",
              " \"570236953947287553|Tue Feb 24 15:00:58 +0000 2015|NHS 'must step in' over Avastin row http://bbc.in/1FobXlV\\n\",\n",
              " \"570200257113366528|Tue Feb 24 12:35:09 +0000 2015|'Black alert' trust stops 1,000 ops http://bbc.in/1BMdX9H\\n\",\n",
              " '570200256056422400|Tue Feb 24 12:35:09 +0000 2015|Rise in A&amp;E wait times for patients http://bbc.in/1BMdRz3\\n',\n",
              " '570161143781523456|Tue Feb 24 09:59:44 +0000 2015|Teenage pregnancies hit record low http://bbc.in/1BjTJob\\n',\n",
              " \"570143439951519744|Tue Feb 24 08:49:23 +0000 2015|Care inspections 'not fit for purpose' http://bbc.in/1BLbr3C\\n\",\n",
              " '570125186340499457|Tue Feb 24 07:36:51 +0000 2015|VIDEO: Finger on the pulse of bionic research http://bbc.in/1Bj2X46\\n',\n",
              " \"570040440252026880|Tue Feb 24 02:00:06 +0000 2015|Support fears 'delay' NHS discharges http://bbc.in/1BJECnM\\n\",\n",
              " '570022482477916160|Tue Feb 24 00:48:44 +0000 2015|Dementia research matchmaker scheme http://bbc.in/1LzVBKR\\n',\n",
              " '570022481789984768|Tue Feb 24 00:48:44 +0000 2015|Deciding vote on three-person babies http://bbc.in/1a8q7ON\\n',\n",
              " '570022480946995200|Tue Feb 24 00:48:44 +0000 2015|VIDEO: The smart bandage treating wounds http://bbc.in/1w4ute1\\n',\n",
              " \"569976902904971264|Mon Feb 23 21:47:37 +0000 2015|Early exposure 'cuts peanut allergy' http://bbc.in/1w40qTN\\n\",\n",
              " \"569930275586617344|Mon Feb 23 18:42:21 +0000 2015|Hospital 'black alerts' extended http://bbc.in/1BHqueE\\n\",\n",
              " '569909715951439873|Mon Feb 23 17:20:39 +0000 2015|Fertility clinic at hospital reopens http://bbc.in/1Lyoh7g\\n',\n",
              " '569864720036990976|Mon Feb 23 14:21:51 +0000 2015|VIDEO: The dangers of tanning addiction http://bbc.in/1LxC3XK\\n',\n",
              " \"569852312962756609|Mon Feb 23 13:32:33 +0000 2015|Patient in '16-hour trolley wait' http://bbc.in/1a4BMOw\\n\",\n",
              " '569844900591595520|Mon Feb 23 13:03:06 +0000 2015|WHO calls for action over Mers virus http://bbc.in/1w24bJs\\n',\n",
              " '569833696070488064|Mon Feb 23 12:18:34 +0000 2015|UK Ebola medics under investigation http://bbc.in/1BcJn9N\\n',\n",
              " \"569826220822503424|Mon Feb 23 11:48:52 +0000 2015|VIDEO: Mental health deaths 'avoidable' http://bbc.in/1Lx9Y2I\\n\",\n",
              " '569789013835407361|Mon Feb 23 09:21:01 +0000 2015|Call for global single-use syringes http://bbc.in/1w1kFBu\\n',\n",
              " '569762774433140736|Mon Feb 23 07:36:45 +0000 2015|VIDEO: Youth heart screening saving lives http://bbc.in/1a2utqr\\n',\n",
              " \"569762773812408320|Mon Feb 23 07:36:45 +0000 2015|VIDEO: Tackling FGM's poor prosecution rate http://bbc.in/1LwlXxu\\n\",\n",
              " '569727648659738625|Mon Feb 23 05:17:11 +0000 2015|Healthy dose of hope for one-use syringes http://bbc.in/1Bax51t\\n',\n",
              " \"569692407274409984|Mon Feb 23 02:57:08 +0000 2015|Deaths in detention 'avoidable' http://bbc.in/1B9O8kj\\n\",\n",
              " '569658022135377921|Mon Feb 23 00:40:30 +0000 2015|The blind breast cancer detectors http://bbc.in/1BCWyAe\\n',\n",
              " \"569574078748581889|Sun Feb 22 19:06:57 +0000 2015|VIDEO: Ex-pilot warns over 'toxic plane fumes' http://bbc.in/1Ffy51H\\n\",\n",
              " '569211790388625409|Sat Feb 21 19:07:20 +0000 2015|VIDEO: Swine flu outbreak spreads across India http://bbc.in/19RMIyQ\\n',\n",
              " '569126615420047360|Sat Feb 21 13:28:53 +0000 2015|Dementia research to receive Â£300m http://bbc.in/1Ln1t8z\\n',\n",
              " \"569107367289188352|Sat Feb 21 12:12:24 +0000 2015|VIDEO: How do 'dementia friends' work? http://bbc.in/1Lpr02A\\n\",\n",
              " \"569036739509035008|Sat Feb 21 07:31:45 +0000 2015|'Dementia friends' reach one million http://bbc.in/1AXPZJ3\\n\",\n",
              " '568975518680293376|Sat Feb 21 03:28:29 +0000 2015|NHS foundation trusts deficit rises http://bbc.in/1LlAxWJ\\n',\n",
              " \"568930694753226752|Sat Feb 21 00:30:22 +0000 2015|VIDEO: Babies sleeping outside 'sleep longer' http://bbc.in/1Ll6uOS\\n\",\n",
              " \"568908185328709632|Fri Feb 20 23:00:55 +0000 2015|VIDEO: Child mental health 'must be priority' http://bbc.in/1AVBoh3\\n\",\n",
              " '568736676748488704|Fri Feb 20 11:39:25 +0000 2015|Fifteen-minute Ebola test approved http://bbc.in/1LicaZP\\n',\n",
              " '568714609659502592|Fri Feb 20 10:11:43 +0000 2015|A&amp;E waits worsen across England http://bbc.in/1F1Gztd\\n',\n",
              " '568686202812915712|Fri Feb 20 08:18:51 +0000 2015|VIDEO: Trying to save young hearts http://bbc.in/19HAQ2t\\n',\n",
              " '568654215188332544|Fri Feb 20 06:11:44 +0000 2015|Patients face fines on free scripts http://bbc.in/1APU9m7\\n',\n",
              " '568580226483007488|Fri Feb 20 01:17:44 +0000 2015|Priority call on child mental health http://bbc.in/1z4JE7m\\n',\n",
              " '568580225832865792|Fri Feb 20 01:17:44 +0000 2015|Sunlight harms skin for hours later http://bbc.in/1z4JFbi\\n',\n",
              " \"568571189418803201|Fri Feb 20 00:41:49 +0000 2015|Resistant-malaria 'enormous threat' http://bbc.in/182uqKO\\n\",\n",
              " \"568545578595917824|Thu Feb 19 23:00:03 +0000 2015|US panel backs 'green' low-meat diet http://bbc.in/1EZ7KVI\\n\",\n",
              " '568437830386495488|Thu Feb 19 15:51:54 +0000 2015|Dozens exposed to superbug in LA http://bbc.in/1LhpaAO\\n',\n",
              " \"568356878717026306|Thu Feb 19 10:30:14 +0000 2015|Suicide in men 'highest since 2001' http://bbc.in/17Yfr4n\\n\",\n",
              " \"568356875978170368|Thu Feb 19 10:30:13 +0000 2015|'Unsafe' trust in special measures http://bbc.in/1EVCXZJ\\n\",\n",
              " '568349213039280129|Thu Feb 19 09:59:46 +0000 2015|VIDEO: The children let down by mental health care http://bbc.in/17Y71Ke\\n',\n",
              " '568267948986466304|Thu Feb 19 04:36:51 +0000 2015|NHS child mental health care pledge http://bbc.in/17WRhr4\\n',\n",
              " \"568267947979849728|Thu Feb 19 04:36:51 +0000 2015|Child mental health: A mother's struggle http://bbc.in/1z0awFz\\n\",\n",
              " '568267947065479169|Thu Feb 19 04:36:51 +0000 2015|Australia Hep A outbreak spreads http://bbc.in/17WRk67\\n',\n",
              " \"568247854382198784|Thu Feb 19 03:17:00 +0000 2015|Viewpoint: 'Children see a person not a disability' http://bbc.in/17WzyQu\\n\",\n",
              " \"568205496869470208|Thu Feb 19 00:28:41 +0000 2015|NHS 'paying too much for medicines' http://bbc.in/1ET7RBT\\n\",\n",
              " \"568132709798653952|Wed Feb 18 19:39:28 +0000 2015|VIDEO: Painful wait for a child's diagnosis http://bbc.in/1AGbkqd\\n\",\n",
              " '568117395174207488|Wed Feb 18 18:38:36 +0000 2015|Radical HIV vaccine ploy raises hope http://bbc.in/19xbZ14\\n',\n",
              " \"568117394507329536|Wed Feb 18 18:38:36 +0000 2015|Disabled children 'left in pain' http://bbc.in/1LdFZww\\n\",\n",
              " '568084921735987200|Wed Feb 18 16:29:34 +0000 2015|VIDEO: E-cigarette ban at Scottish hospitals http://bbc.in/17TqWKs\\n',\n",
              " '568084920913911808|Wed Feb 18 16:29:34 +0000 2015|Cannabis: Promise, risk and controversy http://bbc.in/1yXmmAb\\n',\n",
              " \"568066633593274368|Wed Feb 18 15:16:54 +0000 2015|Patient-safety-fear GP 'defies NHS' http://bbc.in/17T36hL\\n\",\n",
              " '568066632947355648|Wed Feb 18 15:16:54 +0000 2015|State of the NHS: Wales v England http://bbc.in/1yXcgzt\\n',\n",
              " '568023125004136448|Wed Feb 18 12:24:01 +0000 2015|NHS misses a year of cancer targets http://bbc.in/1AEAyVK\\n',\n",
              " '568004714207399936|Wed Feb 18 11:10:51 +0000 2015|Fewer A&amp;E patients waiting longer http://bbc.in/1AEltDN\\n',\n",
              " '567970912869285888|Wed Feb 18 08:56:32 +0000 2015|VIDEO: Drug and Alcohol Courts to be extended http://bbc.in/1EOnmLt\\n',\n",
              " '567970912244334592|Wed Feb 18 08:56:32 +0000 2015|VIDEO: Doctors told to reduce antibiotics http://bbc.in/17RlibI\\n',\n",
              " '567866000562982913|Wed Feb 18 01:59:39 +0000 2015|VIDEO: How art can help mental health? http://bbc.in/1LadkIP\\n',\n",
              " '567840528219283456|Wed Feb 18 00:18:26 +0000 2015|Call to snoop on antibiotic scripts http://bbc.in/1yU2UEB\\n',\n",
              " \"567710184001110016|Tue Feb 17 15:40:30 +0000 2015|Trust declares 'significant incident' http://bbc.in/1vbusKd\\n\",\n",
              " '567696214045372416|Tue Feb 17 14:44:59 +0000 2015|VIDEO: Frustrations of an NHS brain surgeon http://bbc.in/19rU23S\\n',\n",
              " \"567665527120592899|Tue Feb 17 12:43:03 +0000 2015|'Jokes about autism are ignorant' http://bbc.in/17dKM1Z\\n\",\n",
              " \"567535096245129218|Tue Feb 17 04:04:45 +0000 2015|Tomorrow's mums 'need obesity help' http://bbc.in/1EGXjWA\\n\",\n",
              " \"567508996785840130|Tue Feb 17 02:21:03 +0000 2015|Cigarette packet law 'would save lives' http://bbc.in/1EGyl9F\\n\",\n",
              " '567424834477371393|Mon Feb 16 20:46:37 +0000 2015|VIDEO: Walking again with help of oxygen http://bbc.in/1L5KZTV\\n',\n",
              " \"567329429156679680|Mon Feb 16 14:27:31 +0000 2015|VIDEO: Â£30m boost for Alzheimer's research http://bbc.in/1L4B5BO\\n\",\n",
              " '567317929583071232|Mon Feb 16 13:41:49 +0000 2015|Schools reopen in Ebola-hit Liberia http://bbc.in/17GvaVK\\n',\n",
              " '567287345162883072|Mon Feb 16 11:40:17 +0000 2015|VIDEO: Ebola crisis: Liberia schools reopen http://bbc.in/1yKRm6i\\n',\n",
              " '567241247803179008|Mon Feb 16 08:37:06 +0000 2015|VIDEO: Syria war victim given new jaw http://bbc.in/1yK7Onx\\n',\n",
              " '567233731241328640|Mon Feb 16 08:07:14 +0000 2015|VIDEO: Warning over strong cannabis http://bbc.in/1v3tVKe\\n',\n",
              " \"567206676126650370|Mon Feb 16 06:19:44 +0000 2015|Alzheimer's Â£30m collaboration begins http://bbc.in/1yJEr4E\\n\",\n",
              " \"567097817353580544|Sun Feb 15 23:07:10 +0000 2015|Psychosis 'link' to potent cannabis http://bbc.in/1L21dNH\\n\",\n",
              " '566894843712905217|Sun Feb 15 09:40:37 +0000 2015|VIDEO: Videos of 1,500 beating human hearts http://bbc.in/1JgGNDa\\n',\n",
              " '566752000323227649|Sun Feb 15 00:13:01 +0000 2015|VIDEO: Bright future: Light therapy school http://bbc.in/1yDJIKV\\n',\n",
              " '566673592734056449|Sat Feb 14 19:01:27 +0000 2015|Unlabelled nuts in food prompts probe http://bbc.in/175Xwrw\\n',\n",
              " '566609703224889346|Sat Feb 14 14:47:35 +0000 2015|VIDEO: Lung cancer breath test trialled http://bbc.in/1Jdc9L4\\n',\n",
              " '566562813405954049|Sat Feb 14 11:41:15 +0000 2015|VIDEO: PM orders sickness benefits review http://bbc.in/17wCvak\\n',\n",
              " '566510230888919041|Sat Feb 14 08:12:18 +0000 2015|Synthetic vaccine sought for polio http://bbc.in/1uTjyZw\\n',\n",
              " '566418409462583296|Sat Feb 14 02:07:27 +0000 2015|PM orders review into sickness benefit http://bbc.in/17vEGej\\n',\n",
              " \"566341803394101251|Fri Feb 13 21:03:02 +0000 2015|Hospital's A&amp;E consultants all quit http://bbc.in/1uQStGn\\n\",\n",
              " '566297474571059200|Fri Feb 13 18:06:53 +0000 2015|Are we now on half measures? http://bbc.in/1yxvSd1\\n',\n",
              " '566284198424481794|Fri Feb 13 17:14:08 +0000 2015|Hospitals develop A&amp;E solutions http://bbc.in/1yxh26z\\n',\n",
              " '566187028564283392|Fri Feb 13 10:48:01 +0000 2015|A&amp;E waits improve across England http://bbc.in/1yvz490\\n',\n",
              " '566187027855454209|Fri Feb 13 10:48:01 +0000 2015|Could smart phones help provide mental health care? http://bbc.in/1J7PXCb\\n',\n",
              " '566177407275511810|Fri Feb 13 10:09:47 +0000 2015|Binge-drinking falls in young adults http://bbc.in/17rOQwc\\n',\n",
              " \"566152720604602368|Fri Feb 13 08:31:41 +0000 2015|HRT 'increases ovarian cancer risk' http://bbc.in/1uNdEsO\\n\",\n",
              " \"566067701928325120|Fri Feb 13 02:53:51 +0000 2015|Screen name 'key to online dating' http://bbc.in/17qiLoG\\n\",\n",
              " '565954704962625536|Thu Feb 12 19:24:51 +0000 2015|Law to make FGM reporting mandatory http://bbc.in/1uKpTGx\\n',\n",
              " '565889598585188355|Thu Feb 12 15:06:08 +0000 2015|Ebola healthcare workers discharged http://bbc.in/1J1z6Rj\\n',\n",
              " '565837026902044672|Thu Feb 12 11:37:14 +0000 2015|Is a complete ban on smoking next? http://bbc.in/1yod3sP\\n',\n",
              " '565756026163458048|Thu Feb 12 06:15:22 +0000 2015|VIDEO: Baking back to health http://bbc.in/17k9SwK\\n',\n",
              " '565703086648598529|Thu Feb 12 02:45:00 +0000 2015|Advice on secret care home filming http://bbc.in/16VRkSR\\n',\n",
              " '565692745596305409|Thu Feb 12 02:03:55 +0000 2015|Row over sugar-money influence http://bbc.in/1KL9R3b\\n',\n",
              " '565577408150261760|Wed Feb 11 18:25:36 +0000 2015|Discovery of largest genetic fat map http://bbc.in/1KJBiKI\\n',\n",
              " '565577405579137024|Wed Feb 11 18:25:36 +0000 2015|Google introduces illness tips http://bbc.in/1KJBiKF\\n',\n",
              " '565555765897740288|Wed Feb 11 16:59:36 +0000 2015|England bans smoking in cars http://bbc.in/1yhmXMS\\n',\n",
              " \"565533354041176064|Wed Feb 11 15:30:33 +0000 2015|Opposition claims of A&amp;E 'in crisis' http://bbc.in/1ygE69i\\n\",\n",
              " \"565511390698278912|Wed Feb 11 14:03:16 +0000 2015|VIDEO: 'It was a toxic culture' http://bbc.in/1ISRfAA\\n\",\n",
              " '565427974628192256|Wed Feb 11 08:31:48 +0000 2015|VIDEO: The science behind food cravings http://bbc.in/1ydyjRQ\\n',\n",
              " \"565409867369025537|Wed Feb 11 07:19:51 +0000 2015|VIDEO: NHS whistleblowers 'bullied' into silence http://bbc.in/17e5KP5\\n\",\n",
              " \"565366521900576769|Wed Feb 11 04:27:37 +0000 2015|Breath test for Parkinson's disease http://bbc.in/1ycccvl\\n\",\n",
              " \"565366519811817472|Wed Feb 11 04:27:36 +0000 2015|UK Ebola response 'far too slow' http://bbc.in/1ycccvh\\n\",\n",
              " \"565366517949538304|Wed Feb 11 04:27:36 +0000 2015|NHS staff 'afraid to speak out' http://bbc.in/1IPWvFk\\n\",\n",
              " '565366515751747585|Wed Feb 11 04:27:36 +0000 2015|VIDEO: Pioneering drug treatment for cancer http://bbc.in/1ycccva\\n',\n",
              " '565201122000777216|Tue Feb 10 17:30:23 +0000 2015|Obese workers have disability rights http://bbc.in/195MwM6\\n',\n",
              " \"565179002663366657|Tue Feb 10 16:02:29 +0000 2015|'Private' NHS hospital wants bailout http://bbc.in/1E3h9Lj\\n\",\n",
              " '565158832746151936|Tue Feb 10 14:42:20 +0000 2015|Food fight: Row over fat advice http://bbc.in/1y6QqsQ\\n',\n",
              " '565138075290841090|Tue Feb 10 13:19:51 +0000 2015|VIDEO: Health benefits of oil explained http://bbc.in/1uzEtAB\\n',\n",
              " '565138074317766656|Tue Feb 10 13:19:51 +0000 2015|Damages for France baby mix-up http://bbc.in/1uzEvbz\\n',\n",
              " '565084080845225985|Tue Feb 10 09:45:18 +0000 2015|Advice: No alcohol safe in pregnancy http://bbc.in/178iUNm\\n',\n",
              " '565073677226483712|Tue Feb 10 09:03:57 +0000 2015|Hospital maternity care concerns http://bbc.in/194pbdH\\n',\n",
              " '565073676559593472|Tue Feb 10 09:03:57 +0000 2015|Putting fitness trackers to the test http://bbc.in/194pbdA\\n',\n",
              " \"565055879423086592|Tue Feb 10 07:53:14 +0000 2015|'Smart' insulin hope for diabetes http://bbc.in/1uyAl3W\\n\",\n",
              " \"565048440057368576|Tue Feb 10 07:23:40 +0000 2015|'Focus on fitness not fatness' http://bbc.in/1y462xa\\n\",\n",
              " '565020858029056000|Tue Feb 10 05:34:04 +0000 2015|Warning over new drug-driving law http://bbc.in/1E0OTca\\n',\n",
              " '564721187796692994|Mon Feb 09 09:43:17 +0000 2015|Asbestos NHS costs decision due http://bbc.in/1uuCoWF\\n',\n",
              " \"564686122752540672|Mon Feb 09 07:23:57 +0000 2015|Care staff 'miss out on minimum pay' http://bbc.in/171cHTf\\n\",\n",
              " '564596516514312195|Mon Feb 09 01:27:53 +0000 2015|UK pledges millions to new Ebola fund http://bbc.in/1utt2KO\\n',\n",
              " \"564366924415393794|Sun Feb 08 10:15:34 +0000 2015|VIDEO: 'Everyday miracle' of cataract surgery http://bbc.in/16Win0U\\n\",\n",
              " '564286451924234240|Sun Feb 08 04:55:48 +0000 2015|NHS to review avoidable deaths - Hunt http://bbc.in/1DQ9ShW\\n',\n",
              " \"564244713004212224|Sun Feb 08 02:09:57 +0000 2015|One in five care homes 'fail key test' http://bbc.in/1uqbdwc\\n\",\n",
              " \"564227543918587908|Sun Feb 08 01:01:43 +0000 2015|Woman 'cured by lucky DNA mutation' http://bbc.in/16UICF0\\n\",\n",
              " \"564218225739583488|Sun Feb 08 00:24:42 +0000 2015|'Deaths averted' at failing hospitals http://bbc.in/1xL5UT9\\n\",\n",
              " \"563988938902077440|Sat Feb 07 09:13:36 +0000 2015|VIDEO: 'Full investigation' when care fails http://bbc.in/16QZdte\\n\",\n",
              " \"563945142042624003|Sat Feb 07 06:19:34 +0000 2015|VIDEO: 'Counting birds helps mumâ€™s dementia' http://bbc.in/16BLO7I\\n\",\n",
              " \"563870551878291456|Sat Feb 07 01:23:10 +0000 2015|'Daughter's poo made me obese' http://bbc.in/18W1KTM\\n\",\n",
              " \"563854143500980225|Sat Feb 07 00:17:58 +0000 2015|NHS complaints process 'inadequate' http://bbc.in/1DK215f\\n\",\n",
              " \"563796400044273664|Fri Feb 06 20:28:31 +0000 2015|Diabetes: Women 'more likely to die' http://bbc.in/1ukHy7r\\n\",\n",
              " '563739259840909312|Fri Feb 06 16:41:27 +0000 2015|VIDEO: How a needs assessment works http://bbc.in/1DHQEeg\\n',\n",
              " \"563727024854798336|Fri Feb 06 15:52:50 +0000 2015|Babies' eye movement autism link http://bbc.in/1DHLmzo\\n\",\n",
              " '563719748899192836|Fri Feb 06 15:23:56 +0000 2015|Canada to allow assisted suicide http://bbc.in/16MTYe3\\n',\n",
              " \"563719747762528258|Fri Feb 06 15:23:55 +0000 2015|Failed fat-ban 'will fuel NHS debt' http://bbc.in/1xzZu9a\\n\",\n",
              " '563702043852812288|Fri Feb 06 14:13:34 +0000 2015|How is the NHS coping this winter? http://bbc.in/18UappM\\n',\n",
              " \"563685314653192193|Fri Feb 06 13:07:06 +0000 2015|Training very hard is 'unhealthy' http://bbc.in/1uiYFXg\\n\",\n",
              " '563668067171852288|Fri Feb 06 11:58:34 +0000 2015|Doctor guilty of indecent assaults http://bbc.in/1uiIARA\\n',\n",
              " '563651170904723456|Fri Feb 06 10:51:25 +0000 2015|A&amp;E waits worsen slightly in England http://bbc.in/18TL3Iv\\n',\n",
              " \"563608665370808321|Fri Feb 06 08:02:31 +0000 2015|VIDEO: Boy's worldwide search for donor http://bbc.in/16xUDiS\\n\",\n",
              " \"563551500295626752|Fri Feb 06 04:15:22 +0000 2015|Wild birds 'may spread flu virus' http://bbc.in/1xw1kYM\\n\",\n",
              " \"563551499276398594|Fri Feb 06 04:15:22 +0000 2015|Mental health detentions 'a scandal' http://bbc.in/1xw1mjb\\n\",\n",
              " '563542592999014400|Fri Feb 06 03:39:58 +0000 2015|New advice for flying when pregnant http://bbc.in/18T37T4\\n',\n",
              " \"563518452443275264|Fri Feb 06 02:04:03 +0000 2015|Radical NHS changes 'disastrous' http://bbc.in/16JLQv3\\n\",\n",
              " \"563386054179184641|Thu Feb 05 17:17:57 +0000 2015|Flu vaccine is 'barely effective' http://bbc.in/16Halcd\\n\",\n",
              " \"563369523097501697|Thu Feb 05 16:12:15 +0000 2015|Rejected cancer drug 'extends life' http://bbc.in/16uDgzw\\n\",\n",
              " \"563342604201238529|Thu Feb 05 14:25:17 +0000 2015|E-cigarettes 'may harm the lungs' http://bbc.in/1I8QLGf\\n\",\n",
              " '563309538648915968|Thu Feb 05 12:13:54 +0000 2015|Making the sums add up http://bbc.in/16Fn0fQ\\n',\n",
              " '563292716155412482|Thu Feb 05 11:07:03 +0000 2015|VIDEO: NHS agency nurses spending increase http://bbc.in/18QfwHB\\n',\n",
              " '563286360107122688|Thu Feb 05 10:41:48 +0000 2015|Blood test hope for bowel cancer http://bbc.in/16ET9E7\\n',\n",
              " \"563203311675797504|Thu Feb 05 05:11:47 +0000 2015|NHS agency nurses spending 'soars' http://bbc.in/1ucir6M\\n\",\n",
              " \"563203310832738304|Thu Feb 05 05:11:47 +0000 2015|Children 'familiar with beer brands' http://bbc.in/1ucirUj\\n\",\n",
              " '563203310182612992|Thu Feb 05 05:11:47 +0000 2015|Call to boost antibiotics funding http://bbc.in/16rzRl2\\n',\n",
              " '563161261903339520|Thu Feb 05 02:24:42 +0000 2015|Viewpoint: Talking about mental health is just the first step http://bbc.in/1ubJRto\\n',\n",
              " \"563161260536000514|Thu Feb 05 02:24:42 +0000 2015|VIDEO: What does a singer with Down's Syndrome sound like? http://bbc.in/1ubJOxV\\n\",\n",
              " \"563058825381834753|Wed Feb 04 19:37:39 +0000 2015|New Ebola cases 'rise in 2015' http://bbc.in/16AwzfY\\n\",\n",
              " \"563049714288193536|Wed Feb 04 19:01:27 +0000 2015|VIDEO: 'Half of people will get cancer' http://bbc.in/16Ak7N5\\n\",\n",
              " '563029497327661058|Wed Feb 04 17:41:07 +0000 2015|VIDEO: Inside a challenging behaviour unit http://bbc.in/1DyoK4o\\n',\n",
              " '563012340652982273|Wed Feb 04 16:32:56 +0000 2015|Doctor not guilty of performing FGM http://bbc.in/1I1xpTi\\n',\n",
              " '562999507747880961|Wed Feb 04 15:41:57 +0000 2015|Care cap for young adults proposed http://bbc.in/18NBIC5\\n',\n",
              " \"562971350474956800|Wed Feb 04 13:50:04 +0000 2015|Mother of six 'can be sterilised' http://bbc.in/16mTV7V\\n\",\n",
              " '562929453467455489|Wed Feb 04 11:03:35 +0000 2015|VIDEO: Calls for funding to treat sight loss http://bbc.in/18MU1qU\\n',\n",
              " \"562922254200483840|Wed Feb 04 10:34:58 +0000 2015|Ebola nurse infection 'down to visor' http://bbc.in/1HZr9M5\\n\",\n",
              " '562913282823319552|Wed Feb 04 09:59:19 +0000 2015|VIDEO: Tech helping to treat brain cancer http://bbc.in/1HZfAEq\\n',\n",
              " \"562846375713701889|Wed Feb 04 05:33:27 +0000 2015|Government 'failing' on care pledge http://bbc.in/16wo19V\\n\",\n",
              " \"562830010776813569|Wed Feb 04 04:28:26 +0000 2015|NHS 111 'increasing pressure on NHS' http://bbc.in/1HXJmJK\\n\",\n",
              " \"562797350130053120|Wed Feb 04 02:18:39 +0000 2015|'Half of UK people' will get cancer http://bbc.in/16vB1wp\\n\",\n",
              " '562780977995722752|Wed Feb 04 01:13:35 +0000 2015|What is driving a rise in death rate? http://bbc.in/16vkyZ3\\n',\n",
              " \"562773753911050240|Wed Feb 04 00:44:53 +0000 2015|VIDEO: Warnings over 'skinny selfies' craze http://bbc.in/16tWzJY\\n\",\n",
              " \"562658500116230144|Tue Feb 03 17:06:54 +0000 2015|Guinea worm 'will be eradicated soon' http://bbc.in/1x7qpJh\\n\",\n",
              " \"562600226469318656|Tue Feb 03 13:15:21 +0000 2015|Mental health services 'inadequate' http://bbc.in/1x5yEpl\\n\",\n",
              " \"562583029869051905|Tue Feb 03 12:07:01 +0000 2015|Bad hospital report 'had 300 errors' http://bbc.in/1x52vy1\\n\",\n",
              " '562558027807485952|Tue Feb 03 10:27:40 +0000 2015|More Scots waiting longer in A&amp;E http://bbc.in/16qBYG9\\n',\n",
              " '562558027111227392|Tue Feb 03 10:27:40 +0000 2015|Blood cancer drug offered on NHS http://bbc.in/16qBWyj\\n',\n",
              " \"562523027171061760|Tue Feb 03 08:08:35 +0000 2015|Screen time 'harms teenagers' sleep' http://bbc.in/16cG8Rv\\n\",\n",
              " '562505069996687360|Tue Feb 03 06:57:14 +0000 2015|VIDEO: MPs to vote on three-person babies http://bbc.in/1x2SYYk\\n',\n",
              " \"562479583765610497|Tue Feb 03 05:15:57 +0000 2015|Military 'must tackle alcohol abuse' http://bbc.in/16pgxFq\\n\",\n",
              " \"562472191963303936|Tue Feb 03 04:46:35 +0000 2015|'Radical change' needed for NHS http://bbc.in/16p8YyP\\n\",\n",
              " '562472191267069955|Tue Feb 03 04:46:35 +0000 2015|Crucial vote on three-person babies http://bbc.in/16p8YyI\\n',\n",
              " \"562472190482731008|Tue Feb 03 04:46:35 +0000 2015|How accurate are 'due dates'? http://bbc.in/1x24N0U\\n\",\n",
              " '562404909073448960|Tue Feb 03 00:19:13 +0000 2015|VIDEO: Is a richer world a healthier one? http://bbc.in/16o3MuU\\n',\n",
              " '562397525064163328|Mon Feb 02 23:49:53 +0000 2015|Chris Christie wades into measles row http://bbc.in/1HOoHb8\\n',\n",
              " '562310554853732352|Mon Feb 02 18:04:18 +0000 2015|A&amp;E struggles with elderly patients http://bbc.in/16ml8rZ\\n',\n",
              " '562293216754409472|Mon Feb 02 16:55:24 +0000 2015|Ebola: Call for more sharing of science http://bbc.in/1tVVynV\\n',\n",
              " \"562264862101745665|Mon Feb 02 15:02:44 +0000 2015|'Serious errors' in boy's heart care http://bbc.in/1wXapJJ\\n\",\n",
              " '562229177571500035|Mon Feb 02 12:40:56 +0000 2015|Baby bath-seat drowning risk warning http://bbc.in/18HcoO4\\n',\n",
              " '562203609207554048|Mon Feb 02 10:59:20 +0000 2015|UK health worker tested for Ebola http://bbc.in/16khOxu\\n',\n",
              " '562203607815045121|Mon Feb 02 10:59:19 +0000 2015|VIDEO: How will Ebola vaccine trial work? http://bbc.in/1DnEF5s\\n',\n",
              " '562185953809162242|Mon Feb 02 09:49:10 +0000 2015|Abortion case goes to High Court http://bbc.in/16k0gBS\\n',\n",
              " \"562185952773152768|Mon Feb 02 09:49:10 +0000 2015|'Handroid' helps injured marine http://bbc.in/16k0hFR\\n\",\n",
              " \"562167103738765313|Mon Feb 02 08:34:16 +0000 2015|VIDEO: 'I just felt like a diseased body' http://bbc.in/1DnpgCd\\n\",\n",
              " '562167103000559616|Mon Feb 02 08:34:16 +0000 2015|VIDEO: Battle of the budget gyms http://bbc.in/1z4JaOe\\n',\n",
              " '562167102274945024|Mon Feb 02 08:34:16 +0000 2015|VIDEO: Stroke awareness campaign hailed http://bbc.in/1z4JaxJ\\n',\n",
              " '562156676204072960|Mon Feb 02 07:52:50 +0000 2015|New patient resuscitation guidance http://bbc.in/1wV6NIo\\n',\n",
              " '562148486007623680|Mon Feb 02 07:20:17 +0000 2015|VIDEO: Mural challenges fear of Ebola http://bbc.in/1tTNgwO\\n',\n",
              " \"562118057519112192|Mon Feb 02 05:19:23 +0000 2015|Liberia's Ebola vaccine trial begins http://bbc.in/18GsCqQ\\n\",\n",
              " \"562086090014588929|Mon Feb 02 03:12:21 +0000 2015|Stroke campaign 'reduced disability' http://bbc.in/1tSVPrV\\n\",\n",
              " '562086089129594882|Mon Feb 02 03:12:21 +0000 2015|Doctors urged to tell patients names http://bbc.in/1tSVQMy\\n',\n",
              " '561699274128252928|Sun Feb 01 01:35:17 +0000 2015|Patients \\'back three-person babies\" http://bbc.in/1yVzVQm\\n',\n",
              " '561699273473937408|Sun Feb 01 01:35:17 +0000 2015|Sink or Swim? The global drowning crisis http://bbc.in/1yVzVQh\\n',\n",
              " '561683352818688001|Sun Feb 01 00:32:01 +0000 2015|VIDEO: Preventing drowning with playpens http://bbc.in/15WIfbP\\n',\n",
              " '561493902809497600|Sat Jan 31 11:59:13 +0000 2015|UK health worker monitored for Ebola http://bbc.in/1zqZgp5\\n',\n",
              " \"561298054582505472|Fri Jan 30 23:00:59 +0000 2015|VIDEO: Patients 'at risk if training cut' http://bbc.in/1675Ozo\\n\",\n",
              " '561222948439089152|Fri Jan 30 18:02:32 +0000 2015|Churches oppose three-person babies http://bbc.in/1JVkNuK\\n',\n",
              " \"561182082819313664|Fri Jan 30 15:20:09 +0000 2015|'Cold plasma' kills off norovirus http://bbc.in/1zmlYi9\\n\",\n",
              " \"561058919548596224|Fri Jan 30 07:10:45 +0000 2015|Training cuts 'could harm patients' http://bbc.in/160au9d\\n\",\n",
              " \"560997570441252864|Fri Jan 30 03:06:58 +0000 2015|Stress balls 'cut surgery anxiety' http://bbc.in/1tBxPcA\\n\",\n",
              " \"560955110998560769|Fri Jan 30 00:18:15 +0000 2015|Child obesity rates 'levelling off' http://bbc.in/1zjfroc\\n\",\n",
              " '560937843581657088|Thu Jan 29 23:09:38 +0000 2015|Labour peer backs private role in NHS http://bbc.in/1yGnS9y\\n',\n",
              " '560867991311511552|Thu Jan 29 18:32:04 +0000 2015|Students use porn for sex education http://bbc.in/15WKSu3\\n',\n",
              " \"560857664301719552|Thu Jan 29 17:51:02 +0000 2015|Bedtime 'has huge impact on sport' http://bbc.in/15ZBeb4\\n\",\n",
              " '560857663605444608|Thu Jan 29 17:51:01 +0000 2015|How much do we love the NHS? http://bbc.in/1zhNfC5\\n',\n",
              " '560857662905008129|Thu Jan 29 17:51:01 +0000 2015|Hospitals reject NHS funding cut http://bbc.in/15ZBfM1\\n',\n",
              " '560788788717170689|Thu Jan 29 13:17:20 +0000 2015|VIDEO: Questions answered on care insurance http://bbc.in/1zgvgfz\\n',\n",
              " '560771379348271104|Thu Jan 29 12:08:10 +0000 2015|Eight-year-old boy died of scurvy http://bbc.in/1v8Jeli\\n',\n",
              " \"560753954464604162|Thu Jan 29 10:58:55 +0000 2015|VIDEO: 'New generation' drug research plan http://bbc.in/1HiwRbz\\n\",\n",
              " '560746274228420609|Thu Jan 29 10:28:24 +0000 2015|VIDEO: Measles outbreak blamed on parents http://bbc.in/1JM3uw4\\n',\n",
              " '560736192874831873|Thu Jan 29 09:48:21 +0000 2015|Astra Zeneca drive for genetic drugs http://bbc.in/1yBCQNU\\n',\n",
              " \"560684288576724992|Thu Jan 29 06:22:06 +0000 2015|VIDEO: Care: 'You have to be cold-hearted' http://bbc.in/1zf18kH\\n\",\n",
              " '560684287905644545|Thu Jan 29 06:22:05 +0000 2015|VIDEO: The search for an Ebola vaccine http://bbc.in/1zf1acn\\n',\n",
              " \"560684287200989184|Thu Jan 29 06:22:05 +0000 2015|'No interest' in care insurance http://bbc.in/1zEJ7j3\\n\",\n",
              " '560684286576054276|Thu Jan 29 06:22:05 +0000 2015|Ebola virus mutating, scientists say http://bbc.in/1zEJ7iV\\n',\n",
              " \"560633316383023104|Thu Jan 29 02:59:33 +0000 2015|Thousands 'need three-person babies' http://bbc.in/1JKh2rG\\n\",\n",
              " \"560598852676231168|Thu Jan 29 00:42:36 +0000 2015|NHS satisfaction 'risen significantly' http://bbc.in/1yzV42m\\n\",\n",
              " '560504574222409728|Wed Jan 28 18:27:58 +0000 2015|VIDEO: Veteran news anchor reveals he has ALS http://bbc.in/18v64ZS\\n',\n",
              " \"560470021613182976|Wed Jan 28 16:10:40 +0000 2015|FGM jurors told to look past 'horror' http://bbc.in/1Hd2LpK\\n\",\n",
              " '560447039310286848|Wed Jan 28 14:39:21 +0000 2015|Ambulance strike to go ahead in NI http://bbc.in/1zyC4s7\\n',\n",
              " \"560423564969406465|Wed Jan 28 13:06:04 +0000 2015|Care spend 'cut by fifth in decade' http://bbc.in/18tUqi6\\n\",\n",
              " '560415434038472704|Wed Jan 28 12:33:46 +0000 2015|NHS backs multimillion pound drug http://bbc.in/1JGeIlI\\n',\n",
              " \"560370839246221312|Wed Jan 28 09:36:33 +0000 2015|NHS 'crisis guidelines' questioned http://bbc.in/1za5A4f\\n\",\n",
              " \"560338301446406144|Wed Jan 28 07:27:16 +0000 2015|VIDEO: 'Cash incentives stop pregnant smokers' http://bbc.in/18sSAOi\\n\",\n",
              " '560338300792107008|Wed Jan 28 07:27:16 +0000 2015|VIDEO: Warning over asthma diagnosis http://bbc.in/18sSBSj\\n',\n",
              " '560320976743702528|Wed Jan 28 06:18:25 +0000 2015|Care calculator launched by BBC http://bbc.in/1z9sPLD\\n',\n",
              " \"560244013169508352|Wed Jan 28 01:12:36 +0000 2015|Many asthma diagnoses 'may be wrong' http://bbc.in/1JDFA5O\\n\",\n",
              " \"560244012171264000|Wed Jan 28 01:12:35 +0000 2015|Coupons 'help pregnant smokers quit' http://bbc.in/1JDFBGJ\\n\",\n",
              " '560165432905052160|Tue Jan 27 20:00:21 +0000 2015|The cost of being unhealthy http://bbc.in/1H7uBnh\\n',\n",
              " '560124534678753281|Tue Jan 27 17:17:50 +0000 2015|Unison calls off strike by NHS staff http://bbc.in/1z6HcAq\\n',\n",
              " '560111791846334464|Tue Jan 27 16:27:12 +0000 2015|Doctors warn on assisted suicide law http://bbc.in/18ptTSW\\n',\n",
              " '560079578610159617|Tue Jan 27 14:19:11 +0000 2015|How much does NHS Wales spend? http://bbc.in/1z5Vb9B\\n',\n",
              " '560044016599703553|Tue Jan 27 11:57:53 +0000 2015|Double-chin jab approval sought http://bbc.in/1Jzg15I\\n',\n",
              " \"560006956987871232|Tue Jan 27 09:30:37 +0000 2015|VIDEO: 3D printed heart saves girl's life http://bbc.in/18nQoHU\\n\",\n",
              " '559996838799896578|Tue Jan 27 08:50:25 +0000 2015|Biggest hospital to be handed over http://bbc.in/1ypvDAx\\n',\n",
              " \"559996838132989953|Tue Jan 27 08:50:25 +0000 2015|Diabetes 'info prescription' plan http://bbc.in/1H49HFB\\n\",\n",
              " \"559992026859458562|Tue Jan 27 08:31:18 +0000 2015|VIDEO: Concern over dementia-drugs 'link' http://bbc.in/1z4Rzon\\n\",\n",
              " '559979630912761856|Tue Jan 27 07:42:02 +0000 2015|High cholesterol in mid-life risky http://bbc.in/18nw1L1\\n',\n",
              " \"559979630094868480|Tue Jan 27 07:42:02 +0000 2015|Waiting lists need 'radical' action http://bbc.in/18nw1KW\\n\",\n",
              " '559979629297946624|Tue Jan 27 07:42:02 +0000 2015|Major health review to be published http://bbc.in/15GecEP\\n',\n",
              " \"559882816414941184|Tue Jan 27 01:17:20 +0000 2015|Post-Ebola 'Marshall Plan' needed http://bbc.in/1zlkk3h\\n\",\n",
              " '559845928413052928|Mon Jan 26 22:50:45 +0000 2015|Miliband to pledge longer care visits http://bbc.in/1zksTeQ\\n',\n",
              " \"559781940438380544|Mon Jan 26 18:36:29 +0000 2015|Dementia 'link' to common drugs http://bbc.in/1ympPb0\\n\",\n",
              " '559681459456188418|Mon Jan 26 11:57:12 +0000 2015|VIDEO: What is it like to be disabled at a gig? http://bbc.in/1zglLzX\\n',\n",
              " '559670059367292929|Mon Jan 26 11:11:54 +0000 2015|VIDEO: Stigma of caring for Ebola patients http://bbc.in/1uQrGKx\\n',\n",
              " '559617309019365379|Mon Jan 26 07:42:18 +0000 2015|VIDEO: TV ad warns of heartburn-cancer link http://bbc.in/1uPB69f\\n',\n",
              " \"559617308352458752|Mon Jan 26 07:42:18 +0000 2015|VIDEO: War hero's pioneering brain treatment http://bbc.in/1z0ETyN\\n\",\n",
              " '559617307584917504|Mon Jan 26 07:42:17 +0000 2015|Hearing loss care demand rises http://bbc.in/1z0EVGU\\n',\n",
              " \"559509358069817344|Mon Jan 26 00:33:20 +0000 2015|Umami taste buds 'key to health' http://bbc.in/1D7CmUc\\n\",\n",
              " \"559509357423910913|Mon Jan 26 00:33:20 +0000 2015|Heartburn 'could be sign of cancer' http://bbc.in/1D7CnYl\\n\",\n",
              " \"559509356626993152|Mon Jan 26 00:33:20 +0000 2015|Cosmetic surgery 'popularity falls' http://bbc.in/1D7CmUb\\n\",\n",
              " '559490946291621890|Sun Jan 25 23:20:11 +0000 2015|VIDEO: Mentally ill girl put in police cell http://bbc.in/1yZKrcF\\n',\n",
              " \"559373262652575744|Sun Jan 25 15:32:33 +0000 2015|WHO vows reform after Ebola 'shocks' http://bbc.in/1yYPzOg\\n\",\n",
              " \"559363103226224642|Sun Jan 25 14:52:10 +0000 2015|The 'problem' of medical drug prices http://bbc.in/15wkjLR\\n\",\n",
              " \"559283641205796864|Sun Jan 25 09:36:25 +0000 2015|Deadly dip: baseball's toxic tradition http://bbc.in/1tcuvoc\\n\",\n",
              " \"559055792267984897|Sat Jan 24 18:31:02 +0000 2015|UK Ebola nurse 'happy to be alive' http://bbc.in/1GOtuc7\\n\",\n",
              " '558984552731787264|Sat Jan 24 13:47:57 +0000 2015|The man trapped in constant deja vu http://bbc.in/1GNpzMu\\n',\n",
              " '558913645078278144|Sat Jan 24 09:06:11 +0000 2015|VIDEO: Doctors in drive to attract new GPs http://bbc.in/15pKjIK\\n',\n",
              " '558788820632485888|Sat Jan 24 00:50:11 +0000 2015|VIDEO: Body clocks and blindness http://bbc.in/1yTPbRi\\n',\n",
              " \"558788819747500032|Sat Jan 24 00:50:11 +0000 2015|Post-traumatic stress 'in 1300BC' http://bbc.in/1z0tv98\\n\",\n",
              " '558788818896027649|Sat Jan 24 00:50:10 +0000 2015|New video aims to boost GP numbers http://bbc.in/1yTPb3M\\n',\n",
              " '558589112869847040|Fri Jan 23 11:36:37 +0000 2015|VIDEO: How winter wards help hospitals http://bbc.in/1CrR6iJ\\n',\n",
              " \"558577081336864769|Fri Jan 23 10:48:48 +0000 2015|VIDEO: 'I wasn't happy with my nose job' http://bbc.in/1CY0aKh\\n\",\n",
              " '558569930996461569|Fri Jan 23 10:20:23 +0000 2015|A&amp;E waiting times in England improve http://bbc.in/1yQUsJ7\\n',\n",
              " \"558569930287616002|Fri Jan 23 10:20:23 +0000 2015|VIDEO: Ebola experience 'life changing' http://bbc.in/1GG710B\\n\",\n",
              " '558550764960747520|Fri Jan 23 09:04:14 +0000 2015|VIDEO: Talks to avert NHS strike continue http://bbc.in/1y6M6t2\\n',\n",
              " \"558514327372578817|Fri Jan 23 06:39:26 +0000 2015|Ebola vaccine 'shipped to Liberia' http://bbc.in/187lIKS\\n\",\n",
              " '558451421670957056|Fri Jan 23 02:29:29 +0000 2015|Plastic surgery rules proposed http://bbc.in/1CoLwgZ\\n',\n",
              " \"558451420903395329|Fri Jan 23 02:29:28 +0000 2015|Blood pressure device 'promising' http://bbc.in/1yPzR87\\n\",\n",
              " \"558439949704245248|Fri Jan 23 01:43:53 +0000 2015|Masked tutors 'boost nurse training' http://bbc.in/1yUP62P\\n\",\n",
              " '558383420183543808|Thu Jan 22 21:59:16 +0000 2015|Mickey Mouse and measles http://bbc.in/15h7btU\\n',\n",
              " \"558260139178733568|Thu Jan 22 13:49:23 +0000 2015|Falling Ebola cases 'turning point' http://bbc.in/1yMGmZw\\n\",\n",
              " '558242275822956544|Thu Jan 22 12:38:24 +0000 2015|GP practices in special measures http://bbc.in/1GAFWfw\\n',\n",
              " '558182882955374592|Thu Jan 22 08:42:24 +0000 2015|Cigarette package law brought forward http://bbc.in/15dwTzH\\n',\n",
              " \"558102860010094594|Thu Jan 22 03:24:25 +0000 2015|Depression 'more common in military' http://bbc.in/1GyqtMI\\n\",\n",
              " \"558084585075273728|Thu Jan 22 02:11:48 +0000 2015|Exercise advice is 'unrealistic' http://bbc.in/1CRAjUe\\n\",\n",
              " '557958936934887425|Wed Jan 21 17:52:31 +0000 2015|VIDEO: Peru doctors test portable cancer pen http://bbc.in/1GvW5Tp\\n',\n",
              " \"557865042335768576|Wed Jan 21 11:39:25 +0000 2015|Death certificate overhaul 'deferred' http://bbc.in/182OPyV\\n\",\n",
              " '557865041182339073|Wed Jan 21 11:39:25 +0000 2015|Ebola scientist warns business elite http://bbc.in/182OPiu\\n',\n",
              " '557846777496604673|Wed Jan 21 10:26:50 +0000 2015|VIDEO: Could new heart test save women? http://bbc.in/1yHjcUj\\n',\n",
              " \"557835512418164736|Wed Jan 21 09:42:04 +0000 2015|Partners can 'make pain worse' http://bbc.in/1yHaKUS\\n\",\n",
              " \"557835510107111426|Wed Jan 21 09:42:04 +0000 2015|VIDEO: Care system 'failing the elderly' http://bbc.in/1yHaKUR\\n\",\n",
              " \"557775951871102977|Wed Jan 21 05:45:24 +0000 2015|NHS: The parties' spending plans http://bbc.in/1CNHigX\\n\",\n",
              " \"557767668976353281|Wed Jan 21 05:12:29 +0000 2015|Care cuts 'leave old high and dry' http://bbc.in/1C7Srep\\n\",\n",
              " '557740638834532353|Wed Jan 21 03:25:05 +0000 2015|Newer heart attack test for women http://bbc.in/1GslE7M\\n',\n",
              " '557733431938125824|Wed Jan 21 02:56:27 +0000 2015|Treat NHS whistleblowers better - MPs http://bbc.in/1C79wVC\\n',\n",
              " '557521975212404736|Tue Jan 20 12:56:11 +0000 2015|Ebola NHS doctor returns to work http://bbc.in/1C23Qwd\\n',\n",
              " \"557466873080455168|Tue Jan 20 09:17:14 +0000 2015|Trust drops daily 'meals on wheels' http://bbc.in/1GnIsp2\\n\",\n",
              " '557466872195473409|Tue Jan 20 09:17:14 +0000 2015|Rocketing vaccine cost warning http://bbc.in/1xPy6DT\\n',\n",
              " '557460487898546177|Tue Jan 20 08:51:52 +0000 2015|Bid to tackle hospital bed-blocking http://bbc.in/1yDTwef\\n',\n",
              " '557460486426333184|Tue Jan 20 08:51:51 +0000 2015|VIDEO: Could volunteers help A&amp;E crisis? http://bbc.in/1C0wpdo\\n',\n",
              " '557449575527497728|Tue Jan 20 08:08:30 +0000 2015|Health trust ordered to improve http://bbc.in/1yCAF05\\n',\n",
              " '557395148393283584|Tue Jan 20 04:32:13 +0000 2015|First transplant from UK newborn http://bbc.in/150SXgE\\n',\n",
              " '557387928028999680|Tue Jan 20 04:03:32 +0000 2015|Global soil hunt for new drugs http://bbc.in/1CJdYrQ\\n',\n",
              " '557341240505556993|Tue Jan 20 00:58:01 +0000 2015|Call the Midwife in Bangladesh http://bbc.in/1507Vn2\\n',\n",
              " \"557305784007024640|Mon Jan 19 22:37:07 +0000 2015|Chinese man's rare stem cell match http://bbc.in/1CIrpZ1\\n\",\n",
              " \"557214273567334400|Mon Jan 19 16:33:30 +0000 2015|Fitness 'rubs off on your partner' http://bbc.in/1yzNisH\\n\",\n",
              " \"557206596212625409|Mon Jan 19 16:02:59 +0000 2015|Doctor 'performed FGM on new mother' http://bbc.in/1yzIIxJ\\n\",\n",
              " '557170465781731328|Mon Jan 19 13:39:25 +0000 2015|Â£40,000 legal costs of gay blood ban http://bbc.in/14XjhbH\\n',\n",
              " '557170465064509443|Mon Jan 19 13:39:25 +0000 2015|Higher dementia rates found in north http://bbc.in/1yCT2DK\\n',\n",
              " \"557061335515537408|Mon Jan 19 06:25:46 +0000 2015|VIDEO: Guinea's Ebola culture battle http://bbc.in/1yybRpU\\n\",\n",
              " \"556982364862050304|Mon Jan 19 01:11:58 +0000 2015|Dentists 'not clear about costs' http://bbc.in/1yweZG3\\n\",\n",
              " \"556982364148989952|Mon Jan 19 01:11:58 +0000 2015|'Designer baby debate should start' http://bbc.in/1yweXhn\\n\",\n",
              " '556982363482112002|Mon Jan 19 01:11:58 +0000 2015|Miliband pledges mental health push http://bbc.in/1yxEDqO\\n',\n",
              " '556974430576865281|Mon Jan 19 00:40:26 +0000 2015|Clegg backs plan to reduce suicides http://bbc.in/1xIpiQr\\n',\n",
              " \"556607422089814016|Sun Jan 18 00:22:05 +0000 2015|'Give flu jab to popular med students' http://bbc.in/1BKPgcd\\n\",\n",
              " \"556243366875119617|Sat Jan 17 00:15:27 +0000 2015|Food tax 'would fund public health' http://bbc.in/1xyAkHL\\n\",\n",
              " \"556243366107545600|Sat Jan 17 00:15:27 +0000 2015|Poor sleep 'link to teen drink risk' http://bbc.in/1GbtqCI\\n\",\n",
              " \"556243365365157890|Sat Jan 17 00:15:27 +0000 2015|Most pupils 'never shower' after PE http://bbc.in/1Gbtsup\\n\",\n",
              " \"556112295617495041|Fri Jan 16 15:34:37 +0000 2015|VIDEO: 'Winter ward' to ease pressure http://bbc.in/1G8n1Zc\\n\",\n",
              " '556050308086784000|Fri Jan 16 11:28:19 +0000 2015|Possible Ebola case flown to UK http://bbc.in/1G6PUVv\\n',\n",
              " \"556040294617980931|Fri Jan 16 10:48:31 +0000 2015|Wales and NI A&amp;E waits 'worsen' http://bbc.in/1G6EEIW\\n\",\n",
              " '556032239926902784|Fri Jan 16 10:16:31 +0000 2015|VIDEO: Could you afford Â£700 a week for care? http://bbc.in/14Hroc9\\n',\n",
              " '556032238026887168|Fri Jan 16 10:16:30 +0000 2015|Meet the children orphaned by Ebola http://bbc.in/1G6vZ9e\\n',\n",
              " \"555924480153751552|Fri Jan 16 03:08:19 +0000 2015|Stress 'stops empathy for strangers' http://bbc.in/1yoC23U\\n\",\n",
              " \"555924479474294784|Fri Jan 16 03:08:19 +0000 2015|Closing eyes 'aids memory recall' http://bbc.in/14GifAu\\n\",\n",
              " '555924478639607808|Fri Jan 16 03:08:18 +0000 2015|A&amp;Es given safe nurse staffing rules http://bbc.in/14GifAt\\n',\n",
              " \"555797565065535488|Thu Jan 15 18:44:00 +0000 2015|NHS chief: 'More cancer cuts likely' http://bbc.in/1Bxmls3\\n\",\n",
              " '555784305108996097|Thu Jan 15 17:51:18 +0000 2015|Unusual activities to get you moving http://bbc.in/1ymrAda\\n',\n",
              " '555682420226138112|Thu Jan 15 11:06:27 +0000 2015|Ebola cases declining in West Africa http://bbc.in/1CpGHlt\\n',\n",
              " \"555674853995331584|Thu Jan 15 10:36:23 +0000 2015|NHS urged to 'take back' hospital http://bbc.in/1ykIAk4\\n\",\n",
              " '555664624284999681|Thu Jan 15 09:55:44 +0000 2015|AUDIO: Three days in a hospital stock room http://bbc.in/1ymot3m\\n',\n",
              " '555656898460934145|Thu Jan 15 09:25:02 +0000 2015|Hibernating hints at dementia therapy http://bbc.in/1Buzan0\\n',\n",
              " '555638989189697536|Thu Jan 15 08:13:52 +0000 2015|VIDEO: How do our brains deteriorate with age? http://bbc.in/1FZP8tt\\n',\n",
              " \"555605033908072450|Thu Jan 15 05:58:57 +0000 2015|Cannabis addicts 'let down' http://bbc.in/14CuaiI\\n\",\n",
              " '555594565994807297|Thu Jan 15 05:17:21 +0000 2015|VIDEO: Feeling the heat in protective gear http://bbc.in/1Btz277\\n',\n",
              " '555568972448288768|Thu Jan 15 03:35:39 +0000 2015|Infected blood legal case begins http://bbc.in/1ylwLbG\\n',\n",
              " '555568971760431104|Thu Jan 15 03:35:39 +0000 2015|Labour pledges caps on fat and salt http://bbc.in/1FYRkS0\\n',\n",
              " \"555568971018014720|Thu Jan 15 03:35:39 +0000 2015|Inactivity 'kills more than obesity' http://bbc.in/1ylwIws\\n\",\n",
              " '555504832753061888|Wed Jan 14 23:20:47 +0000 2015|Suspected Ebola case at UK hospital http://bbc.in/1yiEuZK\\n',\n",
              " '555460153957298176|Wed Jan 14 20:23:15 +0000 2015|VIDEO: More than 400,000 extra A&amp;E visits http://bbc.in/1FXfSe5\\n',\n",
              " '555433755045683200|Wed Jan 14 18:38:21 +0000 2015|VIDEO: Actor Bachchan on disease fight http://bbc.in/1ClRoVW\\n',\n",
              " '555423260842524672|Wed Jan 14 17:56:39 +0000 2015|VIDEO: Pregnant women more at risk of Ebola http://bbc.in/1yjXp4T\\n',\n",
              " '555372615632564225|Wed Jan 14 14:35:24 +0000 2015|VIDEO: PM quizzed on ambulance death claims http://bbc.in/14ztASV\\n',\n",
              " '555339500528730112|Wed Jan 14 12:23:49 +0000 2015|Exercise helps with ME, study says http://bbc.in/1FVaxUJ\\n',\n",
              " '555319120732758017|Wed Jan 14 11:02:50 +0000 2015|More than 400,000 extra A&amp;E visits http://bbc.in/1yfmI9F\\n',\n",
              " \"555300171794239488|Wed Jan 14 09:47:32 +0000 2015|VIDEO: Ageing without children 'taboo topic' http://bbc.in/1Bods40\\n\",\n",
              " '555259458037641216|Wed Jan 14 07:05:45 +0000 2015|Ebola care centre for pregnant women http://bbc.in/1BnxD20\\n',\n",
              " \"555207602217295872|Wed Jan 14 03:39:42 +0000 2015|Poor diabetes care 'costing lives' http://bbc.in/1ydsBnY\\n\",\n",
              " \"555207601537822721|Wed Jan 14 03:39:42 +0000 2015|Young jobless 'face isolation risk' http://bbc.in/14xPUMN\\n\",\n",
              " '555165995455623168|Wed Jan 14 00:54:22 +0000 2015|VIDEO: CDC Director optimistic on Ebola http://bbc.in/1Bm8WmL\\n',\n",
              " \"555003573482692609|Tue Jan 13 14:08:58 +0000 2015|A&amp;E stress 'worse than Iraq war' http://bbc.in/1BiDsxK\\n\",\n",
              " '555003572710948866|Tue Jan 13 14:08:57 +0000 2015|The secret history of Special Brew http://bbc.in/1BiDqWG\\n',\n",
              " '554938858928738304|Tue Jan 13 09:51:48 +0000 2015|MSPs consider assisted suicide laws http://bbc.in/1CcFspm\\n',\n",
              " '554920455732072448|Tue Jan 13 08:38:41 +0000 2015|VIDEO: Changing attitudes to older people http://bbc.in/14U5DGr\\n',\n",
              " '554912483073200129|Tue Jan 13 08:07:00 +0000 2015|Australians to pay more to see GPs http://bbc.in/1FONn29\\n',\n",
              " \"554823374585622531|Tue Jan 13 02:12:55 +0000 2015|Computers 'good judge of character' http://bbc.in/1ydvm73\\n\",\n",
              " \"554823373784485888|Tue Jan 13 02:12:55 +0000 2015|Regular naps are 'key to learning' http://bbc.in/1ydvkfn\\n\",\n",
              " \"554798188226285569|Tue Jan 13 00:32:50 +0000 2015|So is cancer mostly 'bad luck' or not? http://bbc.in/1xiC8oa\\n\",\n",
              " '554798187584577536|Tue Jan 13 00:32:50 +0000 2015|The transgender 13-year-old http://bbc.in/1xiC8V8\\n',\n",
              " '554701692097155073|Mon Jan 12 18:09:23 +0000 2015|NHS issues cold weather alert http://bbc.in/14qzNQZ\\n',\n",
              " '554701691484774400|Mon Jan 12 18:09:23 +0000 2015|Dozens died during 999 downgrade http://bbc.in/1y4WYNc\\n',\n",
              " '554701690796924928|Mon Jan 12 18:09:23 +0000 2015|Cuts to cancer treatments announced http://bbc.in/14qzQfL\\n',\n",
              " '554701690159366144|Mon Jan 12 18:09:23 +0000 2015|VIDEO: Booze-free bar and club for London http://bbc.in/14qzQfG\\n',\n",
              " '554666841230938112|Mon Jan 12 15:50:54 +0000 2015|VIDEO: Can sugar cure painful leg ulcers? http://bbc.in/1C8cPcU\\n',\n",
              " '554648995474075649|Mon Jan 12 14:40:00 +0000 2015|Ebola nurse no longer critically ill http://bbc.in/1y3VJOb\\n',\n",
              " '554602579808616448|Mon Jan 12 11:35:33 +0000 2015|Hospital forced to chain toys to bed http://bbc.in/1FKHy5V\\n',\n",
              " '554584500055703552|Mon Jan 12 10:23:43 +0000 2015|Plasters for the mind - the rise in mental health first aid http://bbc.in/1y2RouL\\n',\n",
              " '554547868095111168|Mon Jan 12 07:58:09 +0000 2015|VIDEO: Health fears over train toilet waste http://bbc.in/1xfpWV5\\n',\n",
              " '554547867210113024|Mon Jan 12 07:58:09 +0000 2015|Higher premature death rate targeted http://bbc.in/1xfpVk5\\n',\n",
              " '554476221094834176|Mon Jan 12 03:13:27 +0000 2015|In search of a personalised diet http://bbc.in/1B7JMYJ\\n',\n",
              " \"554451273651478528|Mon Jan 12 01:34:19 +0000 2015|Blood test 'to help smokers quit' http://bbc.in/1y1daz9\\n\",\n",
              " '554451272636448768|Mon Jan 12 01:34:19 +0000 2015|How do we pay for innovative drugs? http://bbc.in/14mvkz0\\n',\n",
              " \"554326227121491968|Sun Jan 11 17:17:26 +0000 2015|VIDEO: 'We must plan ahead on cancer' http://bbc.in/1xcT7s5\\n\",\n",
              " '554207928106754048|Sun Jan 11 09:27:21 +0000 2015|VIDEO: Cancer task force looks at diagnosis http://bbc.in/1y6gOWK\\n',\n",
              " '554189523551129600|Sun Jan 11 08:14:13 +0000 2015|VIDEO: Child marriage in Ivory Coast http://bbc.in/1FGyKOr\\n',\n",
              " '554094692845899776|Sun Jan 11 01:57:24 +0000 2015|All aboard the chemo bus http://bbc.in/1FFLHbh\\n',\n",
              " '554078390810984448|Sun Jan 11 00:52:37 +0000 2015|VIDEO: Sussex GP weekend appointments offered http://bbc.in/1FFCmQE\\n',\n",
              " '554078390127316992|Sun Jan 11 00:52:37 +0000 2015|VIDEO: Chemotherapy on your doorstep http://bbc.in/1FFCkbE\\n',\n",
              " '554068148094128128|Sun Jan 11 00:11:55 +0000 2015|NHS aims for earlier cancer diagnosis http://bbc.in/14hbdlB\\n',\n",
              " '553925955916693506|Sat Jan 10 14:46:53 +0000 2015|VIDEO: How UK nurse may have got Ebola http://bbc.in/1AXEtuR\\n',\n",
              " '553907643480154112|Sat Jan 10 13:34:07 +0000 2015|VIDEO: In an Ebola treatment centre http://bbc.in/1xUfjMU\\n',\n",
              " '553690939001032705|Fri Jan 09 23:13:01 +0000 2015|A testing week for the NHS http://bbc.in/1BWN4wa\\n',\n",
              " \"553637827343175680|Fri Jan 09 19:41:58 +0000 2015|The 'golden rule' of NHS politics http://bbc.in/1AS9X5J\\n\",\n",
              " '553560234929582081|Fri Jan 09 14:33:39 +0000 2015|VIDEO: Why are A&amp;E queues rising at hospitals? http://bbc.in/14zytvH\\n',\n",
              " '553545740400594947|Fri Jan 09 13:36:03 +0000 2015|Vaccines move to Ebola frontline http://bbc.in/1x3gqEp\\n',\n",
              " \"553491894802456576|Fri Jan 09 10:02:05 +0000 2015|A&amp;E waits in England 'getting worse' http://bbc.in/1x2uZbw\\n\",\n",
              " '553476544438353921|Fri Jan 09 09:01:05 +0000 2015|Private firm pulls out of hospital http://bbc.in/1xYfMw3\\n',\n",
              " \"553476543427530752|Fri Jan 09 09:01:05 +0000 2015|Elastic implant 'reverses paralysis' http://bbc.in/1Fyh1IR\\n\",\n",
              " '553463474005610496|Fri Jan 09 08:09:09 +0000 2015|VIDEO: Worst A&amp;E waiting times in a decade http://bbc.in/14xSHWw\\n',\n",
              " \"553224177306460160|Thu Jan 08 16:18:16 +0000 2015|Ebola nurse 'critical for some time' http://bbc.in/145VZzH\\n\",\n",
              " \"553213358665515010|Thu Jan 08 15:35:17 +0000 2015|Flu cases 'highest for three years' http://bbc.in/1AKFaYw\\n\",\n",
              " \"553158613745668096|Thu Jan 08 11:57:45 +0000 2015|AUDIO: Drug company 'may take legal action' http://bbc.in/1FsNUGQ\\n\",\n",
              " '552979477999788032|Thu Jan 08 00:05:56 +0000 2015|Ebola: A day with the burial team http://bbc.in/1AH9gMm\\n',\n",
              " \"552917288823689217|Wed Jan 07 19:58:49 +0000 2015|'Outrage' at NHS cancer drugs move http://bbc.in/1FoEUm8\\n\",\n",
              " \"552917288051941376|Wed Jan 07 19:58:48 +0000 2015|VIDEO: Addenbrooke's declares 'major incident' http://bbc.in/1wVjUc5\\n\",\n",
              " \"552890134601809920|Wed Jan 07 18:10:54 +0000 2015|'Game-changing' antibiotic find http://bbc.in/1AFVGZC\\n\",\n",
              " \"552890133985243136|Wed Jan 07 18:10:54 +0000 2015|MP: Pregnant women 'should not drink' http://bbc.in/14oYRZ2\\n\",\n",
              " '552853811060948994|Wed Jan 07 15:46:34 +0000 2015|VIDEO: Brain surgery for epilepsy sufferers http://bbc.in/1FnhFJ0\\n',\n",
              " '552835323726553089|Wed Jan 07 14:33:07 +0000 2015|Private medical school Â£36,000 fees http://bbc.in/1wUopDG\\n',\n",
              " \"552835322891874306|Wed Jan 07 14:33:06 +0000 2015|Patients 'getting stuck in hospital' http://bbc.in/1AF53ZG\\n\",\n",
              " \"552812183344541696|Wed Jan 07 13:01:09 +0000 2015|AUDIO: A&amp;E doctor: We can't turn people away http://bbc.in/1AEGBHJ\\n\",\n",
              " '552770241789317121|Wed Jan 07 10:14:30 +0000 2015|VIDEO: What is the best support for autism? http://bbc.in/14mCDHf\\n',\n",
              " \"552770241055318017|Wed Jan 07 10:14:30 +0000 2015|VIDEO: 'Two hours waiting in ambulance' http://bbc.in/1AEc3G4\\n\",\n",
              " '552642158012813313|Wed Jan 07 01:45:32 +0000 2015|Ebola drug trial starts in Liberia http://bbc.in/1BILBcU\\n',\n",
              " \"552596532608790528|Tue Jan 06 22:44:14 +0000 2015|Labour seeks summit to find A&amp;E 'fix' http://bbc.in/1FiS18i\\n\",\n",
              " '552570262097391616|Tue Jan 06 20:59:51 +0000 2015|VIDEO: Why are hospital A&amp;Es struggling? http://bbc.in/1w0v7rE\\n',\n",
              " '552541355160129537|Tue Jan 06 19:04:59 +0000 2015|More stressed NHS staff signed off http://bbc.in/1xORuob\\n',\n",
              " \"552541354157686786|Tue Jan 06 19:04:59 +0000 2015|VIDEO: 'Almost 12 hour wait for an ambulance' http://bbc.in/1ABqevz\\n\",\n",
              " '552532982452715521|Tue Jan 06 18:31:43 +0000 2015|Trusts cancel non-emergency ops http://bbc.in/1ABm2fi\\n',\n",
              " \"552504094192332801|Tue Jan 06 16:36:55 +0000 2015|Diabetes life expectancy 'improving' http://bbc.in/1wS3tNQ\\n\",\n",
              " \"552485534015430656|Tue Jan 06 15:23:10 +0000 2015|Women's lung cancer rates rocket http://bbc.in/1xzKXz5\\n\",\n",
              " \"552460232056913921|Tue Jan 06 13:42:38 +0000 2015|VIDEO: Hunt responds to patients' A&amp;E woes http://bbc.in/1xNJyDu\\n\",\n",
              " '552444047550582784|Tue Jan 06 12:38:19 +0000 2015|Mixed views on A&amp;E waiting times http://bbc.in/1FfLviF\\n',\n",
              " \"552425666617294848|Tue Jan 06 11:25:17 +0000 2015|'Unique' life of having two penises http://bbc.in/1wRyCki\\n\",\n",
              " '552425664469819394|Tue Jan 06 11:25:16 +0000 2015|Ebola: New vaccine trial begins http://bbc.in/1Ffsflr\\n',\n",
              " \"552425663295401987|Tue Jan 06 11:25:16 +0000 2015|VIDEO: NHS in crisis - Labour's Burnham http://bbc.in/1AzIFkl\\n\",\n",
              " \"552415200968998914|Tue Jan 06 10:43:41 +0000 2015|'Major incidents' at six hospitals http://bbc.in/1xyNMQO\\n\",\n",
              " \"552407388155052032|Tue Jan 06 10:12:39 +0000 2015|VIDEO: 'Autism for me is a painful gift' http://bbc.in/1Ff9GOg\\n\",\n",
              " \"552407387144212480|Tue Jan 06 10:12:38 +0000 2015|VIDEO: 'NHS saved my life five times' http://bbc.in/1wRrNPP\\n\",\n",
              " \"552407386133385217|Tue Jan 06 10:12:38 +0000 2015|VIDEO: Emergency care system 'confusing' http://bbc.in/1xyHQr0\\n\",\n",
              " '552388859586424834|Tue Jan 06 08:59:01 +0000 2015|VIDEO: Lib Dems NHS funding gap pledge http://bbc.in/1wRlNq9\\n',\n",
              " \"552373851804692480|Tue Jan 06 07:59:23 +0000 2015|VIDEO: Record number 'living with cancer' http://bbc.in/1xyi863\\n\",\n",
              " '552373850865139713|Tue Jan 06 07:59:23 +0000 2015|VIDEO: A&amp;E performance target figures due http://bbc.in/1vXhB8g\\n',\n",
              " \"552269111393144832|Tue Jan 06 01:03:11 +0000 2015|Common cold 'prefers cold noses' http://bbc.in/1Fd2Fxj\\n\",\n",
              " \"552269110436839424|Tue Jan 06 01:03:11 +0000 2015|Cancer cases to reach 'record high' http://bbc.in/1xM7siN\\n\",\n",
              " \"552261867939168256|Tue Jan 06 00:34:24 +0000 2015|A&amp;E performance 'to hit new low' http://bbc.in/1FcVFR1\\n\",\n",
              " \"552197130509512704|Mon Jan 05 20:17:09 +0000 2015|VIDEO: 'Full review' into Ebola nurse case http://bbc.in/1vUsibM\\n\",\n",
              " \"552178818543124481|Mon Jan 05 19:04:23 +0000 2015|Hospitals declare 'major incidents' http://bbc.in/1Ax2wRa\\n\",\n",
              " \"552160487891169280|Mon Jan 05 17:51:33 +0000 2015|UK Ebola nurse has 'stabilised' http://bbc.in/1Fb7nM0\\n\",\n",
              " '552114534547062784|Mon Jan 05 14:48:57 +0000 2015|Aldi chocolate in salmonella scare http://bbc.in/1xKzU4A\\n',\n",
              " '552061293071331328|Mon Jan 05 11:17:23 +0000 2015|VIDEO: Can gadget count calories digested? http://bbc.in/1xtlYgR\\n',\n",
              " \"552042823797600256|Mon Jan 05 10:04:00 +0000 2015|VIDEO: Ebola nurse 'very committed' http://bbc.in/1Avne3M\\n\",\n",
              " \"552024239335698432|Mon Jan 05 08:50:09 +0000 2015|VIDEO: Autism patients 'failed by system' http://bbc.in/1vRgIOz\\n\",\n",
              " '551996493356232704|Mon Jan 05 06:59:54 +0000 2015|VIDEO: Extra screening tests for newborns http://bbc.in/1F8kKwF\\n',\n",
              " \"551984206595637248|Mon Jan 05 06:11:04 +0000 2015|VIDEO: Ebola charity: 'No stone unturned' http://bbc.in/1vQKGCg\\n\",\n",
              " '551970849851322368|Mon Jan 05 05:18:00 +0000 2015|Charity to probe UK Ebola nurse case http://bbc.in/1xs7D4k\\n',\n",
              " \"551921035788836865|Mon Jan 05 02:00:03 +0000 2015|Cut children's sugar, parents told http://bbc.in/1AugALk\\n\",\n",
              " \"551917655456641024|Mon Jan 05 01:46:37 +0000 2015|NHS 'sticking plaster' on inequality http://bbc.in/1vPGylZ\\n\",\n",
              " '551900743859306496|Mon Jan 05 00:39:25 +0000 2015|Life-saving baby screening expanded http://bbc.in/1xIPT3b\\n',\n",
              " '551886254623563776|Sun Jan 04 23:41:51 +0000 2015|Hospitals declare major incident http://bbc.in/1wOW41I\\n',\n",
              " \"551717959391916032|Sun Jan 04 12:33:06 +0000 2015|VIDEO: Families 'should be involved in care' http://bbc.in/1AsmGM7\\n\",\n",
              " '551717958376902656|Sun Jan 04 12:33:06 +0000 2015|Proper checks in place for Ebola - PM http://bbc.in/1AsmEDS\\n',\n",
              " \"551711100115251200|Sun Jan 04 12:05:51 +0000 2015|VIDEO: Cameron: 'NHS is not unaffordable' http://bbc.in/1vMeikd\\n\",\n",
              " '551565218510172160|Sun Jan 04 02:26:10 +0000 2015|Labour in new NHS attack on Tories http://bbc.in/1vKaD6A\\n',\n",
              " '551387239108730881|Sat Jan 03 14:38:56 +0000 2015|UK Ebola nurse critical - hospital http://bbc.in/1xF7wAU\\n',\n",
              " \"551199059172548608|Sat Jan 03 02:11:11 +0000 2015|Learning disability checks 'success' http://bbc.in/1EXd0NM\\n\",\n",
              " \"551173181478694912|Sat Jan 03 00:28:21 +0000 2015|Ebola flights' UK passengers traced http://bbc.in/1EWPSis\\n\",\n",
              " \"551033133630386179|Fri Jan 02 15:11:51 +0000 2015|VIDEO: World's 'epic battle' against Ebola http://bbc.in/1vBnMyO\\n\",\n",
              " \"550822245304504320|Fri Jan 02 01:13:51 +0000 2015|Most cancer types 'just bad luck' http://bbc.in/1AkLfus\\n\",\n",
              " \"550594863968698370|Thu Jan 01 10:10:19 +0000 2015|VIDEO: Steps to beat 'hidden killer' sepsis http://bbc.in/1EO4AZ6\\n\",\n",
              " \"550588114565988353|Thu Jan 01 09:43:30 +0000 2015|VIDEO: 2014's medical milestone as man walks again http://bbc.in/1ENZig5\\n\",\n",
              " \"550519055040253953|Thu Jan 01 05:09:05 +0000 2015|Babies of addicts 'display problems' http://bbc.in/1x748jE\\n\",\n",
              " '550314934601383936|Wed Dec 31 15:37:59 +0000 2014|Experimental drug for UK Ebola nurse http://bbc.in/1AaZqko\\n',\n",
              " '550221415426039808|Wed Dec 31 09:26:22 +0000 2014|Ebola screening tests under scrutiny http://bbc.in/1tzPeCG\\n',\n",
              " '550193117714849793|Wed Dec 31 07:33:56 +0000 2014|VIDEO: UK Ebola screening under scrutiny http://bbc.in/1AhkGWX\\n',\n",
              " '550071243576074240|Tue Dec 30 23:29:38 +0000 2014|Frontline NHS staff given honours http://bbc.in/1EGvG49\\n',\n",
              " '549985974650798081|Tue Dec 30 17:50:49 +0000 2014|Plasma treatment for UK Ebola patient http://bbc.in/1EFCYoR\\n',\n",
              " '549924270516609025|Tue Dec 30 13:45:37 +0000 2014|First Ebola case linked to bat play http://bbc.in/1AfLEyl\\n',\n",
              " '549896218680107008|Tue Dec 30 11:54:09 +0000 2014|VIDEO: How trials helped patients in 2014 http://bbc.in/1x0i0Mi\\n',\n",
              " '549849800854626304|Tue Dec 30 08:49:42 +0000 2014|Ebola patient arrives in London http://bbc.in/1voozCR\\n',\n",
              " '549738504419176448|Tue Dec 30 01:27:27 +0000 2014|Are we too obsessed with NHS targets? http://bbc.in/1A6kqJb\\n',\n",
              " '549721285945597952|Tue Dec 30 00:19:02 +0000 2014|Prescription fraud plan criticised http://bbc.in/1tfxwPe\\n',\n",
              " '549696529892507649|Mon Dec 29 22:40:40 +0000 2014|VIDEO: Ebola patient to be flown to London http://bbc.in/1AeA3zy\\n',\n",
              " '549642933339561988|Mon Dec 29 19:07:41 +0000 2014|Ebola case confirmed in Glasgow http://bbc.in/1ECcJzH\\n',\n",
              " '549614141816569856|Mon Dec 29 17:13:17 +0000 2014|Right-to-die campaigner Purdy dies http://bbc.in/1Ae67mW\\n',\n",
              " \"549517933613813760|Mon Dec 29 10:50:59 +0000 2014|VIDEO: Smoking 'rots you from the inside' http://bbc.in/1HV82gQ\\n\",\n",
              " '549500364190265344|Mon Dec 29 09:41:10 +0000 2014|VIDEO: Robot-assisted surgery gains ground http://bbc.in/1EAoQ06\\n',\n",
              " '549376560621314048|Mon Dec 29 01:29:13 +0000 2014|Smoking rot highlighted in campaign http://bbc.in/1Bj5SVI\\n',\n",
              " '549080541731905537|Sun Dec 28 05:52:57 +0000 2014|Target drunks, A&amp;E boss urges police http://bbc.in/1vBV9SR\\n',\n",
              " '549009183182303232|Sun Dec 28 01:09:24 +0000 2014|Why are so many drinks flavoured with honey? http://bbc.in/1Bg3Qpr\\n',\n",
              " '549009182456688640|Sun Dec 28 01:09:23 +0000 2014|Ebola: How does it compare? http://bbc.in/1Ew4u8l\\n',\n",
              " \"548655039036674048|Sat Dec 27 01:42:09 +0000 2014|Whooping cough virus 'evolving fast' http://bbc.in/1EsS15m\\n\",\n",
              " '548580818134634497|Fri Dec 26 20:47:13 +0000 2014|Christmas baby born on US train http://bbc.in/1zGaAQh\\n',\n",
              " '548417472924098561|Fri Dec 26 09:58:09 +0000 2014|VIDEO: Football stadium disabled access tackled http://bbc.in/1B9uUXJ\\n',\n",
              " \"548417472081063936|Fri Dec 26 09:58:09 +0000 2014|VIDEO: Lifestyle causes '40%' cancer cases http://bbc.in/1wMZyXq\\n\",\n",
              " '548417471426744323|Fri Dec 26 09:58:08 +0000 2014|VIDEO: How the world responded to Ebola http://bbc.in/1wMZAyw\\n',\n",
              " \"548320812101431299|Fri Dec 26 03:34:03 +0000 2014|Life choices 'behind many cancers' http://bbc.in/1EmKlBA\\n\",\n",
              " '548293603370364928|Fri Dec 26 01:45:56 +0000 2014|Paralysis cure, new vaginas...and other medical stories of 2014 http://bbc.in/1CSYm5s\\n',\n",
              " '548048374256005120|Thu Dec 25 09:31:29 +0000 2014|Sierra Leone declares Ebola lockdown http://bbc.in/1EipSxQ\\n',\n",
              " '547948004347346944|Thu Dec 25 02:52:39 +0000 2014|Doctors warn of Loom bands danger http://bbc.in/1HEpqWR\\n',\n",
              " '547929998145769473|Thu Dec 25 01:41:06 +0000 2014|Christmas menus: turtles to turkeys http://bbc.in/1B3DO91\\n',\n",
              " '547859380675153920|Wed Dec 24 21:00:29 +0000 2014|Putin acts to halt rising vodka cost http://bbc.in/1B2K3Kh\\n',\n",
              " '547763480254640128|Wed Dec 24 14:39:25 +0000 2014|Santa grotto helps boy with epilepsy http://bbc.in/1HBk7aS\\n',\n",
              " \"547709288693497856|Wed Dec 24 11:04:05 +0000 2014|VIDEO: Ebola 'decline' but not last epidemic http://bbc.in/1B0IaOl\\n\",\n",
              " \"547693074000801792|Wed Dec 24 09:59:39 +0000 2014|VIDEO: Britons 'in denial about obesity' http://bbc.in/1EckSuB\\n\",\n",
              " '547664746720157696|Wed Dec 24 08:07:05 +0000 2014|Planned NHS cash changes spark anger http://bbc.in/1EbZ1mZ\\n',\n",
              " '547657097425338368|Wed Dec 24 07:36:41 +0000 2014|Three e-cigarette TV adverts banned http://bbc.in/1CGSITK\\n',\n",
              " \"547657096771031040|Wed Dec 24 07:36:41 +0000 2014|Ebola crisis 'likely to last a year' http://bbc.in/1CGSGv8\\n\",\n",
              " '547541289340633088|Tue Dec 23 23:56:30 +0000 2014|VIDEO: GP Christmas closure patient advice http://bbc.in/1HxOJK6\\n',\n",
              " \"547445384008581120|Tue Dec 23 17:35:25 +0000 2014|Smartphones 'changing our brains' http://bbc.in/1t7Lzf7\\n\",\n",
              " \"547434310706282496|Tue Dec 23 16:51:25 +0000 2014|VIDEO: Healthcare workers' Ebola battle http://bbc.in/1AWTYkD\\n\",\n",
              " \"547434309749981185|Tue Dec 23 16:51:24 +0000 2014|The west Africa you don't see http://bbc.in/1JOW5wI\\n\",\n",
              " \"547434308797857794|Tue Dec 23 16:51:24 +0000 2014|US childhood 'safer than in 1970s' http://bbc.in/1JOKdee\\n\",\n",
              " '547415503065456640|Tue Dec 23 15:36:41 +0000 2014|Christmas closures - plan ahead http://bbc.in/1CC1nXC\\n',\n",
              " '547397244970737664|Tue Dec 23 14:24:08 +0000 2014|Scientists attack student exit plan http://bbc.in/13WgAr9\\n',\n",
              " '547307675050971136|Tue Dec 23 08:28:12 +0000 2014|VIDEO: NHS: Help elderly to ease A&amp;E pressure http://bbc.in/1E6b7xN\\n',\n",
              " \"547195841199362049|Tue Dec 23 01:03:49 +0000 2014|Ebola vaccine 'promising in Africa' http://bbc.in/1JLejiP\\n\",\n",
              " \"547195840469544961|Tue Dec 23 01:03:49 +0000 2014|Tackle loneliness to 'shield' A&amp;E http://bbc.in/1JLelHi\\n\",\n",
              " \"547195839697805312|Tue Dec 23 01:03:49 +0000 2014|E-readers 'damage sleep and health' http://bbc.in/1JLejiL\\n\",\n",
              " \"546991641777541120|Mon Dec 22 11:32:24 +0000 2014|VIDEO: DNA project 'revolution' in diagnosis http://bbc.in/1JHOEaP\\n\",\n",
              " '546821402087546881|Mon Dec 22 00:15:56 +0000 2014|NHS to start era of DNA-medicine http://bbc.in/1CqPvb2\\n',\n",
              " \"546749949430349824|Sun Dec 21 19:32:00 +0000 2014|VIDEO: 'Ambulance targets may help patients' http://bbc.in/13RIFQy\\n\",\n",
              " '546553715721633792|Sun Dec 21 06:32:14 +0000 2014|Ambulance targets plan revealed http://bbc.in/1JBXoPG\\n',\n",
              " '546495036783747073|Sun Dec 21 02:39:04 +0000 2014|VIDEO: Fixing bones with a household drill http://bbc.in/1Hi0jcj\\n',\n",
              " '546377582514413568|Sat Dec 20 18:52:21 +0000 2014|First UK reservists join Ebola fight http://bbc.in/1vbBrgJ\\n',\n",
              " \"546100199077076992|Sat Dec 20 00:30:08 +0000 2014|Asthma inhalers 'not used properly' http://bbc.in/1v9DKko\\n\",\n",
              " '546028267296149505|Fri Dec 19 19:44:18 +0000 2014|NHS to start era of DNA-medicine http://bbc.in/1Jq1KsW\\n',\n",
              " '545984952689369088|Fri Dec 19 16:52:11 +0000 2014|Ebola kills top Sierra Leone doctor http://bbc.in/1Jj76WW\\n',\n",
              " '545942398442815488|Fri Dec 19 14:03:05 +0000 2014|EU approves first stem cell therapy http://bbc.in/1GZoBHM\\n',\n",
              " '545921642069622784|Fri Dec 19 12:40:36 +0000 2014|Stem cell scandal scientist resigns http://bbc.in/1Jf13Tk\\n',\n",
              " '545914225231540224|Fri Dec 19 12:11:08 +0000 2014|NHS staff to strike in new year http://bbc.in/13HFRVU\\n',\n",
              " \"545897627519184897|Fri Dec 19 11:05:11 +0000 2014|A&amp;E has 'worst week' in England http://bbc.in/1wrJ1rX\\n\",\n",
              " '545897626848079872|Fri Dec 19 11:05:11 +0000 2014|VIDEO: Robotic suit helps patients to walk http://bbc.in/1wrJ3jy\\n',\n",
              " \"545886107519303680|Fri Dec 19 10:19:24 +0000 2014|VIDEO: Disability work scheme 'lacks cash' http://bbc.in/1JeoT1v\\n\",\n",
              " \"545761453110599680|Fri Dec 19 02:04:04 +0000 2014|Painkillers 'cut skin cancer risk' http://bbc.in/13FoHIH\\n\",\n",
              " \"545761452452089856|Fri Dec 19 02:04:04 +0000 2014|Brain's 'internal compass' found http://bbc.in/13iPo4X\\n\",\n",
              " \"545758722350272512|Fri Dec 19 01:53:13 +0000 2014|'Support vulnerable doctors' call http://bbc.in/13FmI6Z\\n\",\n",
              " '545753059914043392|Fri Dec 19 01:30:43 +0000 2014|VIDEO: A night on the SOS bus http://bbc.in/1wp3MV5\\n',\n",
              " '545557545796919296|Thu Dec 18 12:33:49 +0000 2014|VIDEO: Hunt: NHS getting record funds http://bbc.in/13fElcV\\n',\n",
              " \"545519339500081153|Thu Dec 18 10:02:00 +0000 2014|Obesity 'is a disability' - EU law http://bbc.in/1Ahj2V5\\n\",\n",
              " '545519338715750401|Thu Dec 18 10:02:00 +0000 2014|Autism link to air pollution raised http://bbc.in/1Ahj1QT\\n',\n",
              " '545519338040487937|Thu Dec 18 10:02:00 +0000 2014|Drug allergy: Culprit protein found http://bbc.in/1Ahj2ED\\n',\n",
              " '545466057469607936|Thu Dec 18 06:30:17 +0000 2014|VIDEO: Visiting the doctor via the internet http://bbc.in/1C2QFJw\\n',\n",
              " '545404688388980736|Thu Dec 18 02:26:25 +0000 2014|Ill teenagers not to be held in cells http://bbc.in/1J5z7Bm\\n',\n",
              " \"545368819187720193|Thu Dec 18 00:03:53 +0000 2014|VIDEO: Smoking in cars 'harmful for children' http://bbc.in/13zM3PJ\\n\",\n",
              " \"545228033506816003|Wed Dec 17 14:44:27 +0000 2014|Car smoke ban 'to start in October' http://bbc.in/1J2AxfY\\n\",\n",
              " '545228032835727360|Wed Dec 17 14:44:27 +0000 2014|VIDEO: Fewer or more nurses in NHS today? http://bbc.in/1J2AzUR\\n',\n",
              " \"545218088744919041|Wed Dec 17 14:04:56 +0000 2014|Rules for babies 'from three people' http://bbc.in/1Abqzoo\\n\",\n",
              " \"545211917438967809|Wed Dec 17 13:40:25 +0000 2014|Cancer bungle 'down to incompetence' http://bbc.in/1AoiuuA\\n\",\n",
              " '545211916411359232|Wed Dec 17 13:40:25 +0000 2014|NHS winter: Your questions answered http://bbc.in/1J2jlXU\\n',\n",
              " '545182220961337345|Wed Dec 17 11:42:25 +0000 2014|S Leone houses searched for Ebola http://bbc.in/1J1QhQi\\n',\n",
              " \"545131738372902912|Wed Dec 17 08:21:49 +0000 2014|VIDEO: UK may allow 'three parent babies' http://bbc.in/1wfOthk\\n\",\n",
              " \"545131737659891712|Wed Dec 17 08:21:48 +0000 2014|VIDEO: NHS 'over-reliant on foreign nurses' http://bbc.in/1wfOqSL\\n\",\n",
              " '545045321030438912|Wed Dec 17 02:38:25 +0000 2014|Auditors question public health spend http://bbc.in/1Al5feh\\n',\n",
              " '545026743015186432|Wed Dec 17 01:24:36 +0000 2014|Mental health support for mothers http://bbc.in/13vMo6b\\n',\n",
              " \"545026741916295169|Wed Dec 17 01:24:36 +0000 2014|E-cigarettes 'can help smokers quit' http://bbc.in/136XY6P\\n\",\n",
              " \"545026741006123009|Wed Dec 17 01:24:35 +0000 2014|Fat 'breathed out' of body via lungs http://bbc.in/136Y0vr\\n\",\n",
              " '544970757730619392|Tue Dec 16 21:42:08 +0000 2014|UK to aid children affected by Ebola http://bbc.in/135T1eA\\n',\n",
              " '544897414692212736|Tue Dec 16 16:50:42 +0000 2014|Flu jabs needed after outbreak http://bbc.in/1wdAFnF\\n',\n",
              " \"544874212557471746|Tue Dec 16 15:18:30 +0000 2014|A&amp;E units 'creaking under pressure' http://bbc.in/1xp7wr8\\n\",\n",
              " \"544874211932520448|Tue Dec 16 15:18:30 +0000 2014|'Liquid nitrogen drink' bar charged http://bbc.in/1xp7wr3\\n\",\n",
              " '544874211286597634|Tue Dec 16 15:18:29 +0000 2014|Care home scalding death accidental http://bbc.in/1BR58bx\\n',\n",
              " '544860512563916800|Tue Dec 16 14:24:03 +0000 2014|Baby death prompts first aid review http://bbc.in/1GLB69T\\n',\n",
              " '544839775446769664|Tue Dec 16 13:01:39 +0000 2014|Child car smoking ban bill launched http://bbc.in/1IXcGOJ\\n',\n",
              " '544801420633853952|Tue Dec 16 10:29:15 +0000 2014|Ambulance service asks for help http://bbc.in/1A2HgSQ\\n',\n",
              " '544801419681742848|Tue Dec 16 10:29:15 +0000 2014|Superbug found in Rio Olympic waters http://bbc.in/1A2HeKD\\n',\n",
              " '544677962142846976|Tue Dec 16 02:18:40 +0000 2014|Yoga may protect heart, study finds http://bbc.in/1uQHg2W\\n',\n",
              " '544635423733977088|Mon Dec 15 23:29:38 +0000 2014|Me, my friend Pru, and our memories http://bbc.in/12YvNH9\\n',\n",
              " '544540201628872704|Mon Dec 15 17:11:15 +0000 2014|Ebola serum supply reaches Liberia http://bbc.in/1BKtUK4\\n',\n",
              " '544460164326125568|Mon Dec 15 11:53:13 +0000 2014|A&amp;E waiting time target questioned http://bbc.in/1w9itLR\\n',\n",
              " \"544460163671810048|Mon Dec 15 11:53:13 +0000 2014|VIDEO: 'Why I'm having my breasts removed' http://bbc.in/1uMDV4X\\n\",\n",
              " \"544402782954872832|Mon Dec 15 08:05:12 +0000 2014|Bowel surgery death rate 'higher' http://bbc.in/1AbB6he\\n\",\n",
              " \"544402782254403585|Mon Dec 15 08:05:12 +0000 2014|Rare disease service 'overwhelmed' http://bbc.in/1IS8orT\\n\",\n",
              " '544402781604294657|Mon Dec 15 08:05:12 +0000 2014|Victims of a craze for cosmetic surgery http://bbc.in/1AbB49f\\n',\n",
              " \"544293458127495168|Mon Dec 15 00:50:47 +0000 2014|Shift workers 'sicker and fatter' http://bbc.in/1BFg63L\\n\",\n",
              " \"543951417711415296|Sun Dec 14 02:11:38 +0000 2014|Could a stove save children's lives? http://bbc.in/1xfzp4J\\n\",\n",
              " \"543578641368481792|Sat Dec 13 01:30:21 +0000 2014|Poor hygiene 'deadly in childbirth' http://bbc.in/1xc1V7x\\n\",\n",
              " '543440641624006656|Fri Dec 12 16:22:00 +0000 2014|UK reservists to join Ebola fight http://bbc.in/1IJvMro\\n',\n",
              " '543431727499051008|Fri Dec 12 15:46:34 +0000 2014|VIDEO: Burnham on Clegg privatisation claims http://bbc.in/1GtYybu\\n',\n",
              " '543431726807015425|Fri Dec 12 15:46:34 +0000 2014|VIDEO: Burnham: Worst week on record in A&amp;E http://bbc.in/1IJh6Zc\\n',\n",
              " \"543333566063452160|Fri Dec 12 09:16:31 +0000 2014|Cardiff surgeons' musical medicine http://bbc.in/1zFPeBf\\n\",\n",
              " \"543287475557261313|Fri Dec 12 06:13:22 +0000 2014|Boys' self-harm A&amp;E visits 'rising' http://bbc.in/1zF6RkC\\n\",\n",
              " '543209330187587585|Fri Dec 12 01:02:51 +0000 2014|Allergy laws enforced in restaurants http://bbc.in/1vWIVIB\\n',\n",
              " '543209329503924224|Fri Dec 12 01:02:51 +0000 2014|Memory lapses may signal stroke risk http://bbc.in/1vWIVIw\\n',\n",
              " '543209328866390016|Fri Dec 12 01:02:51 +0000 2014|Hospitals â€˜face mounting pressuresâ€™ http://bbc.in/1utLfST\\n',\n",
              " '543100716345094144|Thu Dec 11 17:51:15 +0000 2014|New camera checks Broadmoor patients http://bbc.in/1IFIur4\\n',\n",
              " '543082837352529920|Thu Dec 11 16:40:13 +0000 2014|U-turn over obese surgery bar plan http://bbc.in/1IFtQjF\\n',\n",
              " \"543057278857789441|Thu Dec 11 14:58:39 +0000 2014|Ebola vaccine trial 'interrupted' http://bbc.in/1GoFhbx\\n\",\n",
              " \"542867095499726848|Thu Dec 11 02:22:56 +0000 2014|Mental health job scheme 'damaging' http://bbc.in/1ICOLE6\\n\",\n",
              " \"542841960138932224|Thu Dec 11 00:43:03 +0000 2014|'Sugar worse than salt' row erupts http://bbc.in/1x3UFKM\\n\",\n",
              " \"542841959463677953|Thu Dec 11 00:43:03 +0000 2014|Scientists make 'feel full' chemical http://bbc.in/1BbFbmo\\n\",\n",
              " \"542841958847107073|Thu Dec 11 00:43:03 +0000 2014|Superbugs to kill 'more than cancer' http://bbc.in/1x3UFKI\\n\",\n",
              " '542831630822301698|Thu Dec 11 00:02:00 +0000 2014|What happens when NHS patients are referred to private hospitals? http://bbc.in/1x3QdLW\\n',\n",
              " \"542824060279734272|Wed Dec 10 23:31:55 +0000 2014|Concerns over 'eHospital' system http://bbc.in/1unwctM\\n\",\n",
              " \"542813844473536512|Wed Dec 10 22:51:20 +0000 2014|VIDEO: 'Too many medicines, not enough health' http://bbc.in/1unkr6I\\n\",\n",
              " \"542780998300073984|Wed Dec 10 20:40:49 +0000 2014|NHS 'in trouble' without migrants http://bbc.in/12vt9IL\\n\",\n",
              " '542704179588771840|Wed Dec 10 15:35:34 +0000 2014|Kenya women sue over sterilisation http://bbc.in/1x260Lj\\n',\n",
              " \"542696908876029952|Wed Dec 10 15:06:40 +0000 2014|VIDEO: Clegg smoking question 'a bit harsh' http://bbc.in/1zvy6ho\\n\",\n",
              " \"542622854034890753|Wed Dec 10 10:12:24 +0000 2014|England 'nation of pill-poppers' http://bbc.in/1zNWyZw\\n\",\n",
              " \"542552267446972417|Wed Dec 10 05:31:55 +0000 2014|WHO: Ebola 'running ahead of us' http://bbc.in/1zswPrg\\n\",\n",
              " \"542552266549391360|Wed Dec 10 05:31:55 +0000 2014|VIDEO: WHO: 'Ebola running ahead of us' http://bbc.in/1GhK5zm\\n\",\n",
              " '542473302930124801|Wed Dec 10 00:18:08 +0000 2014|New complaints over NHS ombudsman http://bbc.in/1ujkHUd\\n',\n",
              " '542473301948628992|Wed Dec 10 00:18:08 +0000 2014|Firms awarded third of NHS contracts http://bbc.in/1vM4r2F\\n',\n",
              " '542392458168918017|Tue Dec 09 18:56:53 +0000 2014|VIDEO: Locum doctors plugging A&amp;E gaps http://bbc.in/1wXB3b6\\n',\n",
              " '542373189385347072|Tue Dec 09 17:40:19 +0000 2014|Locum doctors prop up A&amp;E services http://bbc.in/1uhOywj\\n',\n",
              " '542314289130795009|Tue Dec 09 13:46:16 +0000 2014|Hospital deaths inquiry launched http://bbc.in/1GelSKe\\n',\n",
              " '542301011293925376|Tue Dec 09 12:53:31 +0000 2014|Ready meals may count in five a day http://bbc.in/12mD5UL\\n',\n",
              " \"542234281553063936|Tue Dec 09 08:28:21 +0000 2014|'Long wait' for abuse counselling http://bbc.in/1ueGkFd\\n\",\n",
              " '542204527319842816|Tue Dec 09 06:30:07 +0000 2014|Labour pledges cancer therapy fund http://bbc.in/1wVyPc9\\n',\n",
              " \"542112085119754240|Tue Dec 09 00:22:47 +0000 2014|Maternal death rates 'are falling' http://bbc.in/1Is79zb\\n\",\n",
              " '542112084427685888|Tue Dec 09 00:22:47 +0000 2014|Halving of malaria deaths celebrated http://bbc.in/1zGOTfA\\n',\n",
              " '542112084276695041|Tue Dec 09 00:22:47 +0000 2014|Halving of malaria deaths celebrated http://bbc.in/1zGOR7x\\n',\n",
              " '542059412915908608|Mon Dec 08 20:53:29 +0000 2014|Sierra Leone tops Ebola cases http://bbc.in/1ubzLmE\\n',\n",
              " '542032535975260160|Mon Dec 08 19:06:41 +0000 2014|Interesting NHS data no-one is looking at http://bbc.in/1zjAw2t\\n',\n",
              " '541977752069365761|Mon Dec 08 15:29:00 +0000 2014|Call to \"redefine\" physical activity http://bbc.in/1ATtSPG\\n',\n",
              " '541917943378898944|Mon Dec 08 11:31:20 +0000 2014|Disability fund closure ruled lawful http://bbc.in/12WxqFW\\n',\n",
              " '541917942741356545|Mon Dec 08 11:31:20 +0000 2014|Midwife facing baby drugs charges http://bbc.in/12WxsNT\\n',\n",
              " '541917942099632128|Mon Dec 08 11:31:20 +0000 2014|Â£8m compensation for disabled boy http://bbc.in/12WxqFV\\n',\n",
              " \"541900001979289600|Mon Dec 08 10:20:03 +0000 2014|VIDEO: Schools at risk from 'deadly' pollution http://bbc.in/12h72FI\\n\",\n",
              " \"541864870937776128|Mon Dec 08 08:00:27 +0000 2014|Alcohol price law 'could save Â£900m' http://bbc.in/12gMgpT\\n\",\n",
              " \"541755711433089024|Mon Dec 08 00:46:41 +0000 2014|'Take care complaints seriously' http://bbc.in/1ImGT9q\\n\",\n",
              " \"541755710715854848|Mon Dec 08 00:46:41 +0000 2014|Air pollution 'public health crisis' http://bbc.in/1zD8bCz\\n\",\n",
              " '541385185581735936|Sun Dec 07 00:14:21 +0000 2014|VIDEO: Autism-friendly event goes national http://bbc.in/12b2XD7\\n',\n",
              " \"541219668518645760|Sat Dec 06 13:16:39 +0000 2014|Child abuse viewers 'need treatment' http://bbc.in/1vySUDF\\n\",\n",
              " \"541194348767875073|Sat Dec 06 11:36:02 +0000 2014|VIDEO: Scotland's Royal Blind School re-opens http://bbc.in/1ABcMWA\\n\",\n",
              " \"541159704915763200|Sat Dec 06 09:18:22 +0000 2014|Suicide 'not always inevitable' http://bbc.in/1wIpyUW\\n\",\n",
              " \"541159704282402817|Sat Dec 06 09:18:22 +0000 2014|VIDEO: 'Shocking' disability access to shops http://bbc.in/1AArwoE\\n\",\n",
              " '541044473254256640|Sat Dec 06 01:40:29 +0000 2014|Why 361 needles are better than one http://bbc.in/1IbQNe6\\n',\n",
              " \"541035382653997056|Sat Dec 06 01:04:21 +0000 2014|Shops' disability access 'shocking' http://bbc.in/1tU6XyY\\n\",\n",
              " \"541027306391617536|Sat Dec 06 00:32:16 +0000 2014|Text reminders 'stop medicine waste' http://bbc.in/1AxAJhG\\n\",\n",
              " \"540922020951646208|Fri Dec 05 17:33:54 +0000 2014|VIDEO: 'Why does my breastfeeding offend?' http://bbc.in/12If23t\\n\",\n",
              " \"540922020234395650|Fri Dec 05 17:33:54 +0000 2014|Ebola: 'basic care being missed' http://bbc.in/1267Htr\\n\",\n",
              " '540891042325594113|Fri Dec 05 15:30:48 +0000 2014|VIDEO: SWAN children given new hope http://bbc.in/1I9tL7G\\n',\n",
              " '540856223118024704|Fri Dec 05 13:12:26 +0000 2014|Apology for wrong GP risk data http://bbc.in/1vvzAHk\\n',\n",
              " \"540856222044282880|Fri Dec 05 13:12:26 +0000 2014|VIDEO: 'We weren't told of kidney risks' http://bbc.in/1z1oCdv\\n\",\n",
              " \"540848688222842880|Fri Dec 05 12:42:30 +0000 2014|Disabled man 'put up for auction' http://bbc.in/1tQj9B0\\n\",\n",
              " '540838762524073985|Fri Dec 05 12:03:03 +0000 2014|Breastfeed discreetly, urges Farage http://bbc.in/1ztHOiz\\n',\n",
              " '540838761735520256|Fri Dec 05 12:03:03 +0000 2014|Nigerian medics join Ebola response http://bbc.in/1ztHOir\\n',\n",
              " '540813419255844864|Fri Dec 05 10:22:21 +0000 2014|Brain scan call for mild strokes http://bbc.in/1FSSoS7\\n',\n",
              " '540813418588950528|Fri Dec 05 10:22:21 +0000 2014|Obese lose up to eight years of life http://bbc.in/1FSSoS6\\n',\n",
              " '540804016876167168|Fri Dec 05 09:44:59 +0000 2014|VIDEO: Do PE classes affect adult exercise? http://bbc.in/1tPuam3\\n',\n",
              " \"540687383633489920|Fri Dec 05 02:01:32 +0000 2014|NHS should welcome 'citizen whistleblowers' http://bbc.in/1vtCv3f\\n\",\n",
              " \"540687382920458240|Fri Dec 05 02:01:32 +0000 2014|Cancer patients 'often unaccompanied' http://bbc.in/1tNANVL\\n\",\n",
              " \"540687382110953473|Fri Dec 05 02:01:32 +0000 2014|More breastfeeding 'worth millions' http://bbc.in/1vtCs7u\\n\",\n",
              " \"540636022657150976|Thu Dec 04 22:37:26 +0000 2014|Gut bacteria 'help attack malaria' http://bbc.in/1tMCXoJ\\n\",\n",
              " '540585383717654528|Thu Dec 04 19:16:13 +0000 2014|No criticism over transplant deaths http://bbc.in/1vskS3N\\n',\n",
              " \"540519970870816768|Thu Dec 04 14:56:18 +0000 2014|AUDIO: 'I had drink problem whilst pregnant' http://bbc.in/1FQ1GOH\\n\",\n",
              " '540454965244727297|Thu Dec 04 10:37:59 +0000 2014|Court rejects foetal alcohol damages http://bbc.in/1tIQNIG\\n',\n",
              " \"540454964502351872|Thu Dec 04 10:37:59 +0000 2014|'It's not just about the money' http://bbc.in/1vqCxJd\\n\",\n",
              " \"540312285890097153|Thu Dec 04 01:11:02 +0000 2014|Drug 'repairs spinal cord injuries' http://bbc.in/11WlF0V\\n\",\n",
              " \"540214614546317312|Wed Dec 03 18:42:55 +0000 2014|'No evidence' flu drug caused deaths http://bbc.in/1I0HyNO\\n\",\n",
              " '540208510277939200|Wed Dec 03 18:18:40 +0000 2014|Polish toddler survives night at -7C http://bbc.in/1yPNipc\\n',\n",
              " '540208509556506624|Wed Dec 03 18:18:39 +0000 2014|Monitor to launch inquiry into trust http://bbc.in/1FNfkSJ\\n',\n",
              " '540197382743277568|Wed Dec 03 17:34:27 +0000 2014|Smokers and obese face surgery bar http://bbc.in/1zjOYpm\\n',\n",
              " \"540189300755685376|Wed Dec 03 17:02:20 +0000 2014|Elderly 'need to drink more fluid' http://bbc.in/11UyeKm\\n\",\n",
              " '540111155012722689|Wed Dec 03 11:51:48 +0000 2014|Fears as children use e-cigarettes http://bbc.in/1zipqJk\\n',\n",
              " \"540056600111611905|Wed Dec 03 08:15:01 +0000 2014|VIDEO: Home birth 'could be best option' http://bbc.in/11SrH2A\\n\",\n",
              " '539953528244936705|Wed Dec 03 01:25:27 +0000 2014|Guidance says home births can be best http://bbc.in/1tBMMpv\\n',\n",
              " \"539953527582244864|Wed Dec 03 01:25:27 +0000 2014|Med diet 'keeps us genetically young' http://bbc.in/1vjRFIm\\n\",\n",
              " '539912416071401473|Tue Dec 02 22:42:05 +0000 2014|Obama demands $6bn for Ebola fight http://bbc.in/1tBf4Ai\\n',\n",
              " \"539876349830512642|Tue Dec 02 20:18:46 +0000 2014|VIDEO: 'I was terrified to be around food' http://bbc.in/12o2CNV\\n\",\n",
              " \"539842965514903552|Tue Dec 02 18:06:07 +0000 2014|Late night food 'breeds weight gain' http://bbc.in/1FK5kcP\\n\",\n",
              " '539807241990184962|Tue Dec 02 15:44:10 +0000 2014|VIDEO: Is TTIP really a threat to the NHS? http://bbc.in/1FJG6vc\\n',\n",
              " \"539784034750976002|Tue Dec 02 14:11:57 +0000 2014|Patient care faces 'serious' impact http://bbc.in/1zdyQpm\\n\",\n",
              " '539784033903726594|Tue Dec 02 14:11:57 +0000 2014|Child abuse hospital faces claims http://bbc.in/1HURhVC\\n',\n",
              " '539784032997748736|Tue Dec 02 14:11:56 +0000 2014|Sickness advice leaflet to be pulled http://bbc.in/1HUReJE\\n',\n",
              " '539753602487554049|Tue Dec 02 12:11:01 +0000 2014|Seasonal Affective Disorder and the difference from winter blues http://bbc.in/11NLCzN\\n',\n",
              " \"539724502158942208|Tue Dec 02 10:15:23 +0000 2014|AUDIO: HIV virus 'becoming less dangerous' http://bbc.in/1zcHBzU\\n\",\n",
              " '539724501202653185|Tue Dec 02 10:15:23 +0000 2014|VIDEO: Tackling HIV in Myanmar http://bbc.in/1zcHzbq\\n',\n",
              " '539697643702599680|Tue Dec 02 08:28:40 +0000 2014|Health boards spend Â£82m on locums http://bbc.in/1zcmPkb\\n',\n",
              " \"539688266950139904|Tue Dec 02 07:51:24 +0000 2014|NHS leukaemia drug watchdog 'U-turn' http://bbc.in/11MQUM2\\n\",\n",
              " '539671459182804992|Tue Dec 02 06:44:37 +0000 2014|Funding pledge on eating disorders http://bbc.in/1yFwqBs\\n',\n",
              " '539654549384867840|Tue Dec 02 05:37:25 +0000 2014|More economic woe for Ebola nations http://bbc.in/1veYRFy\\n',\n",
              " '539602810967318529|Tue Dec 02 02:11:50 +0000 2014|Mother challenges NHS ombudsman http://bbc.in/12ilhuK\\n',\n",
              " '539580198035795968|Tue Dec 02 00:41:58 +0000 2014|Controversial DNA test comes to UK http://bbc.in/1HT74Vc\\n',\n",
              " '539561909096173570|Mon Dec 01 23:29:18 +0000 2014|VIDEO: A week in the life of a care worker http://bbc.in/1twLThO\\n',\n",
              " \"539537789914578944|Mon Dec 01 21:53:27 +0000 2014|HIV evolving 'into milder form' http://bbc.in/1vd9CrY\\n\",\n",
              " \"539492658788323328|Mon Dec 01 18:54:07 +0000 2014|Home care services 'close to crisis' http://bbc.in/1wdzwxp\\n\",\n",
              " '539456059903995905|Mon Dec 01 16:28:41 +0000 2014|Scientists make enzymes from scratch http://bbc.in/1yC1bqV\\n',\n",
              " '539456058746757122|Mon Dec 01 16:28:41 +0000 2014|Ebola crisis: WHO upbeat on targets http://bbc.in/1yC1baC\\n',\n",
              " '539381460646383617|Mon Dec 01 11:32:16 +0000 2014|Paedophile doctor jailed for 22 years http://bbc.in/1wb2zBD\\n',\n",
              " '539342908021690368|Mon Dec 01 08:59:04 +0000 2014|C. diff rates rise at two hospitals http://bbc.in/1z7ibUh\\n',\n",
              " '539334007301734400|Mon Dec 01 08:23:42 +0000 2014|Extra Â£65m for Welsh health services http://bbc.in/1vGREwO\\n',\n",
              " '539325786042294275|Mon Dec 01 07:51:02 +0000 2014|Huge risk of Ebola spread, warns UN http://bbc.in/1A6kuYE\\n',\n",
              " '539325785375395840|Mon Dec 01 07:51:02 +0000 2014|NI has largest HIV rise since 2000 http://bbc.in/1A6ktEa\\n',\n",
              " '539325783911575552|Mon Dec 01 07:51:01 +0000 2014|Assisted suicide: The Shipman effect http://bbc.in/1w9WqWn\\n',\n",
              " '539308747655376897|Mon Dec 01 06:43:19 +0000 2014|VIDEO: Charlize Theron on World Aids Day http://bbc.in/1w9CLG7\\n',\n",
              " \"539308746795520000|Mon Dec 01 06:43:19 +0000 2014|US footballers 'show brain changes' http://bbc.in/1w9CNxH\\n\",\n",
              " \"539308746006986753|Mon Dec 01 06:43:19 +0000 2014|Dementia patients 'lack proper care' http://bbc.in/1A6agaN\\n\",\n",
              " \"539252872794226688|Mon Dec 01 03:01:18 +0000 2014|'Screen more' for cancer risk genes http://bbc.in/1z6ks2g\\n\",\n",
              " '539241432989446145|Mon Dec 01 02:15:50 +0000 2014|VIDEO: Where did Aids come from? http://bbc.in/1z62o8v\\n',\n",
              " \"538983289017487360|Sun Nov 30 09:10:04 +0000 2014|VIDEO: 'Donor organ gave me cancer' http://bbc.in/1trclt8\\n\",\n",
              " \"538883431975768064|Sun Nov 30 02:33:16 +0000 2014|Protein 'key to heart muscle defect' http://bbc.in/1vzQjI3\\n\",\n",
              " '538826318477918209|Sat Nov 29 22:46:19 +0000 2014|Osborne to pledge extra Â£2bn for NHS http://bbc.in/1yvFRmR\\n',\n",
              " '538735452098818049|Sat Nov 29 16:45:15 +0000 2014|Mentally ill teenager held in cell http://bbc.in/1vyp1Sd\\n',\n",
              " '538718181070622720|Sat Nov 29 15:36:37 +0000 2014|West Africa Ebola toll nears 7,000 http://bbc.in/1A1wwm7\\n',\n",
              " '538700067939434496|Sat Nov 29 14:24:39 +0000 2014|Making the most of life with cystic fibrosis http://bbc.in/1A1nV2Q\\n',\n",
              " \"538700067247362048|Sat Nov 29 14:24:39 +0000 2014|VIDEO: NHS 'U-turn' over drug trial money http://bbc.in/1w449VW\\n\",\n",
              " \"538494428369780736|Sat Nov 29 00:47:31 +0000 2014|NHS 'U-turn' over drug trial money http://bbc.in/12dyqE8\\n\",\n",
              " '538414967989366784|Fri Nov 28 19:31:46 +0000 2014|Delayed discharges reach record high http://bbc.in/1ylKNtA\\n',\n",
              " '538280567515533313|Fri Nov 28 10:37:42 +0000 2014|Lowest ever winter deaths recorded http://bbc.in/1ry437T\\n',\n",
              " \"538280566383058945|Fri Nov 28 10:37:42 +0000 2014|Ebola test results 'in 15 minutes' http://bbc.in/129Ch5p\\n\",\n",
              " \"538280565544210433|Fri Nov 28 10:37:42 +0000 2014|VIDEO: 'Too few' toddlers having flu vaccine http://bbc.in/1ry41wX\\n\",\n",
              " '538212958896021504|Fri Nov 28 06:09:03 +0000 2014|Mental health deaths as beds cut http://bbc.in/128vyZf\\n',\n",
              " '538173287352643584|Fri Nov 28 03:31:25 +0000 2014|Hollande to visit Ebola-hit Guinea http://bbc.in/1rvPth9\\n',\n",
              " \"538156803326885888|Fri Nov 28 02:25:55 +0000 2014|Huddles 'help children's hospital care' http://bbc.in/1xO1Od3\\n\",\n",
              " '538156802664185856|Fri Nov 28 02:25:54 +0000 2014|Children tested for Ebola on Tyneside http://bbc.in/1rvtWVL\\n',\n",
              " \"538132325817520128|Fri Nov 28 00:48:39 +0000 2014|'Too few' toddlers having flu vaccine http://bbc.in/127iKm1\\n\",\n",
              " '538017494699503616|Thu Nov 27 17:12:21 +0000 2014|How much will the chancellor give the NHS? http://bbc.in/1tnvKLM\\n',\n",
              " '537976910689484800|Thu Nov 27 14:31:05 +0000 2014|Phillip Hughes: How is the brain injured? http://bbc.in/1rrqUBS\\n',\n",
              " '537959441920847872|Thu Nov 27 13:21:40 +0000 2014|Food bug affects 70% of shop chickens http://bbc.in/124jbxr\\n',\n",
              " '537931766032371714|Thu Nov 27 11:31:41 +0000 2014|AUDIO: Schizophrenia assumptions challenged http://bbc.in/123LVXb\\n',\n",
              " '537885606060126208|Thu Nov 27 08:28:16 +0000 2014|VIDEO: Poor liver disease detection rates http://bbc.in/1rpe4nK\\n',\n",
              " \"537798211969101824|Thu Nov 27 02:41:00 +0000 2014|'Exciting' bladder cancer drug trial http://bbc.in/1z04aYJ\\n\",\n",
              " \"537790787157630976|Thu Nov 27 02:11:29 +0000 2014|Fifth of millennium babies 'obese' http://bbc.in/1yZWbL7\\n\",\n",
              " \"537790785861586944|Thu Nov 27 02:11:29 +0000 2014|GPs 'failing' to find liver disease http://bbc.in/1rncxia\\n\",\n",
              " '537777166205722624|Thu Nov 27 01:17:22 +0000 2014|Guidelines favour weight loss ops http://bbc.in/1rmZEEB\\n',\n",
              " \"537775237362757633|Thu Nov 27 01:09:42 +0000 2014|VIDEO: MSF will stay till 'very end' http://bbc.in/1ydgKnT\\n\",\n",
              " \"537775235039129600|Thu Nov 27 01:09:42 +0000 2014|VIDEO: Sadness at Ebola's young victims http://bbc.in/1yZKtQK\\n\",\n",
              " '537775233885696000|Thu Nov 27 01:09:41 +0000 2014|Tracing the Ebola outbreak http://bbc.in/1yZKtQF\\n',\n",
              " \"537766503379005440|Thu Nov 27 00:35:00 +0000 2014|Many elderly 'struggle' at home http://bbc.in/1yiL2qk\\n\",\n",
              " \"537741443012382721|Wed Nov 26 22:55:25 +0000 2014|Ebola vaccine trial 'promising' http://bbc.in/1yZjvsh\\n\",\n",
              " \"537734163059585024|Wed Nov 26 22:26:29 +0000 2014|VIDEO: Ebola vaccine trial 'encouraging' http://bbc.in/1rmh5Ft\\n\",\n",
              " '537621289372884992|Wed Nov 26 14:57:58 +0000 2014|VIDEO: MP woke from coma and asked to pay bill http://bbc.in/1ygOAJx\\n',\n",
              " '537621288479514624|Wed Nov 26 14:57:58 +0000 2014|VIDEO: Movember moustache praise from PM http://bbc.in/1rjvkuz\\n',\n",
              " \"537592489058635776|Wed Nov 26 13:03:32 +0000 2014|A&amp;E care 'still unsafe' at hospital http://bbc.in/1yglVV2\\n\",\n",
              " '537566120400527361|Wed Nov 26 11:18:45 +0000 2014|Vitamin D warning from NICE http://bbc.in/1rija57\\n',\n",
              " \"537435755736358912|Wed Nov 26 02:40:43 +0000 2014|'Silver surfers' more health savvy http://bbc.in/1yUDVCW\\n\",\n",
              " \"537402923932585984|Wed Nov 26 00:30:16 +0000 2014|Learning disability care 'failing' http://bbc.in/1yUdZr1\\n\",\n",
              " '537402923223760898|Wed Nov 26 00:30:16 +0000 2014|Call for Â£2bn more for NHS in England http://bbc.in/1yUdZqY\\n',\n",
              " \"537296736947933184|Tue Nov 25 17:28:19 +0000 2014|MSP's tears over C. diff deaths http://bbc.in/1xA8H1G\\n\",\n",
              " '537278160128049154|Tue Nov 25 16:14:30 +0000 2014|The problem with freezing stem cells http://bbc.in/1ySbG7M\\n',\n",
              " \"537240369419653121|Tue Nov 25 13:44:20 +0000 2014|AUDIO: Alzheimer's and schizophrenia linked http://bbc.in/1xyXSNi\\n\",\n",
              " '537229831134392320|Tue Nov 25 13:02:27 +0000 2014|Girl died after stem cell transplant http://bbc.in/1r9ZVe8\\n',\n",
              " \"537192348497616896|Tue Nov 25 10:33:31 +0000 2014|E-cigarette 'lure' might be baseless http://bbc.in/1xy4r2F\\n\",\n",
              " '537063708774514688|Tue Nov 25 02:02:20 +0000 2014|Many lonely elderly call helpline http://bbc.in/1yP7hCC\\n',\n",
              " \"537046060749688833|Tue Nov 25 00:52:13 +0000 2014|VIDEO: 'End of life care needs more effort' http://bbc.in/1y6LQxv\\n\",\n",
              " \"537037815003897856|Tue Nov 25 00:19:27 +0000 2014|Brain's dementia weak spot found http://bbc.in/1r5iCPY\\n\",\n",
              " \"536941014078873600|Mon Nov 24 17:54:48 +0000 2014|VIDEO: 'My daughter felt trapped in hospital' http://bbc.in/11PBjuL\\n\",\n",
              " \"536934168572067840|Mon Nov 24 17:27:36 +0000 2014|Bag-for-life 'bug risk' advice http://bbc.in/1y5IDOI\\n\",\n",
              " \"536833554747891712|Mon Nov 24 10:47:47 +0000 2014|VIDEO: NHS pay: Staff morale is 'dreadful' http://bbc.in/1qZXXgi\\n\",\n",
              " '536833553812582400|Mon Nov 24 10:47:47 +0000 2014|Transplant fears over kidneys deaths http://bbc.in/1qZXXg8\\n',\n",
              " '536793649804099584|Mon Nov 24 08:09:13 +0000 2014|Public have say on health services http://bbc.in/1yKJRhF\\n',\n",
              " '536793648990400514|Mon Nov 24 08:09:13 +0000 2014|Delayed C. diff outbreak report due http://bbc.in/1yKJR1k\\n',\n",
              " '536711663097872386|Mon Nov 24 02:43:26 +0000 2014|NHS staff stage four-hour strike http://bbc.in/1yJLM67\\n',\n",
              " \"536711662212902912|Mon Nov 24 02:43:26 +0000 2014|Ebola trials 'best chance' for cure http://bbc.in/1vDFk2W\\n\",\n",
              " '536678286223351808|Mon Nov 24 00:30:49 +0000 2014|The battle for control of the cigarette packet http://bbc.in/1qX0aZR\\n',\n",
              " '536678284990218240|Mon Nov 24 00:30:48 +0000 2014|Suicide risk falls after talk therapy http://bbc.in/11MgO22\\n',\n",
              " '536472964342882304|Sun Nov 23 10:54:56 +0000 2014|VIDEO: Understanding autism: Living in a box http://bbc.in/1xGmxTZ\\n',\n",
              " '536407163980107776|Sun Nov 23 06:33:28 +0000 2014|Journey through the Ebola heartland http://bbc.in/1qS1ahL\\n',\n",
              " '536319089384235008|Sun Nov 23 00:43:29 +0000 2014|Mental health nursing cuts warning http://bbc.in/1yFh0vd\\n',\n",
              " \"536254940675440642|Sat Nov 22 20:28:35 +0000 2014|Ebola team will miss 'human touch' http://bbc.in/1yEzCLI\\n\",\n",
              " '536074527273263104|Sat Nov 22 08:31:41 +0000 2014|VIDEO: Labour calls for NHS investment http://bbc.in/1vylVQH\\n',\n",
              " '536074526161776641|Sat Nov 22 08:31:41 +0000 2014|VIDEO: NHS staff set off to help fight Ebola http://bbc.in/1yCk3UQ\\n',\n",
              " '535984460718559232|Sat Nov 22 02:33:48 +0000 2014|NHS staff to fly out to fight Ebola http://bbc.in/1xeA69c\\n',\n",
              " '535895422183542786|Fri Nov 21 20:39:59 +0000 2014|VIDEO: A&amp;Es miss four-hour wait standard http://bbc.in/1xdakSC\\n',\n",
              " \"535809474682839042|Fri Nov 21 14:58:28 +0000 2014|VIDEO: Bid to 'remove worst bits' of Health Act http://bbc.in/1xyePv2\\n\",\n",
              " '535765171998695425|Fri Nov 21 12:02:25 +0000 2014|A&amp;Es miss four-hour wait standard http://bbc.in/1qFUBPj\\n',\n",
              " '535741476336988161|Fri Nov 21 10:28:16 +0000 2014|Early sign of yellow fever found http://bbc.in/1qFnDi3\\n',\n",
              " \"535707104913260544|Fri Nov 21 08:11:41 +0000 2014|VIDEO: 'Bed blockers face legal action' http://bbc.in/1qEGaen\\n\",\n",
              " \"535625347375452160|Fri Nov 21 02:46:48 +0000 2014|MPs to debate NHS 'privatisation' http://bbc.in/1qDejvd\\n\",\n",
              " \"535594406095515648|Fri Nov 21 00:43:51 +0000 2014|'No fertility help for cancer young' http://bbc.in/1xTpCig\\n\",\n",
              " \"535594405265035264|Fri Nov 21 00:43:51 +0000 2014|NHS 'should use cancer drug for eyes' http://bbc.in/1xvgOQX\\n\",\n",
              " '535502438778683392|Thu Nov 20 18:38:25 +0000 2014|Watchdog ranks mental health trusts http://bbc.in/1qABOoy\\n',\n",
              " '535493844259725312|Thu Nov 20 18:04:16 +0000 2014|Breastfeeding voucher trial results http://bbc.in/1yujPPJ\\n',\n",
              " \"535485002469756930|Thu Nov 20 17:29:08 +0000 2014|Female bosses 'more depressed' http://bbc.in/1qA9W3W\\n\",\n",
              " \"535401417565945856|Thu Nov 20 11:56:59 +0000 2014|Bed blockers 'face legal action' http://bbc.in/1ysNVTJ\\n\",\n",
              " '535401416743870464|Thu Nov 20 11:56:59 +0000 2014|Unions consider Wales-only pay deal http://bbc.in/1vsdIOa\\n',\n",
              " '535329812596789249|Thu Nov 20 07:12:27 +0000 2014|VIDEO: Obesity costs UK Â£47bn a year http://bbc.in/1vrBt8W\\n',\n",
              " \"535266448659058688|Thu Nov 20 03:00:40 +0000 2014|Obesity 'costing same as smoking' http://bbc.in/1qvqlqf\\n\",\n",
              " \"535250569234251777|Thu Nov 20 01:57:34 +0000 2014|Complex jobs 'may protect memory' http://bbc.in/1vr0yRo\\n\",\n",
              " '535250567095144449|Thu Nov 20 01:57:34 +0000 2014|VIDEO: HIV now and then: 1982 vs 2014 http://bbc.in/1yqY0jQ\\n',\n",
              " '535250564947660800|Thu Nov 20 01:57:33 +0000 2014|Double cancer referrals, GPs urged http://bbc.in/1vr0xgd\\n',\n",
              " '535142213559521280|Wed Nov 19 18:47:00 +0000 2014|Pork gelatine flu spray concerns http://bbc.in/1xq1KE8\\n',\n",
              " '535125577150525440|Wed Nov 19 17:40:54 +0000 2014|Abortion protester harassed worker http://bbc.in/1yp9018\\n',\n",
              " '535100999891836928|Wed Nov 19 16:03:14 +0000 2014|Covert care camera guidance approved http://bbc.in/1qrTDWX\\n',\n",
              " '535100999090724865|Wed Nov 19 16:03:14 +0000 2014|VIDEO: Virtual avatars reduce self-criticism http://bbc.in/11tHRiA\\n',\n",
              " \"535074382901567489|Wed Nov 19 14:17:28 +0000 2014|VIDEO: MP's bill to 'put right NHS mistakes' http://bbc.in/11tfjFP\\n\",\n",
              " \"535058282004500480|Wed Nov 19 13:13:29 +0000 2014|AUDIO: Surgeon's records made public http://bbc.in/1qqWbEw\\n\",\n",
              " '535058281186611200|Wed Nov 19 13:13:29 +0000 2014|NHS misses cancer treatment targets http://bbc.in/1qqWcsc\\n',\n",
              " '535041867595788290|Wed Nov 19 12:08:16 +0000 2014|AUDIO: Early years of sex research on display http://bbc.in/11sGGzT\\n',\n",
              " '534983064795889665|Wed Nov 19 08:14:36 +0000 2014|VIDEO: NHS to publish surgeon data http://bbc.in/1qpt7gR\\n',\n",
              " '534953159538397184|Wed Nov 19 06:15:46 +0000 2014|British nurse back to help after Ebola recovery http://bbc.in/1wW8ZiU\\n',\n",
              " '534918365286895616|Wed Nov 19 03:57:31 +0000 2014|Ebola research receives $5.7m boost http://bbc.in/1tbUsxo\\n',\n",
              " '534894915038097409|Wed Nov 19 02:24:20 +0000 2014|Diabetics denied vital prescriptions http://bbc.in/1vnALJI\\n',\n",
              " '534894913712705537|Wed Nov 19 02:24:19 +0000 2014|NHS to publish surgeon outcomes data http://bbc.in/1vnALtr\\n',\n",
              " \"534813589228367872|Tue Nov 18 21:01:10 +0000 2014|'Infected' kidneys rejected as unfit http://bbc.in/1vmTbdO\\n\",\n",
              " ...]"
            ]
          },
          "metadata": {},
          "execution_count": 112
        }
      ]
    },
    {
      "cell_type": "code",
      "source": [
        "colName = ['tweetId', 'Date','News', 'Link']\n",
        "regex = re.compile(r'(?P<tweetId>.*)\\|(?P<Date>.*)\\|(?P<News>.*)\\s?(?P<Link>http://.*)')\n",
        "re.search(regex, lines[0]).groupdict()"
      ],
      "metadata": {
        "colab": {
          "base_uri": "https://localhost:8080/"
        },
        "id": "eIKcSUzuSTzH",
        "outputId": "8692e92d-2914-4464-a04e-0912ea32c062"
      },
      "execution_count": null,
      "outputs": [
        {
          "output_type": "execute_result",
          "data": {
            "text/plain": [
              "{'Date': 'Thu Apr 09 01:31:50 +0000 2015',\n",
              " 'Link': 'http://bbc.in/1CimpJF',\n",
              " 'News': 'Breast cancer risk test devised ',\n",
              " 'tweetId': '585978391360221184'}"
            ]
          },
          "metadata": {},
          "execution_count": 58
        }
      ]
    },
    {
      "cell_type": "code",
      "source": [
        "tweets = pd.DataFrame(columns = colName)\n",
        "\n",
        "for l in lines:\n",
        "  lineData = re.search(regex, l).groupdict()\n",
        "  tweets = tweets.append(lineData, ignore_index = True)\n"
      ],
      "metadata": {
        "id": "tcuB29A5VmUn"
      },
      "execution_count": null,
      "outputs": []
    },
    {
      "cell_type": "code",
      "source": [
        "tweets.head()"
      ],
      "metadata": {
        "colab": {
          "base_uri": "https://localhost:8080/",
          "height": 206
        },
        "id": "xWQBBU3DWJhT",
        "outputId": "96e36439-bbc9-4497-f663-eb61312156d6"
      },
      "execution_count": null,
      "outputs": [
        {
          "output_type": "execute_result",
          "data": {
            "text/plain": [
              "              tweetId                            Date  \\\n",
              "0  585978391360221184  Thu Apr 09 01:31:50 +0000 2015   \n",
              "1  585947808772960257  Wed Apr 08 23:30:18 +0000 2015   \n",
              "2  585947807816650752  Wed Apr 08 23:30:18 +0000 2015   \n",
              "3  585866060991078401  Wed Apr 08 18:05:28 +0000 2015   \n",
              "4  585794106170839041  Wed Apr 08 13:19:33 +0000 2015   \n",
              "\n",
              "                                    News                   Link  \n",
              "0       Breast cancer risk test devised   http://bbc.in/1CimpJF  \n",
              "1   GP workload harming care - BMA poll   http://bbc.in/1ChTBRv  \n",
              "2   Short people's 'heart risk greater'   http://bbc.in/1ChTANp  \n",
              "3  New approach against HIV 'promising'   http://bbc.in/1E6jAjt  \n",
              "4  Coalition 'undermined NHS' - doctors   http://bbc.in/1CnLwK7  "
            ],
            "text/html": [
              "\n",
              "  <div id=\"df-f191c392-d1c1-43a7-862f-5081e0d9f928\">\n",
              "    <div class=\"colab-df-container\">\n",
              "      <div>\n",
              "<style scoped>\n",
              "    .dataframe tbody tr th:only-of-type {\n",
              "        vertical-align: middle;\n",
              "    }\n",
              "\n",
              "    .dataframe tbody tr th {\n",
              "        vertical-align: top;\n",
              "    }\n",
              "\n",
              "    .dataframe thead th {\n",
              "        text-align: right;\n",
              "    }\n",
              "</style>\n",
              "<table border=\"1\" class=\"dataframe\">\n",
              "  <thead>\n",
              "    <tr style=\"text-align: right;\">\n",
              "      <th></th>\n",
              "      <th>tweetId</th>\n",
              "      <th>Date</th>\n",
              "      <th>News</th>\n",
              "      <th>Link</th>\n",
              "    </tr>\n",
              "  </thead>\n",
              "  <tbody>\n",
              "    <tr>\n",
              "      <th>0</th>\n",
              "      <td>585978391360221184</td>\n",
              "      <td>Thu Apr 09 01:31:50 +0000 2015</td>\n",
              "      <td>Breast cancer risk test devised</td>\n",
              "      <td>http://bbc.in/1CimpJF</td>\n",
              "    </tr>\n",
              "    <tr>\n",
              "      <th>1</th>\n",
              "      <td>585947808772960257</td>\n",
              "      <td>Wed Apr 08 23:30:18 +0000 2015</td>\n",
              "      <td>GP workload harming care - BMA poll</td>\n",
              "      <td>http://bbc.in/1ChTBRv</td>\n",
              "    </tr>\n",
              "    <tr>\n",
              "      <th>2</th>\n",
              "      <td>585947807816650752</td>\n",
              "      <td>Wed Apr 08 23:30:18 +0000 2015</td>\n",
              "      <td>Short people's 'heart risk greater'</td>\n",
              "      <td>http://bbc.in/1ChTANp</td>\n",
              "    </tr>\n",
              "    <tr>\n",
              "      <th>3</th>\n",
              "      <td>585866060991078401</td>\n",
              "      <td>Wed Apr 08 18:05:28 +0000 2015</td>\n",
              "      <td>New approach against HIV 'promising'</td>\n",
              "      <td>http://bbc.in/1E6jAjt</td>\n",
              "    </tr>\n",
              "    <tr>\n",
              "      <th>4</th>\n",
              "      <td>585794106170839041</td>\n",
              "      <td>Wed Apr 08 13:19:33 +0000 2015</td>\n",
              "      <td>Coalition 'undermined NHS' - doctors</td>\n",
              "      <td>http://bbc.in/1CnLwK7</td>\n",
              "    </tr>\n",
              "  </tbody>\n",
              "</table>\n",
              "</div>\n",
              "      <button class=\"colab-df-convert\" onclick=\"convertToInteractive('df-f191c392-d1c1-43a7-862f-5081e0d9f928')\"\n",
              "              title=\"Convert this dataframe to an interactive table.\"\n",
              "              style=\"display:none;\">\n",
              "        \n",
              "  <svg xmlns=\"http://www.w3.org/2000/svg\" height=\"24px\"viewBox=\"0 0 24 24\"\n",
              "       width=\"24px\">\n",
              "    <path d=\"M0 0h24v24H0V0z\" fill=\"none\"/>\n",
              "    <path d=\"M18.56 5.44l.94 2.06.94-2.06 2.06-.94-2.06-.94-.94-2.06-.94 2.06-2.06.94zm-11 1L8.5 8.5l.94-2.06 2.06-.94-2.06-.94L8.5 2.5l-.94 2.06-2.06.94zm10 10l.94 2.06.94-2.06 2.06-.94-2.06-.94-.94-2.06-.94 2.06-2.06.94z\"/><path d=\"M17.41 7.96l-1.37-1.37c-.4-.4-.92-.59-1.43-.59-.52 0-1.04.2-1.43.59L10.3 9.45l-7.72 7.72c-.78.78-.78 2.05 0 2.83L4 21.41c.39.39.9.59 1.41.59.51 0 1.02-.2 1.41-.59l7.78-7.78 2.81-2.81c.8-.78.8-2.07 0-2.86zM5.41 20L4 18.59l7.72-7.72 1.47 1.35L5.41 20z\"/>\n",
              "  </svg>\n",
              "      </button>\n",
              "      \n",
              "  <style>\n",
              "    .colab-df-container {\n",
              "      display:flex;\n",
              "      flex-wrap:wrap;\n",
              "      gap: 12px;\n",
              "    }\n",
              "\n",
              "    .colab-df-convert {\n",
              "      background-color: #E8F0FE;\n",
              "      border: none;\n",
              "      border-radius: 50%;\n",
              "      cursor: pointer;\n",
              "      display: none;\n",
              "      fill: #1967D2;\n",
              "      height: 32px;\n",
              "      padding: 0 0 0 0;\n",
              "      width: 32px;\n",
              "    }\n",
              "\n",
              "    .colab-df-convert:hover {\n",
              "      background-color: #E2EBFA;\n",
              "      box-shadow: 0px 1px 2px rgba(60, 64, 67, 0.3), 0px 1px 3px 1px rgba(60, 64, 67, 0.15);\n",
              "      fill: #174EA6;\n",
              "    }\n",
              "\n",
              "    [theme=dark] .colab-df-convert {\n",
              "      background-color: #3B4455;\n",
              "      fill: #D2E3FC;\n",
              "    }\n",
              "\n",
              "    [theme=dark] .colab-df-convert:hover {\n",
              "      background-color: #434B5C;\n",
              "      box-shadow: 0px 1px 3px 1px rgba(0, 0, 0, 0.15);\n",
              "      filter: drop-shadow(0px 1px 2px rgba(0, 0, 0, 0.3));\n",
              "      fill: #FFFFFF;\n",
              "    }\n",
              "  </style>\n",
              "\n",
              "      <script>\n",
              "        const buttonEl =\n",
              "          document.querySelector('#df-f191c392-d1c1-43a7-862f-5081e0d9f928 button.colab-df-convert');\n",
              "        buttonEl.style.display =\n",
              "          google.colab.kernel.accessAllowed ? 'block' : 'none';\n",
              "\n",
              "        async function convertToInteractive(key) {\n",
              "          const element = document.querySelector('#df-f191c392-d1c1-43a7-862f-5081e0d9f928');\n",
              "          const dataTable =\n",
              "            await google.colab.kernel.invokeFunction('convertToInteractive',\n",
              "                                                     [key], {});\n",
              "          if (!dataTable) return;\n",
              "\n",
              "          const docLinkHtml = 'Like what you see? Visit the ' +\n",
              "            '<a target=\"_blank\" href=https://colab.research.google.com/notebooks/data_table.ipynb>data table notebook</a>'\n",
              "            + ' to learn more about interactive tables.';\n",
              "          element.innerHTML = '';\n",
              "          dataTable['output_type'] = 'display_data';\n",
              "          await google.colab.output.renderOutput(dataTable, element);\n",
              "          const docLink = document.createElement('div');\n",
              "          docLink.innerHTML = docLinkHtml;\n",
              "          element.appendChild(docLink);\n",
              "        }\n",
              "      </script>\n",
              "    </div>\n",
              "  </div>\n",
              "  "
            ]
          },
          "metadata": {},
          "execution_count": 60
        }
      ]
    },
    {
      "cell_type": "code",
      "source": [
        "tweets.shape"
      ],
      "metadata": {
        "colab": {
          "base_uri": "https://localhost:8080/"
        },
        "id": "mB94OfMcWOMX",
        "outputId": "1bb8354b-2681-47e9-cef8-72c0c95c49a9"
      },
      "execution_count": null,
      "outputs": [
        {
          "output_type": "execute_result",
          "data": {
            "text/plain": [
              "(3929, 4)"
            ]
          },
          "metadata": {},
          "execution_count": 61
        }
      ]
    },
    {
      "cell_type": "code",
      "source": [
        "tweets.isnull().any()"
      ],
      "metadata": {
        "colab": {
          "base_uri": "https://localhost:8080/"
        },
        "id": "vpyrINMXWRGX",
        "outputId": "04646cd1-69ce-4b28-aee6-a58e72c984b6"
      },
      "execution_count": null,
      "outputs": [
        {
          "output_type": "execute_result",
          "data": {
            "text/plain": [
              "tweetId    False\n",
              "Date       False\n",
              "News       False\n",
              "Link       False\n",
              "dtype: bool"
            ]
          },
          "metadata": {},
          "execution_count": 62
        }
      ]
    },
    {
      "cell_type": "markdown",
      "source": [
        "##Lemmetizing the words\n",
        "\n",
        "**Lemmetizing** is the process of finding the dictionary words of the words that are present in the sentence.\n",
        "\n",
        "Like for example: 'rocks' after lemmetizing would be 'rock'."
      ],
      "metadata": {
        "id": "rKAlNTiDyo-Y"
      }
    },
    {
      "cell_type": "code",
      "source": [
        "from nltk.tokenize import word_tokenize\n",
        "from nltk.tag import pos_tag\n",
        "from nltk.stem import WordNetLemmatizer\n",
        "from sklearn.feature_extraction.text import TfidfVectorizer\n",
        "import nltk\n",
        "nltk.download('punkt')\n",
        "import string"
      ],
      "metadata": {
        "id": "reevVIwkWYc_",
        "colab": {
          "base_uri": "https://localhost:8080/"
        },
        "outputId": "a328775c-9d42-439e-9c23-9ebb7b0f7588"
      },
      "execution_count": null,
      "outputs": [
        {
          "output_type": "stream",
          "name": "stdout",
          "text": [
            "[nltk_data] Downloading package punkt to /root/nltk_data...\n",
            "[nltk_data]   Package punkt is already up-to-date!\n"
          ]
        }
      ]
    },
    {
      "cell_type": "code",
      "source": [
        "nltk.download('averaged_perceptron_tagger')"
      ],
      "metadata": {
        "colab": {
          "base_uri": "https://localhost:8080/"
        },
        "id": "150K084g8eEo",
        "outputId": "537500d0-f51a-438c-ca9b-e441ea0b1d49"
      },
      "execution_count": null,
      "outputs": [
        {
          "output_type": "stream",
          "name": "stdout",
          "text": [
            "[nltk_data] Downloading package averaged_perceptron_tagger to\n",
            "[nltk_data]     /root/nltk_data...\n",
            "[nltk_data]   Package averaged_perceptron_tagger is already up-to-\n",
            "[nltk_data]       date!\n"
          ]
        },
        {
          "output_type": "execute_result",
          "data": {
            "text/plain": [
              "True"
            ]
          },
          "metadata": {},
          "execution_count": 64
        }
      ]
    },
    {
      "cell_type": "code",
      "source": [
        "nltk.download('wordnet')"
      ],
      "metadata": {
        "colab": {
          "base_uri": "https://localhost:8080/"
        },
        "id": "xhpzTZ6F8r_-",
        "outputId": "b67454f1-693f-4051-fca7-ddee4998e430"
      },
      "execution_count": null,
      "outputs": [
        {
          "output_type": "stream",
          "name": "stdout",
          "text": [
            "[nltk_data] Downloading package wordnet to /root/nltk_data...\n",
            "[nltk_data]   Package wordnet is already up-to-date!\n"
          ]
        },
        {
          "output_type": "execute_result",
          "data": {
            "text/plain": [
              "True"
            ]
          },
          "metadata": {},
          "execution_count": 65
        }
      ]
    },
    {
      "cell_type": "code",
      "source": [
        "\n",
        "lemmatizer = WordNetLemmatizer()"
      ],
      "metadata": {
        "id": "1gdXQIB62IhF"
      },
      "execution_count": null,
      "outputs": []
    },
    {
      "cell_type": "code",
      "source": [
        "def normalizing(l):\n",
        "  l = l.lower().strip()\n",
        "  l = \"\".join([c for c in l if c not in string.punctuation+string.digits])\n",
        "  return word_tokenize(l)"
      ],
      "metadata": {
        "id": "8ycmpcSk1ccG"
      },
      "execution_count": null,
      "outputs": []
    },
    {
      "cell_type": "code",
      "source": [
        "def lemmatize_sent(lineToken):\n",
        "    return list(map(lemmatizer.lemmatize, lineToken))"
      ],
      "metadata": {
        "id": "r1GYw5IE2H3H"
      },
      "execution_count": null,
      "outputs": []
    },
    {
      "cell_type": "code",
      "source": [
        "def tokens(lineToken):\n",
        "    wordTag = pos_tag(lineToken)\n",
        "    return list(zip(*wordTag))[1]"
      ],
      "metadata": {
        "id": "vySggEpS2e-e"
      },
      "execution_count": null,
      "outputs": []
    },
    {
      "cell_type": "code",
      "source": [
        "tweets['tokens'] = tweets['News'].map(normalizing)\n",
        "tweets['tags'] = tweets['tokens'].map(tokens)\n",
        "tweets['lemmatizedToken'] = tweets['tokens'].map(lemmatize_sent)"
      ],
      "metadata": {
        "id": "BkFoqA782lNg"
      },
      "execution_count": null,
      "outputs": []
    },
    {
      "cell_type": "code",
      "source": [
        "tweets.head()"
      ],
      "metadata": {
        "id": "upI9ERQC3JBU",
        "colab": {
          "base_uri": "https://localhost:8080/",
          "height": 206
        },
        "outputId": "eaee3d68-6bab-44a5-fe56-a865f4dc4bdd"
      },
      "execution_count": null,
      "outputs": [
        {
          "output_type": "execute_result",
          "data": {
            "text/plain": [
              "              tweetId                            Date  \\\n",
              "0  585978391360221184  Thu Apr 09 01:31:50 +0000 2015   \n",
              "1  585947808772960257  Wed Apr 08 23:30:18 +0000 2015   \n",
              "2  585947807816650752  Wed Apr 08 23:30:18 +0000 2015   \n",
              "3  585866060991078401  Wed Apr 08 18:05:28 +0000 2015   \n",
              "4  585794106170839041  Wed Apr 08 13:19:33 +0000 2015   \n",
              "\n",
              "                                    News                   Link  \\\n",
              "0       Breast cancer risk test devised   http://bbc.in/1CimpJF   \n",
              "1   GP workload harming care - BMA poll   http://bbc.in/1ChTBRv   \n",
              "2   Short people's 'heart risk greater'   http://bbc.in/1ChTANp   \n",
              "3  New approach against HIV 'promising'   http://bbc.in/1E6jAjt   \n",
              "4  Coalition 'undermined NHS' - doctors   http://bbc.in/1CnLwK7   \n",
              "\n",
              "                                     tokens                       tags  \\\n",
              "0     [breast, cancer, risk, test, devised]      (NN, NN, NN, NN, VBD)   \n",
              "1  [gp, workload, harming, care, bma, poll]  (NN, NN, VBG, NN, NN, NN)   \n",
              "2    [short, peoples, heart, risk, greater]     (JJ, NNS, NN, NN, JJR)   \n",
              "3  [new, approach, against, hiv, promising]       (JJ, NN, IN, NN, NN)   \n",
              "4     [coalition, undermined, nhs, doctors]         (NN, VBD, JJ, NNS)   \n",
              "\n",
              "                            lemmatizedToken  \n",
              "0     [breast, cancer, risk, test, devised]  \n",
              "1  [gp, workload, harming, care, bma, poll]  \n",
              "2     [short, people, heart, risk, greater]  \n",
              "3  [new, approach, against, hiv, promising]  \n",
              "4       [coalition, undermined, nh, doctor]  "
            ],
            "text/html": [
              "\n",
              "  <div id=\"df-38f5a459-e7aa-4af3-be6b-6c7676e635ed\">\n",
              "    <div class=\"colab-df-container\">\n",
              "      <div>\n",
              "<style scoped>\n",
              "    .dataframe tbody tr th:only-of-type {\n",
              "        vertical-align: middle;\n",
              "    }\n",
              "\n",
              "    .dataframe tbody tr th {\n",
              "        vertical-align: top;\n",
              "    }\n",
              "\n",
              "    .dataframe thead th {\n",
              "        text-align: right;\n",
              "    }\n",
              "</style>\n",
              "<table border=\"1\" class=\"dataframe\">\n",
              "  <thead>\n",
              "    <tr style=\"text-align: right;\">\n",
              "      <th></th>\n",
              "      <th>tweetId</th>\n",
              "      <th>Date</th>\n",
              "      <th>News</th>\n",
              "      <th>Link</th>\n",
              "      <th>tokens</th>\n",
              "      <th>tags</th>\n",
              "      <th>lemmatizedToken</th>\n",
              "    </tr>\n",
              "  </thead>\n",
              "  <tbody>\n",
              "    <tr>\n",
              "      <th>0</th>\n",
              "      <td>585978391360221184</td>\n",
              "      <td>Thu Apr 09 01:31:50 +0000 2015</td>\n",
              "      <td>Breast cancer risk test devised</td>\n",
              "      <td>http://bbc.in/1CimpJF</td>\n",
              "      <td>[breast, cancer, risk, test, devised]</td>\n",
              "      <td>(NN, NN, NN, NN, VBD)</td>\n",
              "      <td>[breast, cancer, risk, test, devised]</td>\n",
              "    </tr>\n",
              "    <tr>\n",
              "      <th>1</th>\n",
              "      <td>585947808772960257</td>\n",
              "      <td>Wed Apr 08 23:30:18 +0000 2015</td>\n",
              "      <td>GP workload harming care - BMA poll</td>\n",
              "      <td>http://bbc.in/1ChTBRv</td>\n",
              "      <td>[gp, workload, harming, care, bma, poll]</td>\n",
              "      <td>(NN, NN, VBG, NN, NN, NN)</td>\n",
              "      <td>[gp, workload, harming, care, bma, poll]</td>\n",
              "    </tr>\n",
              "    <tr>\n",
              "      <th>2</th>\n",
              "      <td>585947807816650752</td>\n",
              "      <td>Wed Apr 08 23:30:18 +0000 2015</td>\n",
              "      <td>Short people's 'heart risk greater'</td>\n",
              "      <td>http://bbc.in/1ChTANp</td>\n",
              "      <td>[short, peoples, heart, risk, greater]</td>\n",
              "      <td>(JJ, NNS, NN, NN, JJR)</td>\n",
              "      <td>[short, people, heart, risk, greater]</td>\n",
              "    </tr>\n",
              "    <tr>\n",
              "      <th>3</th>\n",
              "      <td>585866060991078401</td>\n",
              "      <td>Wed Apr 08 18:05:28 +0000 2015</td>\n",
              "      <td>New approach against HIV 'promising'</td>\n",
              "      <td>http://bbc.in/1E6jAjt</td>\n",
              "      <td>[new, approach, against, hiv, promising]</td>\n",
              "      <td>(JJ, NN, IN, NN, NN)</td>\n",
              "      <td>[new, approach, against, hiv, promising]</td>\n",
              "    </tr>\n",
              "    <tr>\n",
              "      <th>4</th>\n",
              "      <td>585794106170839041</td>\n",
              "      <td>Wed Apr 08 13:19:33 +0000 2015</td>\n",
              "      <td>Coalition 'undermined NHS' - doctors</td>\n",
              "      <td>http://bbc.in/1CnLwK7</td>\n",
              "      <td>[coalition, undermined, nhs, doctors]</td>\n",
              "      <td>(NN, VBD, JJ, NNS)</td>\n",
              "      <td>[coalition, undermined, nh, doctor]</td>\n",
              "    </tr>\n",
              "  </tbody>\n",
              "</table>\n",
              "</div>\n",
              "      <button class=\"colab-df-convert\" onclick=\"convertToInteractive('df-38f5a459-e7aa-4af3-be6b-6c7676e635ed')\"\n",
              "              title=\"Convert this dataframe to an interactive table.\"\n",
              "              style=\"display:none;\">\n",
              "        \n",
              "  <svg xmlns=\"http://www.w3.org/2000/svg\" height=\"24px\"viewBox=\"0 0 24 24\"\n",
              "       width=\"24px\">\n",
              "    <path d=\"M0 0h24v24H0V0z\" fill=\"none\"/>\n",
              "    <path d=\"M18.56 5.44l.94 2.06.94-2.06 2.06-.94-2.06-.94-.94-2.06-.94 2.06-2.06.94zm-11 1L8.5 8.5l.94-2.06 2.06-.94-2.06-.94L8.5 2.5l-.94 2.06-2.06.94zm10 10l.94 2.06.94-2.06 2.06-.94-2.06-.94-.94-2.06-.94 2.06-2.06.94z\"/><path d=\"M17.41 7.96l-1.37-1.37c-.4-.4-.92-.59-1.43-.59-.52 0-1.04.2-1.43.59L10.3 9.45l-7.72 7.72c-.78.78-.78 2.05 0 2.83L4 21.41c.39.39.9.59 1.41.59.51 0 1.02-.2 1.41-.59l7.78-7.78 2.81-2.81c.8-.78.8-2.07 0-2.86zM5.41 20L4 18.59l7.72-7.72 1.47 1.35L5.41 20z\"/>\n",
              "  </svg>\n",
              "      </button>\n",
              "      \n",
              "  <style>\n",
              "    .colab-df-container {\n",
              "      display:flex;\n",
              "      flex-wrap:wrap;\n",
              "      gap: 12px;\n",
              "    }\n",
              "\n",
              "    .colab-df-convert {\n",
              "      background-color: #E8F0FE;\n",
              "      border: none;\n",
              "      border-radius: 50%;\n",
              "      cursor: pointer;\n",
              "      display: none;\n",
              "      fill: #1967D2;\n",
              "      height: 32px;\n",
              "      padding: 0 0 0 0;\n",
              "      width: 32px;\n",
              "    }\n",
              "\n",
              "    .colab-df-convert:hover {\n",
              "      background-color: #E2EBFA;\n",
              "      box-shadow: 0px 1px 2px rgba(60, 64, 67, 0.3), 0px 1px 3px 1px rgba(60, 64, 67, 0.15);\n",
              "      fill: #174EA6;\n",
              "    }\n",
              "\n",
              "    [theme=dark] .colab-df-convert {\n",
              "      background-color: #3B4455;\n",
              "      fill: #D2E3FC;\n",
              "    }\n",
              "\n",
              "    [theme=dark] .colab-df-convert:hover {\n",
              "      background-color: #434B5C;\n",
              "      box-shadow: 0px 1px 3px 1px rgba(0, 0, 0, 0.15);\n",
              "      filter: drop-shadow(0px 1px 2px rgba(0, 0, 0, 0.3));\n",
              "      fill: #FFFFFF;\n",
              "    }\n",
              "  </style>\n",
              "\n",
              "      <script>\n",
              "        const buttonEl =\n",
              "          document.querySelector('#df-38f5a459-e7aa-4af3-be6b-6c7676e635ed button.colab-df-convert');\n",
              "        buttonEl.style.display =\n",
              "          google.colab.kernel.accessAllowed ? 'block' : 'none';\n",
              "\n",
              "        async function convertToInteractive(key) {\n",
              "          const element = document.querySelector('#df-38f5a459-e7aa-4af3-be6b-6c7676e635ed');\n",
              "          const dataTable =\n",
              "            await google.colab.kernel.invokeFunction('convertToInteractive',\n",
              "                                                     [key], {});\n",
              "          if (!dataTable) return;\n",
              "\n",
              "          const docLinkHtml = 'Like what you see? Visit the ' +\n",
              "            '<a target=\"_blank\" href=https://colab.research.google.com/notebooks/data_table.ipynb>data table notebook</a>'\n",
              "            + ' to learn more about interactive tables.';\n",
              "          element.innerHTML = '';\n",
              "          dataTable['output_type'] = 'display_data';\n",
              "          await google.colab.output.renderOutput(dataTable, element);\n",
              "          const docLink = document.createElement('div');\n",
              "          docLink.innerHTML = docLinkHtml;\n",
              "          element.appendChild(docLink);\n",
              "        }\n",
              "      </script>\n",
              "    </div>\n",
              "  </div>\n",
              "  "
            ]
          },
          "metadata": {},
          "execution_count": 71
        }
      ]
    },
    {
      "cell_type": "code",
      "source": [
        "tweets.tail()"
      ],
      "metadata": {
        "id": "RL3XDkZdRShb",
        "outputId": "296b28d5-1d71-4d12-84bd-6123fa60a299",
        "colab": {
          "base_uri": "https://localhost:8080/",
          "height": 206
        }
      },
      "execution_count": null,
      "outputs": [
        {
          "output_type": "execute_result",
          "data": {
            "text/plain": [
              "                 tweetId                            Date  \\\n",
              "3924  384766023120871424  Mon Sep 30 19:45:43 +0000 2013   \n",
              "3925  384700230920175617  Mon Sep 30 15:24:17 +0000 2013   \n",
              "3926  384678543088562178  Mon Sep 30 13:58:06 +0000 2013   \n",
              "3927  384678542455222273  Mon Sep 30 13:58:06 +0000 2013   \n",
              "3928  384569546108964864  Mon Sep 30 06:44:59 +0000 2013   \n",
              "\n",
              "                                       News                   Link  \\\n",
              "3924  Baby born after ovaries 'reawakened'   http://bbc.in/16aLpG8   \n",
              "3925  Identical triplets born against odds   http://bbc.in/1aEywUI   \n",
              "3926  Hospital failed to make improvements   http://bbc.in/18Fulqi   \n",
              "3927    New patient targets pledge for NHS   http://bbc.in/17iVMb7   \n",
              "3928   C. diff 'manslaughter' inquiry call   http://bbc.in/18DY3Mv   \n",
              "\n",
              "                                          tokens                        tags  \\\n",
              "3924    [baby, born, after, ovaries, reawakened]     (NN, VBN, IN, NNS, VBD)   \n",
              "3925  [identical, triplets, born, against, odds]     (JJ, NNS, VBN, IN, NNS)   \n",
              "3926  [hospital, failed, to, make, improvements]      (NN, VBD, TO, VB, NNS)   \n",
              "3927   [new, patient, targets, pledge, for, nhs]  (JJ, JJ, NNS, VBP, IN, NN)   \n",
              "3928      [c, diff, manslaughter, inquiry, call]      (NNS, VBP, NN, NN, NN)   \n",
              "\n",
              "                                lemmatizedToken  \n",
              "3924     [baby, born, after, ovary, reawakened]  \n",
              "3925  [identical, triplet, born, against, odds]  \n",
              "3926  [hospital, failed, to, make, improvement]  \n",
              "3927    [new, patient, target, pledge, for, nh]  \n",
              "3928     [c, diff, manslaughter, inquiry, call]  "
            ],
            "text/html": [
              "\n",
              "  <div id=\"df-48066d7b-c590-4d98-9099-ef1ce7ab2ecb\">\n",
              "    <div class=\"colab-df-container\">\n",
              "      <div>\n",
              "<style scoped>\n",
              "    .dataframe tbody tr th:only-of-type {\n",
              "        vertical-align: middle;\n",
              "    }\n",
              "\n",
              "    .dataframe tbody tr th {\n",
              "        vertical-align: top;\n",
              "    }\n",
              "\n",
              "    .dataframe thead th {\n",
              "        text-align: right;\n",
              "    }\n",
              "</style>\n",
              "<table border=\"1\" class=\"dataframe\">\n",
              "  <thead>\n",
              "    <tr style=\"text-align: right;\">\n",
              "      <th></th>\n",
              "      <th>tweetId</th>\n",
              "      <th>Date</th>\n",
              "      <th>News</th>\n",
              "      <th>Link</th>\n",
              "      <th>tokens</th>\n",
              "      <th>tags</th>\n",
              "      <th>lemmatizedToken</th>\n",
              "    </tr>\n",
              "  </thead>\n",
              "  <tbody>\n",
              "    <tr>\n",
              "      <th>3924</th>\n",
              "      <td>384766023120871424</td>\n",
              "      <td>Mon Sep 30 19:45:43 +0000 2013</td>\n",
              "      <td>Baby born after ovaries 'reawakened'</td>\n",
              "      <td>http://bbc.in/16aLpG8</td>\n",
              "      <td>[baby, born, after, ovaries, reawakened]</td>\n",
              "      <td>(NN, VBN, IN, NNS, VBD)</td>\n",
              "      <td>[baby, born, after, ovary, reawakened]</td>\n",
              "    </tr>\n",
              "    <tr>\n",
              "      <th>3925</th>\n",
              "      <td>384700230920175617</td>\n",
              "      <td>Mon Sep 30 15:24:17 +0000 2013</td>\n",
              "      <td>Identical triplets born against odds</td>\n",
              "      <td>http://bbc.in/1aEywUI</td>\n",
              "      <td>[identical, triplets, born, against, odds]</td>\n",
              "      <td>(JJ, NNS, VBN, IN, NNS)</td>\n",
              "      <td>[identical, triplet, born, against, odds]</td>\n",
              "    </tr>\n",
              "    <tr>\n",
              "      <th>3926</th>\n",
              "      <td>384678543088562178</td>\n",
              "      <td>Mon Sep 30 13:58:06 +0000 2013</td>\n",
              "      <td>Hospital failed to make improvements</td>\n",
              "      <td>http://bbc.in/18Fulqi</td>\n",
              "      <td>[hospital, failed, to, make, improvements]</td>\n",
              "      <td>(NN, VBD, TO, VB, NNS)</td>\n",
              "      <td>[hospital, failed, to, make, improvement]</td>\n",
              "    </tr>\n",
              "    <tr>\n",
              "      <th>3927</th>\n",
              "      <td>384678542455222273</td>\n",
              "      <td>Mon Sep 30 13:58:06 +0000 2013</td>\n",
              "      <td>New patient targets pledge for NHS</td>\n",
              "      <td>http://bbc.in/17iVMb7</td>\n",
              "      <td>[new, patient, targets, pledge, for, nhs]</td>\n",
              "      <td>(JJ, JJ, NNS, VBP, IN, NN)</td>\n",
              "      <td>[new, patient, target, pledge, for, nh]</td>\n",
              "    </tr>\n",
              "    <tr>\n",
              "      <th>3928</th>\n",
              "      <td>384569546108964864</td>\n",
              "      <td>Mon Sep 30 06:44:59 +0000 2013</td>\n",
              "      <td>C. diff 'manslaughter' inquiry call</td>\n",
              "      <td>http://bbc.in/18DY3Mv</td>\n",
              "      <td>[c, diff, manslaughter, inquiry, call]</td>\n",
              "      <td>(NNS, VBP, NN, NN, NN)</td>\n",
              "      <td>[c, diff, manslaughter, inquiry, call]</td>\n",
              "    </tr>\n",
              "  </tbody>\n",
              "</table>\n",
              "</div>\n",
              "      <button class=\"colab-df-convert\" onclick=\"convertToInteractive('df-48066d7b-c590-4d98-9099-ef1ce7ab2ecb')\"\n",
              "              title=\"Convert this dataframe to an interactive table.\"\n",
              "              style=\"display:none;\">\n",
              "        \n",
              "  <svg xmlns=\"http://www.w3.org/2000/svg\" height=\"24px\"viewBox=\"0 0 24 24\"\n",
              "       width=\"24px\">\n",
              "    <path d=\"M0 0h24v24H0V0z\" fill=\"none\"/>\n",
              "    <path d=\"M18.56 5.44l.94 2.06.94-2.06 2.06-.94-2.06-.94-.94-2.06-.94 2.06-2.06.94zm-11 1L8.5 8.5l.94-2.06 2.06-.94-2.06-.94L8.5 2.5l-.94 2.06-2.06.94zm10 10l.94 2.06.94-2.06 2.06-.94-2.06-.94-.94-2.06-.94 2.06-2.06.94z\"/><path d=\"M17.41 7.96l-1.37-1.37c-.4-.4-.92-.59-1.43-.59-.52 0-1.04.2-1.43.59L10.3 9.45l-7.72 7.72c-.78.78-.78 2.05 0 2.83L4 21.41c.39.39.9.59 1.41.59.51 0 1.02-.2 1.41-.59l7.78-7.78 2.81-2.81c.8-.78.8-2.07 0-2.86zM5.41 20L4 18.59l7.72-7.72 1.47 1.35L5.41 20z\"/>\n",
              "  </svg>\n",
              "      </button>\n",
              "      \n",
              "  <style>\n",
              "    .colab-df-container {\n",
              "      display:flex;\n",
              "      flex-wrap:wrap;\n",
              "      gap: 12px;\n",
              "    }\n",
              "\n",
              "    .colab-df-convert {\n",
              "      background-color: #E8F0FE;\n",
              "      border: none;\n",
              "      border-radius: 50%;\n",
              "      cursor: pointer;\n",
              "      display: none;\n",
              "      fill: #1967D2;\n",
              "      height: 32px;\n",
              "      padding: 0 0 0 0;\n",
              "      width: 32px;\n",
              "    }\n",
              "\n",
              "    .colab-df-convert:hover {\n",
              "      background-color: #E2EBFA;\n",
              "      box-shadow: 0px 1px 2px rgba(60, 64, 67, 0.3), 0px 1px 3px 1px rgba(60, 64, 67, 0.15);\n",
              "      fill: #174EA6;\n",
              "    }\n",
              "\n",
              "    [theme=dark] .colab-df-convert {\n",
              "      background-color: #3B4455;\n",
              "      fill: #D2E3FC;\n",
              "    }\n",
              "\n",
              "    [theme=dark] .colab-df-convert:hover {\n",
              "      background-color: #434B5C;\n",
              "      box-shadow: 0px 1px 3px 1px rgba(0, 0, 0, 0.15);\n",
              "      filter: drop-shadow(0px 1px 2px rgba(0, 0, 0, 0.3));\n",
              "      fill: #FFFFFF;\n",
              "    }\n",
              "  </style>\n",
              "\n",
              "      <script>\n",
              "        const buttonEl =\n",
              "          document.querySelector('#df-48066d7b-c590-4d98-9099-ef1ce7ab2ecb button.colab-df-convert');\n",
              "        buttonEl.style.display =\n",
              "          google.colab.kernel.accessAllowed ? 'block' : 'none';\n",
              "\n",
              "        async function convertToInteractive(key) {\n",
              "          const element = document.querySelector('#df-48066d7b-c590-4d98-9099-ef1ce7ab2ecb');\n",
              "          const dataTable =\n",
              "            await google.colab.kernel.invokeFunction('convertToInteractive',\n",
              "                                                     [key], {});\n",
              "          if (!dataTable) return;\n",
              "\n",
              "          const docLinkHtml = 'Like what you see? Visit the ' +\n",
              "            '<a target=\"_blank\" href=https://colab.research.google.com/notebooks/data_table.ipynb>data table notebook</a>'\n",
              "            + ' to learn more about interactive tables.';\n",
              "          element.innerHTML = '';\n",
              "          dataTable['output_type'] = 'display_data';\n",
              "          await google.colab.output.renderOutput(dataTable, element);\n",
              "          const docLink = document.createElement('div');\n",
              "          docLink.innerHTML = docLinkHtml;\n",
              "          element.appendChild(docLink);\n",
              "        }\n",
              "      </script>\n",
              "    </div>\n",
              "  </div>\n",
              "  "
            ]
          },
          "metadata": {},
          "execution_count": 72
        }
      ]
    },
    {
      "cell_type": "markdown",
      "source": [
        "![image.png](data:image/png;base64,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)\n",
        "![image.png](data:image/png;base64,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)\n",
        "![image.png](data:image/png;base64,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)"
      ],
      "metadata": {
        "id": "N6HHLrKH9Pav"
      }
    },
    {
      "cell_type": "code",
      "source": [
        "tweets['tags'].unique()"
      ],
      "metadata": {
        "id": "z0i7RO5r8yzT",
        "colab": {
          "base_uri": "https://localhost:8080/"
        },
        "outputId": "1a01b84f-92ad-48c8-c480-839541cee920"
      },
      "execution_count": null,
      "outputs": [
        {
          "output_type": "execute_result",
          "data": {
            "text/plain": [
              "array([('NN', 'NN', 'NN', 'NN', 'VBD'),\n",
              "       ('NN', 'NN', 'VBG', 'NN', 'NN', 'NN'),\n",
              "       ('JJ', 'NNS', 'NN', 'NN', 'JJR'), ...,\n",
              "       ('JJ', 'NN', 'IN', 'NNS', 'VBG', 'NN'),\n",
              "       ('NN', 'NN', 'VBD', 'PRP', 'VBD', 'DT', 'NN', 'NN'),\n",
              "       ('NN', 'VBN', 'IN', 'NNS', 'VBD')], dtype=object)"
            ]
          },
          "metadata": {},
          "execution_count": 73
        }
      ]
    },
    {
      "cell_type": "code",
      "source": [
        "tweetsdf = tweets.drop(['tweetId','Date','Link'], axis = 1)\n",
        "tweetsdf.head()"
      ],
      "metadata": {
        "colab": {
          "base_uri": "https://localhost:8080/",
          "height": 206
        },
        "id": "Qv9UAzBUMbz2",
        "outputId": "870cac8e-4374-4c32-be4a-87ada87a9df7"
      },
      "execution_count": null,
      "outputs": [
        {
          "output_type": "execute_result",
          "data": {
            "text/plain": [
              "                                    News  \\\n",
              "0       Breast cancer risk test devised    \n",
              "1   GP workload harming care - BMA poll    \n",
              "2   Short people's 'heart risk greater'    \n",
              "3  New approach against HIV 'promising'    \n",
              "4  Coalition 'undermined NHS' - doctors    \n",
              "\n",
              "                                     tokens                       tags  \\\n",
              "0     [breast, cancer, risk, test, devised]      (NN, NN, NN, NN, VBD)   \n",
              "1  [gp, workload, harming, care, bma, poll]  (NN, NN, VBG, NN, NN, NN)   \n",
              "2    [short, peoples, heart, risk, greater]     (JJ, NNS, NN, NN, JJR)   \n",
              "3  [new, approach, against, hiv, promising]       (JJ, NN, IN, NN, NN)   \n",
              "4     [coalition, undermined, nhs, doctors]         (NN, VBD, JJ, NNS)   \n",
              "\n",
              "                            lemmatizedToken  \n",
              "0     [breast, cancer, risk, test, devised]  \n",
              "1  [gp, workload, harming, care, bma, poll]  \n",
              "2     [short, people, heart, risk, greater]  \n",
              "3  [new, approach, against, hiv, promising]  \n",
              "4       [coalition, undermined, nh, doctor]  "
            ],
            "text/html": [
              "\n",
              "  <div id=\"df-0b7599bb-138b-4882-abd2-3374f54bd6f3\">\n",
              "    <div class=\"colab-df-container\">\n",
              "      <div>\n",
              "<style scoped>\n",
              "    .dataframe tbody tr th:only-of-type {\n",
              "        vertical-align: middle;\n",
              "    }\n",
              "\n",
              "    .dataframe tbody tr th {\n",
              "        vertical-align: top;\n",
              "    }\n",
              "\n",
              "    .dataframe thead th {\n",
              "        text-align: right;\n",
              "    }\n",
              "</style>\n",
              "<table border=\"1\" class=\"dataframe\">\n",
              "  <thead>\n",
              "    <tr style=\"text-align: right;\">\n",
              "      <th></th>\n",
              "      <th>News</th>\n",
              "      <th>tokens</th>\n",
              "      <th>tags</th>\n",
              "      <th>lemmatizedToken</th>\n",
              "    </tr>\n",
              "  </thead>\n",
              "  <tbody>\n",
              "    <tr>\n",
              "      <th>0</th>\n",
              "      <td>Breast cancer risk test devised</td>\n",
              "      <td>[breast, cancer, risk, test, devised]</td>\n",
              "      <td>(NN, NN, NN, NN, VBD)</td>\n",
              "      <td>[breast, cancer, risk, test, devised]</td>\n",
              "    </tr>\n",
              "    <tr>\n",
              "      <th>1</th>\n",
              "      <td>GP workload harming care - BMA poll</td>\n",
              "      <td>[gp, workload, harming, care, bma, poll]</td>\n",
              "      <td>(NN, NN, VBG, NN, NN, NN)</td>\n",
              "      <td>[gp, workload, harming, care, bma, poll]</td>\n",
              "    </tr>\n",
              "    <tr>\n",
              "      <th>2</th>\n",
              "      <td>Short people's 'heart risk greater'</td>\n",
              "      <td>[short, peoples, heart, risk, greater]</td>\n",
              "      <td>(JJ, NNS, NN, NN, JJR)</td>\n",
              "      <td>[short, people, heart, risk, greater]</td>\n",
              "    </tr>\n",
              "    <tr>\n",
              "      <th>3</th>\n",
              "      <td>New approach against HIV 'promising'</td>\n",
              "      <td>[new, approach, against, hiv, promising]</td>\n",
              "      <td>(JJ, NN, IN, NN, NN)</td>\n",
              "      <td>[new, approach, against, hiv, promising]</td>\n",
              "    </tr>\n",
              "    <tr>\n",
              "      <th>4</th>\n",
              "      <td>Coalition 'undermined NHS' - doctors</td>\n",
              "      <td>[coalition, undermined, nhs, doctors]</td>\n",
              "      <td>(NN, VBD, JJ, NNS)</td>\n",
              "      <td>[coalition, undermined, nh, doctor]</td>\n",
              "    </tr>\n",
              "  </tbody>\n",
              "</table>\n",
              "</div>\n",
              "      <button class=\"colab-df-convert\" onclick=\"convertToInteractive('df-0b7599bb-138b-4882-abd2-3374f54bd6f3')\"\n",
              "              title=\"Convert this dataframe to an interactive table.\"\n",
              "              style=\"display:none;\">\n",
              "        \n",
              "  <svg xmlns=\"http://www.w3.org/2000/svg\" height=\"24px\"viewBox=\"0 0 24 24\"\n",
              "       width=\"24px\">\n",
              "    <path d=\"M0 0h24v24H0V0z\" fill=\"none\"/>\n",
              "    <path d=\"M18.56 5.44l.94 2.06.94-2.06 2.06-.94-2.06-.94-.94-2.06-.94 2.06-2.06.94zm-11 1L8.5 8.5l.94-2.06 2.06-.94-2.06-.94L8.5 2.5l-.94 2.06-2.06.94zm10 10l.94 2.06.94-2.06 2.06-.94-2.06-.94-.94-2.06-.94 2.06-2.06.94z\"/><path d=\"M17.41 7.96l-1.37-1.37c-.4-.4-.92-.59-1.43-.59-.52 0-1.04.2-1.43.59L10.3 9.45l-7.72 7.72c-.78.78-.78 2.05 0 2.83L4 21.41c.39.39.9.59 1.41.59.51 0 1.02-.2 1.41-.59l7.78-7.78 2.81-2.81c.8-.78.8-2.07 0-2.86zM5.41 20L4 18.59l7.72-7.72 1.47 1.35L5.41 20z\"/>\n",
              "  </svg>\n",
              "      </button>\n",
              "      \n",
              "  <style>\n",
              "    .colab-df-container {\n",
              "      display:flex;\n",
              "      flex-wrap:wrap;\n",
              "      gap: 12px;\n",
              "    }\n",
              "\n",
              "    .colab-df-convert {\n",
              "      background-color: #E8F0FE;\n",
              "      border: none;\n",
              "      border-radius: 50%;\n",
              "      cursor: pointer;\n",
              "      display: none;\n",
              "      fill: #1967D2;\n",
              "      height: 32px;\n",
              "      padding: 0 0 0 0;\n",
              "      width: 32px;\n",
              "    }\n",
              "\n",
              "    .colab-df-convert:hover {\n",
              "      background-color: #E2EBFA;\n",
              "      box-shadow: 0px 1px 2px rgba(60, 64, 67, 0.3), 0px 1px 3px 1px rgba(60, 64, 67, 0.15);\n",
              "      fill: #174EA6;\n",
              "    }\n",
              "\n",
              "    [theme=dark] .colab-df-convert {\n",
              "      background-color: #3B4455;\n",
              "      fill: #D2E3FC;\n",
              "    }\n",
              "\n",
              "    [theme=dark] .colab-df-convert:hover {\n",
              "      background-color: #434B5C;\n",
              "      box-shadow: 0px 1px 3px 1px rgba(0, 0, 0, 0.15);\n",
              "      filter: drop-shadow(0px 1px 2px rgba(0, 0, 0, 0.3));\n",
              "      fill: #FFFFFF;\n",
              "    }\n",
              "  </style>\n",
              "\n",
              "      <script>\n",
              "        const buttonEl =\n",
              "          document.querySelector('#df-0b7599bb-138b-4882-abd2-3374f54bd6f3 button.colab-df-convert');\n",
              "        buttonEl.style.display =\n",
              "          google.colab.kernel.accessAllowed ? 'block' : 'none';\n",
              "\n",
              "        async function convertToInteractive(key) {\n",
              "          const element = document.querySelector('#df-0b7599bb-138b-4882-abd2-3374f54bd6f3');\n",
              "          const dataTable =\n",
              "            await google.colab.kernel.invokeFunction('convertToInteractive',\n",
              "                                                     [key], {});\n",
              "          if (!dataTable) return;\n",
              "\n",
              "          const docLinkHtml = 'Like what you see? Visit the ' +\n",
              "            '<a target=\"_blank\" href=https://colab.research.google.com/notebooks/data_table.ipynb>data table notebook</a>'\n",
              "            + ' to learn more about interactive tables.';\n",
              "          element.innerHTML = '';\n",
              "          dataTable['output_type'] = 'display_data';\n",
              "          await google.colab.output.renderOutput(dataTable, element);\n",
              "          const docLink = document.createElement('div');\n",
              "          docLink.innerHTML = docLinkHtml;\n",
              "          element.appendChild(docLink);\n",
              "        }\n",
              "      </script>\n",
              "    </div>\n",
              "  </div>\n",
              "  "
            ]
          },
          "metadata": {},
          "execution_count": 74
        }
      ]
    },
    {
      "cell_type": "code",
      "source": [
        "tfidf = TfidfVectorizer()"
      ],
      "metadata": {
        "id": "x5ZE1PmMSefH"
      },
      "execution_count": null,
      "outputs": []
    },
    {
      "cell_type": "code",
      "source": [
        "tfidfMatrix = tfidf.fit_transform(tweetsdf['lemmatizedToken'].map(lambda x: ' '.join(x)).tolist())\n",
        "tfidfMatrix"
      ],
      "metadata": {
        "id": "VSPoiuaOSiYT",
        "colab": {
          "base_uri": "https://localhost:8080/"
        },
        "outputId": "be11cfaf-cf89-41d7-8042-b3c8bcdd03d1"
      },
      "execution_count": null,
      "outputs": [
        {
          "output_type": "execute_result",
          "data": {
            "text/plain": [
              "<3929x3955 sparse matrix of type '<class 'numpy.float64'>'\n",
              "\twith 22123 stored elements in Compressed Sparse Row format>"
            ]
          },
          "metadata": {},
          "execution_count": 76
        }
      ]
    },
    {
      "cell_type": "markdown",
      "source": [
        "#KMEANS CLUSTERING"
      ],
      "metadata": {
        "id": "AVAwOZxOz_mk"
      }
    },
    {
      "cell_type": "code",
      "source": [
        "kmeans = KMeans(n_clusters = 4)\n",
        "kmeans.fit(tfidfMatrix)"
      ],
      "metadata": {
        "colab": {
          "base_uri": "https://localhost:8080/"
        },
        "id": "MFbToWrlTibR",
        "outputId": "d3c063e0-394d-450c-dc15-e342aa8de8c6"
      },
      "execution_count": null,
      "outputs": [
        {
          "output_type": "execute_result",
          "data": {
            "text/plain": [
              "KMeans(n_clusters=4)"
            ]
          },
          "metadata": {},
          "execution_count": 77
        }
      ]
    },
    {
      "cell_type": "code",
      "source": [
        "kmeans.inertia_"
      ],
      "metadata": {
        "colab": {
          "base_uri": "https://localhost:8080/"
        },
        "id": "IM2YgE2RUaKw",
        "outputId": "2f960b9e-3051-4733-c48b-ad6e11cd18f5"
      },
      "execution_count": null,
      "outputs": [
        {
          "output_type": "execute_result",
          "data": {
            "text/plain": [
              "3831.503134703722"
            ]
          },
          "metadata": {},
          "execution_count": 78
        }
      ]
    },
    {
      "cell_type": "code",
      "source": [
        "distortions = []\n",
        "for i in range(1, 11):\n",
        "    km = KMeans(n_clusters=i, \n",
        "                init='k-means++', \n",
        "                n_init=10, \n",
        "                max_iter=300, \n",
        "                random_state=0)\n",
        "    km.fit(tfidfMatrix)\n",
        "    distortions.append(km.inertia_)\n",
        "plt.plot(range(1, 11), distortions, marker='o')\n",
        "plt.xlabel('Number of clusters')\n",
        "plt.ylabel('Distortion')\n",
        "plt.tight_layout()\n",
        "plt.show()"
      ],
      "metadata": {
        "colab": {
          "base_uri": "https://localhost:8080/",
          "height": 297
        },
        "id": "SggZlz2JTtl5",
        "outputId": "bfb1f2ae-7afa-4adf-f162-c67783935a47"
      },
      "execution_count": null,
      "outputs": [
        {
          "output_type": "display_data",
          "data": {
            "text/plain": [
              "<Figure size 432x288 with 1 Axes>"
            ],
            "image/png": "[encoded data removed]"
          },
          "metadata": {
            "needs_background": "light"
          }
        }
      ]
    },
    {
      "cell_type": "code",
      "source": [
        "from matplotlib import cm\n",
        "from sklearn.metrics import silhouette_samples"
      ],
      "metadata": {
        "id": "EvRhfDHVU0Tf"
      },
      "execution_count": null,
      "outputs": []
    },
    {
      "cell_type": "code",
      "source": [
        "\n",
        "km = KMeans(n_clusters=5, \n",
        "            init='k-means++', \n",
        "            n_init=10, \n",
        "            max_iter=300,\n",
        "            tol=1e-04,\n",
        "            random_state=0)\n",
        "y_km = km.fit_predict(tfidfMatrix)\n",
        "\n",
        "cluster_labels = np.unique(y_km)\n",
        "n_clusters = cluster_labels.shape[0]\n",
        "silhouette_vals = silhouette_samples(tfidfMatrix, y_km, metric='euclidean')\n",
        "y_ax_lower, y_ax_upper = 0, 0\n",
        "yticks = []\n",
        "for i, c in enumerate(cluster_labels):\n",
        "    c_silhouette_vals = silhouette_vals[y_km == c]\n",
        "    c_silhouette_vals.sort()\n",
        "    y_ax_upper += len(c_silhouette_vals)\n",
        "    color = cm.jet(i / n_clusters)\n",
        "    plt.barh(range(y_ax_lower, y_ax_upper), c_silhouette_vals, height=1.0, \n",
        "             edgecolor='none', color=color)\n",
        "\n",
        "    yticks.append((y_ax_lower + y_ax_upper) / 2.)\n",
        "    y_ax_lower += len(c_silhouette_vals)\n",
        "    \n",
        "silhouette_avg = np.mean(silhouette_vals)\n",
        "plt.axvline(silhouette_avg, color=\"red\", linestyle=\"--\") \n",
        "\n",
        "plt.yticks(yticks, cluster_labels + 1)\n",
        "plt.ylabel('Cluster')\n",
        "plt.xlabel('Silhouette coefficient')\n",
        "plt.tight_layout()\n",
        "plt.show()"
      ],
      "metadata": {
        "colab": {
          "base_uri": "https://localhost:8080/",
          "height": 297
        },
        "id": "Z6n0BtUVUi6x",
        "outputId": "2ca967a9-31a1-46cd-812d-68aac5e5ebfd"
      },
      "execution_count": null,
      "outputs": [
        {
          "output_type": "display_data",
          "data": {
            "text/plain": [
              "<Figure size 432x288 with 1 Axes>"
            ],
            "image/png": "[encoded data removed]"
          },
          "metadata": {
            "needs_background": "light"
          }
        }
      ]
    },
    {
      "cell_type": "code",
      "source": [
        "km = KMeans(n_clusters=3, \n",
        "            init='k-means++', \n",
        "            n_init=10, \n",
        "            max_iter=300,\n",
        "            tol=1e-04,\n",
        "            random_state=0)\n",
        "y_km = km.fit_predict(tfidfMatrix)\n",
        "\n",
        "cluster_labels = np.unique(y_km)\n",
        "n_clusters = cluster_labels.shape[0]\n",
        "silhouette_vals = silhouette_samples(tfidfMatrix, y_km, metric='euclidean')\n",
        "y_ax_lower, y_ax_upper = 0, 0\n",
        "yticks = []\n",
        "for i, c in enumerate(cluster_labels):\n",
        "    c_silhouette_vals = silhouette_vals[y_km == c]\n",
        "    c_silhouette_vals.sort()\n",
        "    y_ax_upper += len(c_silhouette_vals)\n",
        "    color = cm.jet(i / n_clusters)\n",
        "    plt.barh(range(y_ax_lower, y_ax_upper), c_silhouette_vals, height=1.0, \n",
        "             edgecolor='none', color=color)\n",
        "\n",
        "    yticks.append((y_ax_lower + y_ax_upper) / 2.)\n",
        "    y_ax_lower += len(c_silhouette_vals)\n",
        "    \n",
        "silhouette_avg = np.mean(silhouette_vals)\n",
        "plt.axvline(silhouette_avg, color=\"red\", linestyle=\"--\") \n",
        "\n",
        "plt.yticks(yticks, cluster_labels + 1)\n",
        "plt.ylabel('Cluster')\n",
        "plt.xlabel('Silhouette coefficient')\n",
        "plt.tight_layout()\n",
        "plt.show()"
      ],
      "metadata": {
        "colab": {
          "base_uri": "https://localhost:8080/",
          "height": 297
        },
        "id": "rOHfk33hE3Gx",
        "outputId": "6858495a-c1ac-4ec6-be2d-fbaa3513c16d"
      },
      "execution_count": null,
      "outputs": [
        {
          "output_type": "display_data",
          "data": {
            "text/plain": [
              "<Figure size 432x288 with 1 Axes>"
            ],
            "image/png": "[encoded data removed]"
          },
          "metadata": {
            "needs_background": "light"
          }
        }
      ]
    },
    {
      "cell_type": "code",
      "source": [
        "km = KMeans(n_clusters=7, \n",
        "            init='k-means++', \n",
        "            n_init=10, \n",
        "            max_iter=300,\n",
        "            tol=1e-04,\n",
        "            random_state=0)\n",
        "y_km = km.fit_predict(tfidfMatrix)\n",
        "\n",
        "cluster_labels = np.unique(y_km)\n",
        "n_clusters = cluster_labels.shape[0]\n",
        "silhouette_vals = silhouette_samples(tfidfMatrix, y_km, metric='euclidean')\n",
        "y_ax_lower, y_ax_upper = 0, 0\n",
        "yticks = []\n",
        "for i, c in enumerate(cluster_labels):\n",
        "    c_silhouette_vals = silhouette_vals[y_km == c]\n",
        "    c_silhouette_vals.sort()\n",
        "    y_ax_upper += len(c_silhouette_vals)\n",
        "    color = cm.jet(i / n_clusters)\n",
        "    plt.barh(range(y_ax_lower, y_ax_upper), c_silhouette_vals, height=1.0, \n",
        "             edgecolor='none', color=color)\n",
        "\n",
        "    yticks.append((y_ax_lower + y_ax_upper) / 2.)\n",
        "    y_ax_lower += len(c_silhouette_vals)\n",
        "    \n",
        "silhouette_avg = np.mean(silhouette_vals)\n",
        "plt.axvline(silhouette_avg, color=\"red\", linestyle=\"--\") \n",
        "\n",
        "plt.yticks(yticks, cluster_labels + 1)\n",
        "plt.ylabel('Cluster')\n",
        "plt.xlabel('Silhouette coefficient')\n",
        "plt.tight_layout()\n",
        "plt.show()"
      ],
      "metadata": {
        "colab": {
          "base_uri": "https://localhost:8080/",
          "height": 297
        },
        "id": "KxEU1KGGFL4u",
        "outputId": "5ea37069-f51d-4e41-e900-240ba347646c"
      },
      "execution_count": null,
      "outputs": [
        {
          "output_type": "display_data",
          "data": {
            "text/plain": [
              "<Figure size 432x288 with 1 Axes>"
            ],
            "image/png": "[encoded data removed]"
          },
          "metadata": {
            "needs_background": "light"
          }
        }
      ]
    },
    {
      "cell_type": "code",
      "source": [
        "type(tfidfMatrix.toarray())"
      ],
      "metadata": {
        "colab": {
          "base_uri": "https://localhost:8080/"
        },
        "id": "IaRhzclqGjJ6",
        "outputId": "49ed12da-f21d-412c-a174-31bf170e747d"
      },
      "execution_count": null,
      "outputs": [
        {
          "output_type": "execute_result",
          "data": {
            "text/plain": [
              "numpy.ndarray"
            ]
          },
          "metadata": {},
          "execution_count": 84
        }
      ]
    },
    {
      "cell_type": "markdown",
      "source": [
        "#AGGLOMERATIVE CLUSTERING"
      ],
      "metadata": {
        "id": "SLLFOqLv0qpT"
      }
    },
    {
      "cell_type": "code",
      "source": [
        "from sklearn.cluster import AgglomerativeClustering"
      ],
      "metadata": {
        "id": "DXUGQ86NXmQ1"
      },
      "execution_count": null,
      "outputs": []
    },
    {
      "cell_type": "code",
      "source": [
        "agg = AgglomerativeClustering(n_clusters = 5, affinity=\"cosine\", compute_distances = True, linkage=\"average\")\n",
        "y = agg.fit(tfidfMatrix.toarray())"
      ],
      "metadata": {
        "id": "EogVTHtLFm5x"
      },
      "execution_count": null,
      "outputs": []
    },
    {
      "cell_type": "code",
      "source": [
        "from scipy.cluster.hierarchy import dendrogram"
      ],
      "metadata": {
        "id": "rMoXwIKiGMAY"
      },
      "execution_count": null,
      "outputs": []
    },
    {
      "cell_type": "code",
      "source": [
        "def plot_dendrogram(model, **kwargs):\n",
        "    # Create linkage matrix and then plot the dendrogram\n",
        "\n",
        "    # create the counts of samples under each node\n",
        "    counts = np.zeros(model.children_.shape[0])\n",
        "   #print(\"counts : \" + str(counts))\n",
        "    n_samples = len(model.labels_)\n",
        "    #print(\"n_samples : \" + str(n_samples))\n",
        "    for i, merge in enumerate(model.children_):\n",
        "        current_count = 0\n",
        "        #print(merge)\n",
        "        for child_idx in merge:\n",
        "            #print(\"child_idx : \" + str(child_idx))\n",
        "            if child_idx < n_samples:\n",
        "                current_count += 1  # leaf node\n",
        "            else:\n",
        "                current_count += counts[child_idx - n_samples]\n",
        "            #print(\"current_count : \"  + str(current_count))\n",
        "        counts[i] = current_count\n",
        "\n",
        "    linkage_matrix = np.column_stack(\n",
        "        [model.children_, model.distances_, counts]\n",
        "    ).astype(float)\n",
        "\n",
        "    # Plot the corresponding dendrogram\n",
        "    dendrogram(linkage_matrix,**kwargs)"
      ],
      "metadata": {
        "id": "X7gA84bzQaaO"
      },
      "execution_count": null,
      "outputs": []
    },
    {
      "cell_type": "code",
      "source": [
        "plt.figure(figsize=(15,15))\n",
        "plt.title(\"Hierarchical Clustering Dendrogram\")\n",
        "# plot the top three levels of the dendrogram\n",
        "plot_dendrogram(agg, truncate_mode=\"level\", p = 7)\n",
        "plt.xlabel(\"Number of points in node (or index of point if no parenthesis).\")\n",
        "plt.show()"
      ],
      "metadata": {
        "colab": {
          "base_uri": "https://localhost:8080/",
          "height": 908
        },
        "id": "aYPHrvQXQgnz",
        "outputId": "31d5e51f-c253-4898-90f1-9924f2fb7c23"
      },
      "execution_count": null,
      "outputs": [
        {
          "output_type": "display_data",
          "data": {
            "text/plain": [
              "<Figure size 1080x1080 with 1 Axes>"
            ],
            "image/png": "[encoded data removed]"
          },
          "metadata": {
            "needs_background": "light"
          }
        }
      ]
    },
    {
      "cell_type": "markdown",
      "source": [
        "#DBSCAN"
      ],
      "metadata": {
        "id": "BjxEIJ1s0vNt"
      }
    },
    {
      "cell_type": "code",
      "source": [
        "from sklearn.cluster import DBSCAN"
      ],
      "metadata": {
        "id": "9tt6PMziQ3JR"
      },
      "execution_count": null,
      "outputs": []
    },
    {
      "cell_type": "code",
      "source": [
        "dbscan = DBSCAN(eps=0.6 ,min_samples=10,metric='cosine')\n",
        "yDBSCAN = dbscan.fit(tfidfMatrix)\n"
      ],
      "metadata": {
        "id": "pT7uaEBpV3Hz"
      },
      "execution_count": null,
      "outputs": []
    },
    {
      "cell_type": "code",
      "source": [
        "np.unique(dbscan.labels_)"
      ],
      "metadata": {
        "colab": {
          "base_uri": "https://localhost:8080/"
        },
        "id": "RdeEPHAzjuba",
        "outputId": "418aca47-f3b4-46b4-f0c1-c6909d978913"
      },
      "execution_count": null,
      "outputs": [
        {
          "output_type": "execute_result",
          "data": {
            "text/plain": [
              "array([-1,  0,  1,  2,  3,  4,  5,  6])"
            ]
          },
          "metadata": {},
          "execution_count": 92
        }
      ]
    },
    {
      "cell_type": "code",
      "source": [
        "dbscan.core_sample_indices_"
      ],
      "metadata": {
        "colab": {
          "base_uri": "https://localhost:8080/"
        },
        "id": "1m781sotloWi",
        "outputId": "300fee8b-007e-4ca7-e8f0-b968e196d529"
      },
      "execution_count": null,
      "outputs": [
        {
          "output_type": "execute_result",
          "data": {
            "text/plain": [
              "array([  50,   56,  115,  121,  124,  199,  200,  234,  279,  333,  422,\n",
              "        430,  647,  711,  740,  776,  782,  800,  825,  916,  934,  935,\n",
              "        963, 1017, 1040, 1106, 1107, 1361, 1436, 1478, 1548, 1550, 1598,\n",
              "       1623, 1720, 1807, 1880, 2053, 2187, 2220, 2236, 2354, 2383, 2476,\n",
              "       2782, 2898, 2970, 3035, 3330, 3337, 3339, 3360, 3793])"
            ]
          },
          "metadata": {},
          "execution_count": 93
        }
      ]
    },
    {
      "cell_type": "code",
      "source": [
        "from sklearn.neighbors import NearestNeighbors\n"
      ],
      "metadata": {
        "id": "JH3J7Gh5Avvq"
      },
      "execution_count": null,
      "outputs": []
    },
    {
      "cell_type": "code",
      "source": [
        "nn = NearestNeighbors(n_neighbors = 10, metric = \"cosine\")\n",
        "neighbours = nn.fit(tfidfMatrix)"
      ],
      "metadata": {
        "id": "Em99bt8RAwHG"
      },
      "execution_count": null,
      "outputs": []
    },
    {
      "cell_type": "code",
      "source": [
        "dist, indices = neighbours.kneighbors(tfidfMatrix)\n",
        "dist"
      ],
      "metadata": {
        "colab": {
          "base_uri": "https://localhost:8080/"
        },
        "id": "st5hAkKt9S3_",
        "outputId": "6234b80f-2a99-4e1e-a195-d0785bd31370"
      },
      "execution_count": null,
      "outputs": [
        {
          "output_type": "execute_result",
          "data": {
            "text/plain": [
              "array([[0.        , 0.53769711, 0.56647882, ..., 0.70284013, 0.70309846,\n",
              "        0.7041544 ],\n",
              "       [0.        , 0.6673207 , 0.74319484, ..., 0.81127769, 0.83319872,\n",
              "        0.86953287],\n",
              "       [0.        , 0.68676315, 0.69668819, ..., 0.75529039, 0.75841337,\n",
              "        0.76145859],\n",
              "       ...,\n",
              "       [0.        , 0.57686056, 0.70110765, ..., 0.75558944, 0.75581581,\n",
              "        0.76411798],\n",
              "       [0.        , 0.5555709 , 0.61750295, ..., 0.64767934, 0.64985829,\n",
              "        0.65073599],\n",
              "       [0.        , 0.6172687 , 0.67191145, ..., 0.72688814, 0.73436706,\n",
              "        0.75367256]])"
            ]
          },
          "metadata": {},
          "execution_count": 96
        }
      ]
    },
    {
      "cell_type": "code",
      "source": [
        "indices"
      ],
      "metadata": {
        "colab": {
          "base_uri": "https://localhost:8080/"
        },
        "id": "tt9BFwf19aos",
        "outputId": "702de88f-8614-4915-d526-b6b17bedd21d"
      },
      "execution_count": null,
      "outputs": [
        {
          "output_type": "execute_result",
          "data": {
            "text/plain": [
              "array([[   0, 3330, 3893, ..., 3288, 1720, 3921],\n",
              "       [   1, 2029, 3803, ..., 3643, 3856, 2279],\n",
              "       [   2, 1937,  191, ..., 2538, 3593, 3070],\n",
              "       ...,\n",
              "       [3926, 2385, 2897, ...,  665, 2482, 3348],\n",
              "       [3927, 3449,  355, ..., 1302,  906,  234],\n",
              "       [3928, 3753, 2417, ...,  818, 1913, 2190]])"
            ]
          },
          "metadata": {},
          "execution_count": 97
        }
      ]
    },
    {
      "cell_type": "code",
      "source": [
        "distances = np.sort(dist, axis=0)\n",
        "distances"
      ],
      "metadata": {
        "colab": {
          "base_uri": "https://localhost:8080/"
        },
        "id": "KSmjHnld9woZ",
        "outputId": "b0eb1270-a0b1-4bfb-b11f-9fedcbf7ba8c"
      },
      "execution_count": null,
      "outputs": [
        {
          "output_type": "execute_result",
          "data": {
            "text/plain": [
              "array([[0.00000000e+00, 0.00000000e+00, 1.66220947e-02, ...,\n",
              "        4.14491359e-01, 4.19905602e-01, 4.54188493e-01],\n",
              "       [0.00000000e+00, 0.00000000e+00, 1.66220947e-02, ...,\n",
              "        4.16542777e-01, 4.45766726e-01, 4.61419461e-01],\n",
              "       [0.00000000e+00, 0.00000000e+00, 1.66220947e-02, ...,\n",
              "        4.26893923e-01, 4.50784444e-01, 4.74304224e-01],\n",
              "       ...,\n",
              "       [2.22044605e-16, 8.67263879e-01, 8.85389699e-01, ...,\n",
              "        1.00000000e+00, 1.00000000e+00, 1.00000000e+00],\n",
              "       [3.33066907e-16, 8.77862912e-01, 8.96742808e-01, ...,\n",
              "        1.00000000e+00, 1.00000000e+00, 1.00000000e+00],\n",
              "       [4.44089210e-16, 9.24475175e-01, 9.32303280e-01, ...,\n",
              "        1.00000000e+00, 1.00000000e+00, 1.00000000e+00]])"
            ]
          },
          "metadata": {},
          "execution_count": 98
        }
      ]
    },
    {
      "cell_type": "code",
      "source": [
        "distances = distances[:,1]"
      ],
      "metadata": {
        "id": "j12C4IwK9gVB"
      },
      "execution_count": null,
      "outputs": []
    },
    {
      "cell_type": "code",
      "source": [
        "distances"
      ],
      "metadata": {
        "colab": {
          "base_uri": "https://localhost:8080/"
        },
        "id": "Yz4GCT-19jTT",
        "outputId": "d5db0c39-5723-4654-ba74-ba092b87402f"
      },
      "execution_count": null,
      "outputs": [
        {
          "output_type": "execute_result",
          "data": {
            "text/plain": [
              "array([0.        , 0.        , 0.        , ..., 0.86726388, 0.87786291,\n",
              "       0.92447518])"
            ]
          },
          "metadata": {},
          "execution_count": 100
        }
      ]
    },
    {
      "cell_type": "code",
      "source": [
        "plt.plot(distances)\n",
        "plt.xlabel(\"Distances\")\n",
        "plt.ylabel(\"Epsilon\")"
      ],
      "metadata": {
        "colab": {
          "base_uri": "https://localhost:8080/",
          "height": 297
        },
        "id": "j5GRfpcUBCNt",
        "outputId": "4ff2c218-9fd3-4c89-a1d0-024e4566e2b8"
      },
      "execution_count": null,
      "outputs": [
        {
          "output_type": "execute_result",
          "data": {
            "text/plain": [
              "Text(0, 0.5, 'Epsilon')"
            ]
          },
          "metadata": {},
          "execution_count": 101
        },
        {
          "output_type": "display_data",
          "data": {
            "text/plain": [
              "<Figure size 432x288 with 1 Axes>"
            ],
            "image/png": "[encoded data removed]"
          },
          "metadata": {
            "needs_background": "light"
          }
        }
      ]
    },
    {
      "cell_type": "code",
      "source": [
        "dbscan = DBSCAN(eps=0.72 ,min_samples=10,metric='cosine')\n",
        "yDBSCAN = dbscan.fit(tfidfMatrix)"
      ],
      "metadata": {
        "id": "WGIzTz_4BUiP"
      },
      "execution_count": null,
      "outputs": []
    },
    {
      "cell_type": "code",
      "source": [
        "np.unique(dbscan.labels_)"
      ],
      "metadata": {
        "colab": {
          "base_uri": "https://localhost:8080/"
        },
        "id": "NHdv--6RBnVk",
        "outputId": "f09a6ce0-f3a9-4a36-9757-0975d444f1ff"
      },
      "execution_count": null,
      "outputs": [
        {
          "output_type": "execute_result",
          "data": {
            "text/plain": [
              "array([-1,  0,  1,  2,  3,  4,  5,  6,  7])"
            ]
          },
          "metadata": {},
          "execution_count": 103
        }
      ]
    },
    {
      "cell_type": "code",
      "source": [
        "dbscan.core_sample_indices_"
      ],
      "metadata": {
        "colab": {
          "base_uri": "https://localhost:8080/"
        },
        "id": "nuorWo40Bp9Y",
        "outputId": "ca68e9a8-5b6f-4c48-ab36-79a9d7ab9af2"
      },
      "execution_count": null,
      "outputs": [
        {
          "output_type": "execute_result",
          "data": {
            "text/plain": [
              "array([   0,    7,    8,   11,   17,   22,   24,   30,   48,   50,   51,\n",
              "         56,   61,   66,   70,   72,   74,   92,   99,  100,  105,  115,\n",
              "        119,  121,  124,  126,  133,  134,  137,  140,  143,  153,  158,\n",
              "        166,  171,  176,  179,  186,  192,  194,  199,  200,  201,  203,\n",
              "        209,  223,  234,  237,  249,  250,  252,  258,  266,  268,  271,\n",
              "        278,  279,  280,  284,  291,  292,  294,  295,  305,  320,  326,\n",
              "        327,  333,  341,  357,  364,  370,  376,  384,  387,  390,  391,\n",
              "        399,  401,  405,  407,  408,  410,  412,  417,  421,  422,  423,\n",
              "        430,  437,  447,  454,  457,  464,  466,  471,  473,  475,  478,\n",
              "        503,  505,  508,  514,  516,  521,  523,  524,  526,  527,  528,\n",
              "        532,  533,  534,  537,  542,  561,  562,  572,  574,  577,  579,\n",
              "        580,  594,  599,  603,  612,  613,  614,  617,  618,  621,  627,\n",
              "        629,  635,  636,  638,  640,  642,  645,  647,  648,  649,  654,\n",
              "        657,  666,  668,  676,  677,  685,  686,  687,  690,  691,  708,\n",
              "        711,  723,  728,  729,  734,  740,  741,  742,  743,  744,  747,\n",
              "        753,  757,  767,  768,  770,  772,  776,  782,  784,  788,  792,\n",
              "        800,  806,  807,  818,  821,  825,  831,  834,  877,  882,  888,\n",
              "        890,  895,  906,  908,  910,  911,  916,  925,  926,  928,  929,\n",
              "        932,  933,  934,  935,  941,  942,  944,  945,  946,  949,  955,\n",
              "        963,  966,  967,  973,  975,  992, 1001, 1014, 1016, 1017, 1021,\n",
              "       1025, 1034, 1035, 1037, 1040, 1054, 1062, 1063, 1092, 1093, 1095,\n",
              "       1103, 1106, 1107, 1118, 1121, 1123, 1126, 1139, 1141, 1144, 1145,\n",
              "       1150, 1170, 1171, 1177, 1184, 1202, 1205, 1212, 1217, 1229, 1232,\n",
              "       1251, 1259, 1266, 1272, 1277, 1280, 1287, 1291, 1296, 1298, 1299,\n",
              "       1300, 1302, 1303, 1312, 1315, 1317, 1320, 1323, 1325, 1326, 1333,\n",
              "       1337, 1338, 1342, 1345, 1348, 1349, 1352, 1356, 1361, 1364, 1366,\n",
              "       1372, 1379, 1396, 1397, 1403, 1404, 1407, 1408, 1410, 1417, 1423,\n",
              "       1426, 1427, 1434, 1436, 1445, 1446, 1460, 1462, 1465, 1467, 1468,\n",
              "       1469, 1473, 1475, 1478, 1483, 1506, 1514, 1518, 1522, 1523, 1525,\n",
              "       1532, 1534, 1538, 1545, 1548, 1550, 1551, 1567, 1578, 1597, 1598,\n",
              "       1602, 1611, 1617, 1619, 1623, 1654, 1655, 1660, 1661, 1677, 1678,\n",
              "       1681, 1682, 1692, 1696, 1710, 1713, 1717, 1718, 1720, 1722, 1723,\n",
              "       1724, 1727, 1728, 1734, 1735, 1739, 1740, 1744, 1747, 1750, 1758,\n",
              "       1759, 1774, 1780, 1784, 1788, 1791, 1793, 1799, 1802, 1807, 1808,\n",
              "       1815, 1817, 1823, 1831, 1833, 1842, 1860, 1863, 1871, 1872, 1879,\n",
              "       1880, 1885, 1887, 1888, 1891, 1896, 1903, 1905, 1909, 1913, 1917,\n",
              "       1921, 1929, 1932, 1937, 1939, 1942, 1944, 1946, 1953, 1971, 1972,\n",
              "       1974, 1981, 1984, 1986, 1990, 1994, 2003, 2004, 2017, 2029, 2032,\n",
              "       2033, 2037, 2039, 2047, 2050, 2053, 2074, 2075, 2076, 2081, 2096,\n",
              "       2120, 2122, 2128, 2131, 2140, 2141, 2148, 2155, 2157, 2166, 2167,\n",
              "       2174, 2176, 2184, 2187, 2190, 2191, 2198, 2206, 2208, 2211, 2213,\n",
              "       2216, 2220, 2224, 2231, 2236, 2247, 2258, 2274, 2277, 2282, 2301,\n",
              "       2323, 2335, 2338, 2342, 2352, 2354, 2357, 2362, 2383, 2385, 2388,\n",
              "       2400, 2402, 2405, 2410, 2413, 2417, 2429, 2435, 2445, 2459, 2476,\n",
              "       2480, 2484, 2497, 2507, 2511, 2532, 2535, 2541, 2553, 2559, 2560,\n",
              "       2568, 2573, 2584, 2586, 2590, 2591, 2593, 2599, 2603, 2605, 2618,\n",
              "       2623, 2627, 2630, 2651, 2657, 2662, 2666, 2668, 2670, 2673, 2679,\n",
              "       2686, 2705, 2710, 2726, 2740, 2749, 2753, 2760, 2762, 2764, 2774,\n",
              "       2782, 2784, 2785, 2799, 2804, 2810, 2817, 2827, 2831, 2844, 2849,\n",
              "       2853, 2854, 2857, 2864, 2872, 2888, 2896, 2898, 2934, 2944, 2948,\n",
              "       2952, 2955, 2958, 2960, 2967, 2970, 2984, 2987, 2989, 2995, 3008,\n",
              "       3015, 3027, 3034, 3035, 3039, 3045, 3073, 3076, 3090, 3094, 3097,\n",
              "       3100, 3110, 3116, 3127, 3133, 3135, 3136, 3143, 3144, 3150, 3166,\n",
              "       3172, 3177, 3198, 3199, 3235, 3236, 3263, 3282, 3288, 3290, 3304,\n",
              "       3317, 3318, 3325, 3327, 3330, 3337, 3338, 3339, 3360, 3363, 3372,\n",
              "       3377, 3383, 3386, 3387, 3406, 3431, 3434, 3436, 3447, 3462, 3511,\n",
              "       3513, 3528, 3529, 3531, 3544, 3554, 3555, 3562, 3572, 3577, 3580,\n",
              "       3584, 3592, 3615, 3638, 3649, 3651, 3656, 3658, 3662, 3663, 3664,\n",
              "       3668, 3671, 3675, 3680, 3682, 3686, 3691, 3703, 3723, 3724, 3733,\n",
              "       3746, 3747, 3753, 3759, 3770, 3782, 3786, 3793, 3812, 3843, 3848,\n",
              "       3865, 3868, 3872, 3887, 3891, 3893, 3900, 3907, 3921, 3927])"
            ]
          },
          "metadata": {},
          "execution_count": 104
        }
      ]
    },
    {
      "cell_type": "code",
      "source": [
        "dbscan75= DBSCAN(eps=0.75 ,min_samples=10,metric='cosine')\n",
        "yDBSCAN75 = dbscan75.fit(tfidfMatrix)\n",
        "dbscan75.core_sample_indices_"
      ],
      "metadata": {
        "colab": {
          "base_uri": "https://localhost:8080/"
        },
        "id": "9W4KaY_O_YQU",
        "outputId": "a9d5e7a6-7256-479d-b718-9cf131abbe2c"
      },
      "execution_count": null,
      "outputs": [
        {
          "output_type": "execute_result",
          "data": {
            "text/plain": [
              "array([   0,    7,    8, ..., 3907, 3921, 3927])"
            ]
          },
          "metadata": {},
          "execution_count": 105
        }
      ]
    },
    {
      "cell_type": "code",
      "source": [
        "np.unique(dbscan75.labels_)"
      ],
      "metadata": {
        "colab": {
          "base_uri": "https://localhost:8080/"
        },
        "id": "1IEuA4U__gzP",
        "outputId": "26df8134-7855-4a45-b597-b707946c9fcf"
      },
      "execution_count": null,
      "outputs": [
        {
          "output_type": "execute_result",
          "data": {
            "text/plain": [
              "array([-1,  0,  1])"
            ]
          },
          "metadata": {},
          "execution_count": 106
        }
      ]
    },
    {
      "cell_type": "code",
      "source": [
        "dbscan78= DBSCAN(eps=0.78 ,min_samples=10,metric='cosine')\n",
        "yDBSCAN78 = dbscan78.fit(tfidfMatrix)"
      ],
      "metadata": {
        "id": "EmgE75xmUGXY"
      },
      "execution_count": null,
      "outputs": []
    },
    {
      "cell_type": "code",
      "source": [
        "np.unique(dbscan78.labels_)"
      ],
      "metadata": {
        "colab": {
          "base_uri": "https://localhost:8080/"
        },
        "id": "AdoXv5xy_pTH",
        "outputId": "1aa0cf73-3031-4dbe-8e90-be044363f8c7"
      },
      "execution_count": null,
      "outputs": [
        {
          "output_type": "execute_result",
          "data": {
            "text/plain": [
              "array([-1,  0])"
            ]
          },
          "metadata": {},
          "execution_count": 108
        }
      ]
    },
    {
      "cell_type": "code",
      "source": [
        "dbscan78.core_sample_indices_"
      ],
      "metadata": {
        "colab": {
          "base_uri": "https://localhost:8080/"
        },
        "id": "NazXF1CQ-T7A",
        "outputId": "4cc792bc-4113-4e9b-b916-a1ec3f5e8277"
      },
      "execution_count": null,
      "outputs": [
        {
          "output_type": "execute_result",
          "data": {
            "text/plain": [
              "array([   0,    2,    5, ..., 3926, 3927, 3928])"
            ]
          },
          "metadata": {},
          "execution_count": 109
        }
      ]
    },
    {
      "cell_type": "code",
      "source": [
        "dbscan79= DBSCAN(eps=0.79 ,min_samples=10,metric='cosine')\n",
        "yDBSCAN79 = dbscan79.fit(tfidfMatrix)\n",
        "dbscan79.core_sample_indices_"
      ],
      "metadata": {
        "colab": {
          "base_uri": "https://localhost:8080/"
        },
        "id": "svmCZZbmVU6m",
        "outputId": "eff3d0be-1764-4729-84c2-af9cba8e5469"
      },
      "execution_count": null,
      "outputs": [
        {
          "output_type": "execute_result",
          "data": {
            "text/plain": [
              "array([   0,    2,    3, ..., 3926, 3927, 3928])"
            ]
          },
          "metadata": {},
          "execution_count": 110
        }
      ]
    },
    {
      "cell_type": "code",
      "source": [
        "np.unique(dbscan79.labels_)"
      ],
      "metadata": {
        "id": "JY4XM9isVjHk",
        "colab": {
          "base_uri": "https://localhost:8080/"
        },
        "outputId": "97d3bc5d-1e7c-425b-cd09-d9b12f6f976c"
      },
      "execution_count": null,
      "outputs": [
        {
          "output_type": "execute_result",
          "data": {
            "text/plain": [
              "array([-1,  0])"
            ]
          },
          "metadata": {},
          "execution_count": 111
        }
      ]
    },
    {
      "cell_type": "code",
      "source": [
        ""
      ],
      "metadata": {
        "id": "WVa-t7iQ_upu"
      },
      "execution_count": null,
      "outputs": []
    }
  ]
}